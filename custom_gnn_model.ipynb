{
 "cells": [
  {
   "cell_type": "code",
   "execution_count": 1,
   "id": "98288413",
   "metadata": {
    "_cell_guid": "7e3ab8b8-8781-4d27-958b-ea47012eb172",
    "_uuid": "632c42d7-0e51-42ee-8205-cc7fec9d0c56",
    "collapsed": false,
    "execution": {
     "iopub.execute_input": "2023-02-22T06:39:06.229713Z",
     "iopub.status.busy": "2023-02-22T06:39:06.227493Z",
     "iopub.status.idle": "2023-02-22T06:41:24.299694Z",
     "shell.execute_reply": "2023-02-22T06:41:24.298564Z"
    },
    "jupyter": {
     "outputs_hidden": false
    },
    "papermill": {
     "duration": 138.089862,
     "end_time": "2023-02-22T06:41:24.302994",
     "exception": false,
     "start_time": "2023-02-22T06:39:06.213132",
     "status": "completed"
    },
    "tags": []
   },
   "outputs": [
    {
     "name": "stdout",
     "output_type": "stream",
     "text": [
      "Installing /kaggle/input/pytorchgeometric/torch_cluster-1.6.0-cp37-cp37m-linux_x86_64.whl\n",
      "Processing /kaggle/input/pytorchgeometric/torch_cluster-1.6.0-cp37-cp37m-linux_x86_64.whl\n",
      "Installing collected packages: torch-cluster\n",
      "Successfully installed torch-cluster-1.6.0\n"
     ]
    },
    {
     "name": "stderr",
     "output_type": "stream",
     "text": [
      "WARNING: Running pip as the 'root' user can result in broken permissions and conflicting behaviour with the system package manager. It is recommended to use a virtual environment instead: https://pip.pypa.io/warnings/venv\n",
      "WARNING: There was an error checking the latest version of pip.\n"
     ]
    },
    {
     "name": "stdout",
     "output_type": "stream",
     "text": [
      "Installing /kaggle/input/pytorchgeometric/torch_scatter-2.1.0-cp37-cp37m-linux_x86_64.whl\n",
      "Processing /kaggle/input/pytorchgeometric/torch_scatter-2.1.0-cp37-cp37m-linux_x86_64.whl\n",
      "Installing collected packages: torch-scatter\n",
      "Successfully installed torch-scatter-2.1.0\n"
     ]
    },
    {
     "name": "stderr",
     "output_type": "stream",
     "text": [
      "WARNING: Running pip as the 'root' user can result in broken permissions and conflicting behaviour with the system package manager. It is recommended to use a virtual environment instead: https://pip.pypa.io/warnings/venv\n",
      "WARNING: There was an error checking the latest version of pip.\n"
     ]
    },
    {
     "name": "stdout",
     "output_type": "stream",
     "text": [
      "Installing /kaggle/input/pytorchgeometric/torch_sparse-0.6.16-cp37-cp37m-linux_x86_64.whl\n",
      "Processing /kaggle/input/pytorchgeometric/torch_sparse-0.6.16-cp37-cp37m-linux_x86_64.whl\n",
      "Installing collected packages: torch-sparse\n",
      "Successfully installed torch-sparse-0.6.16\n"
     ]
    },
    {
     "name": "stderr",
     "output_type": "stream",
     "text": [
      "WARNING: Running pip as the 'root' user can result in broken permissions and conflicting behaviour with the system package manager. It is recommended to use a virtual environment instead: https://pip.pypa.io/warnings/venv\n",
      "WARNING: There was an error checking the latest version of pip.\n"
     ]
    },
    {
     "name": "stdout",
     "output_type": "stream",
     "text": [
      "Installing /kaggle/input/pytorchgeometric/torch_spline_conv-1.2.1-cp37-cp37m-linux_x86_64.whl\n",
      "Processing /kaggle/input/pytorchgeometric/torch_spline_conv-1.2.1-cp37-cp37m-linux_x86_64.whl\n",
      "Installing collected packages: torch-spline-conv\n",
      "Successfully installed torch-spline-conv-1.2.1\n"
     ]
    },
    {
     "name": "stderr",
     "output_type": "stream",
     "text": [
      "WARNING: Running pip as the 'root' user can result in broken permissions and conflicting behaviour with the system package manager. It is recommended to use a virtual environment instead: https://pip.pypa.io/warnings/venv\n",
      "WARNING: There was an error checking the latest version of pip.\n"
     ]
    },
    {
     "name": "stdout",
     "output_type": "stream",
     "text": [
      "Installing /kaggle/input/pytorchgeometric/torch_geometric-2.2.0-py3-none-any.whl\n",
      "Processing /kaggle/input/pytorchgeometric/torch_geometric-2.2.0-py3-none-any.whl\n",
      "Installing collected packages: torch-geometric\n",
      "Successfully installed torch-geometric-2.2.0\n"
     ]
    },
    {
     "name": "stderr",
     "output_type": "stream",
     "text": [
      "WARNING: Running pip as the 'root' user can result in broken permissions and conflicting behaviour with the system package manager. It is recommended to use a virtual environment instead: https://pip.pypa.io/warnings/venv\n",
      "WARNING: There was an error checking the latest version of pip.\n"
     ]
    },
    {
     "name": "stdout",
     "output_type": "stream",
     "text": [
      "Installing /kaggle/input/pytorchgeometric/ruamel.yaml-0.17.21-py3-none-any.whl\n",
      "Processing /kaggle/input/pytorchgeometric/ruamel.yaml-0.17.21-py3-none-any.whl\n",
      "Installing collected packages: ruamel.yaml\n",
      "Successfully installed ruamel.yaml-0.17.21\n"
     ]
    },
    {
     "name": "stderr",
     "output_type": "stream",
     "text": [
      "WARNING: Running pip as the 'root' user can result in broken permissions and conflicting behaviour with the system package manager. It is recommended to use a virtual environment instead: https://pip.pypa.io/warnings/venv\n",
      "WARNING: There was an error checking the latest version of pip.\n"
     ]
    }
   ],
   "source": [
    "import getpass\n",
    "from pathlib import Path\n",
    "from typing import Any, Callable, List, Optional, Sequence, Tuple, Union\n",
    "\n",
    "import numpy as np\n",
    "import pandas as pd\n",
    "import pytorch_lightning as pl\n",
    "import torch\n",
    "import torch.nn as nn\n",
    "import torch.nn.functional as F\n",
    "\n",
    "from scipy.interpolate import interp1d\n",
    "from sklearn.preprocessing import RobustScaler\n",
    "from torch import LongTensor, Tensor\n",
    "from torch.utils.data import DataLoader, Dataset\n",
    "from tqdm import tqdm\n",
    "from transformers import get_cosine_schedule_with_warmup\n",
    "\n",
    "COMP_NAME = \"icecube-neutrinos-in-deep-ice\"\n",
    "# Return the “login name” of the user\n",
    "KERNEL = False if getpass.getuser() == \"anjum\" else True\n",
    "if not KERNEL:  # in personal computer\n",
    "    INPUT_PATH = Path(f\"/mnt/storage_dimm2/kaggle_data/{COMP_NAME}\")\n",
    "    OUTPUT_PATH = Path(f\"/mnt/storage_dimm2/kaggle_output/{COMP_NAME}\")\n",
    "    MODEL_CACHE = Path(\"/mnt/storage/model_cache/torch\")\n",
    "    TRANSPARENCY_PATH = INPUT_PATH / \"ice_transparency.txt\"\n",
    "else:           # in kaggle\n",
    "    INPUT_PATH = Path(f\"/kaggle/input/{COMP_NAME}\")\n",
    "    MODEL_CACHE = None\n",
    "    TRANSPARENCY_PATH = \"/kaggle/input/icecubetransparency/ice_transparency.txt\"\n",
    "\n",
    "    # Install packages\n",
    "    import subprocess\n",
    "\n",
    "    if torch.cuda.is_available():\n",
    "        whls = [\n",
    "            \"/kaggle/input/pytorchgeometric/torch_cluster-1.6.0-cp37-cp37m-linux_x86_64.whl\",\n",
    "            \"/kaggle/input/pytorchgeometric/torch_scatter-2.1.0-cp37-cp37m-linux_x86_64.whl\",\n",
    "            \"/kaggle/input/pytorchgeometric/torch_sparse-0.6.16-cp37-cp37m-linux_x86_64.whl\",\n",
    "            \"/kaggle/input/pytorchgeometric/torch_spline_conv-1.2.1-cp37-cp37m-linux_x86_64.whl\",\n",
    "            \"/kaggle/input/pytorchgeometric/torch_geometric-2.2.0-py3-none-any.whl\",\n",
    "            \"/kaggle/input/pytorchgeometric/ruamel.yaml-0.17.21-py3-none-any.whl\",\n",
    "        ]\n",
    "    else:\n",
    "        whls = [\n",
    "            \"/kaggle/input/pytorch-geometric/PyTorch-Geometric/torch_cluster-1.6.0-cp37-cp37m-linux_x86_64.whl\",\n",
    "            \"/kaggle/input/pytorch-geometric/PyTorch-Geometric/torch_scatter-2.0.9-cp37-cp37m-linux_x86_64.whl\",\n",
    "            \"/kaggle/input/pytorch-geometric/PyTorch-Geometric/torch_sparse-0.6.15-cp37-cp37m-linux_x86_64.whl\",\n",
    "            \"/kaggle/input/pytorch-geometric/PyTorch-Geometric/torch_spline_conv-1.2.1-cp37-cp37m-linux_x86_64.whl\",\n",
    "            \"/kaggle/input/pytorch-geometric/PyTorch-Geometric/torch_geometric-2.1.0.post1-py3-none-any.whl\",\n",
    "            \"/kaggle/input/pytorchgeometric/ruamel.yaml-0.17.21-py3-none-any.whl\",\n",
    "        ]\n",
    "\n",
    "    for w in whls:\n",
    "        print(\"Installing\", w)\n",
    "        subprocess.call([\"pip\", \"install\", w, \"--no-deps\", \"--upgrade\"])\n",
    "\n",
    "    import sys\n",
    "#     sys.path.append(\"/kaggle/input/graphnet/graphnet-main/src\")\n",
    "\n",
    "# from graphnet.models.graph_builders import KNNGraphBuilder\n",
    "# from graphnet.models.task.reconstruction import (\n",
    "#     AzimuthReconstructionWithKappa,\n",
    "#     ZenithReconstruction,\n",
    "# )\n",
    "# from graphnet.training.loss_functions import VonMisesFisher2DLoss, CosineLoss\n",
    "# from graphnet.models.gnn.gnn import GNN\n",
    "# from graphnet.models.utils import calculate_xyzt_homophily\n",
    "# from graphnet.utilities.config import save_model_config\n",
    "\n",
    "import torch_geometric\n",
    "import torch_geometric.nn as pyg_nn\n",
    "from torch_geometric.data import Data, Dataset\n",
    "from torch_geometric.loader import DataLoader\n",
    "# from torch_geometric.nn import EdgeConv\n",
    "from torch_geometric.nn import EdgeConv, SAGEConv, ChebConv, GCNConv\n",
    "# from torch_geometric.nn.pool import knn_graph\n",
    "from torch_geometric.nn import knn_graph\n",
    "from torch_geometric.typing import Adj\n",
    "\n",
    "import torch_scatter\n",
    "from torch_scatter import scatter_max, scatter_mean, scatter_min, scatter_sum\n",
    "\n",
    "GLOBAL_POOLINGS = {\n",
    "    \"min\": scatter_min,\n",
    "    \"max\": scatter_max,\n",
    "    \"sum\": scatter_sum,\n",
    "    \"mean\": scatter_mean,\n",
    "}\n",
    "\n",
    "_dtype = {\n",
    "    \"batch_id\": \"int16\",\n",
    "    \"event_id\": \"int64\",\n",
    "}"
   ]
  },
  {
   "cell_type": "markdown",
   "id": "29b1a637",
   "metadata": {
    "papermill": {
     "duration": 0.010549,
     "end_time": "2023-02-22T06:41:24.325368",
     "exception": false,
     "start_time": "2023-02-22T06:41:24.314819",
     "status": "completed"
    },
    "tags": []
   },
   "source": [
    "https://github.com/graphnet-team/graphnet"
   ]
  },
  {
   "cell_type": "markdown",
   "id": "01154c33",
   "metadata": {
    "papermill": {
     "duration": 0.010187,
     "end_time": "2023-02-22T06:41:24.346205",
     "exception": false,
     "start_time": "2023-02-22T06:41:24.336018",
     "status": "completed"
    },
    "tags": []
   },
   "source": [
    "## Dataset"
   ]
  },
  {
   "cell_type": "code",
   "execution_count": 2,
   "id": "52df647c",
   "metadata": {
    "execution": {
     "iopub.execute_input": "2023-02-22T06:41:24.369530Z",
     "iopub.status.busy": "2023-02-22T06:41:24.368457Z",
     "iopub.status.idle": "2023-02-22T06:41:25.446661Z",
     "shell.execute_reply": "2023-02-22T06:41:25.445528Z"
    },
    "papermill": {
     "duration": 1.092417,
     "end_time": "2023-02-22T06:41:25.448967",
     "exception": false,
     "start_time": "2023-02-22T06:41:24.356550",
     "status": "completed"
    },
    "tags": []
   },
   "outputs": [
    {
     "name": "stdout",
     "output_type": "stream",
     "text": [
      "depth scattering_len absorption_len\r\n",
      "1398.4 13.2 45.1\r\n",
      "1408.4 14.0 48.6\r\n",
      "1418.4 14.7 53.2\r\n",
      "1428.4 17.0 57.6\r\n",
      "1438.4 16.0 57.6\r\n",
      "1448.4 14.4 52.2\r\n",
      "1458.4 16.0 60.1\r\n",
      "1468.4 20.8 74.6\r\n",
      "1478.4 26.7 96.6\r\n",
      "1488.4 34.7 110.5\r\n",
      "1498.4 39.7 135.6\r\n",
      "1508.5 38.7 134.7\r\n",
      "1518.6 27.8 98.2\r\n",
      "1528.7 16.6 64.7\r\n",
      "1538.8 13.7 48.5\r\n",
      "1548.7 13.5 44.3\r\n",
      "1558.7 15.7 54.4\r\n",
      "1568.5 15.7 56.7\r\n",
      "1578.5 14.7 52.1\r\n",
      "1588.5 17.6 60.7\r\n",
      "1598.5 21.6 72.7\r\n",
      "1608.5 24.0 78.9\r\n",
      "1618.5 20.0 68.7\r\n",
      "1628.5 17.8 66.6\r\n",
      "1638.5 28.9 100.0\r\n",
      "1648.4 36.9 128.6\r\n",
      "1658.4 42.1 148.2\r\n",
      "1668.4 46.5 165.7\r\n",
      "1678.5 45.4 156.0\r\n",
      "1688.5 39.1 138.5\r\n",
      "1698.5 30.6 113.9\r\n",
      "1708.5 26.5 90.2\r\n",
      "1718.5 19.3 73.5\r\n",
      "1728.5 20.8 75.9\r\n",
      "1738.5 20.1 67.8\r\n",
      "1748.5 20.3 68.6\r\n",
      "1758.5 24.5 83.8\r\n",
      "1768.5 33.5 119.5\r\n",
      "1778.5 36.2 121.6\r\n",
      "1788.5 35.4 108.3\r\n",
      "1798.5 32.3 113.4\r\n",
      "1808.5 40.2 139.1\r\n",
      "1818.4 44.7 148.1\r\n",
      "1828.4 34.5 122.8\r\n",
      "1838.4 30.6 113.8\r\n",
      "1848.4 27.5 89.9\r\n",
      "1858.4 19.7 71.7\r\n",
      "1868.5 21.4 70.6\r\n",
      "1878.5 28.8 95.9\r\n",
      "1888.5 38.3 116.5\r\n",
      "1898.5 38.4 143.6\r\n",
      "1908.5 44.2 169.4\r\n",
      "1918.5 50.5 178.0\r\n",
      "1928.5 46.6 156.5\r\n",
      "1938.5 36.8 135.3\r\n",
      "1948.5 26.7 103.9\r\n",
      "1958.5 20.3 75.2\r\n",
      "1968.5 17.4 66.2\r\n",
      "1978.5 16.1 53.7\r\n",
      "1988.4 9.4 33.6\r\n",
      "1998.4 10.6 36.2\r\n",
      "2008.4 13.2 44.0\r\n",
      "2018.5 10.9 40.4\r\n",
      "2028.5 6.8 24.9\r\n",
      "2038.5 5.5 20.1\r\n",
      "2048.5 5.0 17.9\r\n",
      "2058.5 7.2 28.4\r\n",
      "2068.5 9.8 34.4\r\n",
      "2078.5 12.2 41.6\r\n",
      "2088.5 21.1 84.4\r\n",
      "2098.5 54.3 173.1\r\n",
      "2108.5 50.5 180.8\r\n",
      "2118.4 33.5 116.7\r\n",
      "2128.4 34.6 120.4\r\n",
      "2138.4 48.4 164.4\r\n",
      "2148.4 53.2 172.8\r\n",
      "2158.3 46.3 149.2\r\n",
      "2168.3 32.9 108.4\r\n",
      "2178.3 27.4 91.1\r\n",
      "2188.2 30.5 98.9\r\n",
      "2198.2 28.9 94.0\r\n",
      "2208.2 35.1 113.1\r\n",
      "2218.2 39.9 134.8\r\n",
      "2228.2 48.0 154.1\r\n",
      "2238.3 53.3 157.6\r\n",
      "2248.3 54.8 180.5\r\n",
      "2258.3 57.9 179.7\r\n",
      "2268.2 61.1 185.2\r\n",
      "2278.2 76.8 227.2\r\n",
      "2288.1 79.0 220.8\r\n",
      "2298.0 75.6 223.9\r\n",
      "2308.0 75.3 256.6\r\n",
      "2318.0 78.0 264.4\r\n",
      "2328.0 59.4 193.7\r\n",
      "2338.0 51.8 159.1\r\n",
      "2348.0 32.9 118.7\r\n",
      "2357.9 23.9 86.2\r\n",
      "2367.8 28.6 104.0\r\n",
      "2377.8 32.5 119.7\r\n",
      "2387.8 44.5 140.6\r\n",
      "2397.9 56.9 203.5\r\n",
      "2408.0 57.5 201.8\r\n",
      "2418.0 54.3 178.2\r\n",
      "2428.1 61.3 206.0\r\n",
      "2438.1 68.8 205.2\r\n",
      "2448.2 77.6 232.1\r\n",
      "2458.2 79.8 259.4\r\n",
      "2468.3 89.4 276.1\r\n",
      "2478.4 80.7 244.3\r\n",
      "2488.4 56.7 185.2\r\n"
     ]
    }
   ],
   "source": [
    "!cat /kaggle/input/icecubetransparency/ice_transparency.txt"
   ]
  },
  {
   "cell_type": "code",
   "execution_count": 3,
   "id": "4fb5efb0",
   "metadata": {
    "execution": {
     "iopub.execute_input": "2023-02-22T06:41:25.466556Z",
     "iopub.status.busy": "2023-02-22T06:41:25.465979Z",
     "iopub.status.idle": "2023-02-22T06:41:25.472802Z",
     "shell.execute_reply": "2023-02-22T06:41:25.471753Z"
    },
    "papermill": {
     "duration": 0.018329,
     "end_time": "2023-02-22T06:41:25.474623",
     "exception": false,
     "start_time": "2023-02-22T06:41:25.456294",
     "status": "completed"
    },
    "tags": []
   },
   "outputs": [],
   "source": [
    "# datasets.py\n",
    "def ice_transparency(data_path, datum=1950):\n",
    "    # Data from page 31 of https://arxiv.org/pdf/1301.5361.pdf\n",
    "    # Datum is from footnote 8 of page 29\n",
    "    df = pd.read_csv(data_path, delim_whitespace=True)\n",
    "    df[\"z\"] = df[\"depth\"] - datum\n",
    "    df[\"z_norm\"] = df[\"z\"] / 500\n",
    "    df[[\"scattering_len_norm\", \"absorption_len_norm\"]] = RobustScaler().fit_transform(\n",
    "        df[[\"scattering_len\", \"absorption_len\"]]\n",
    "    )\n",
    "\n",
    "    # These are both roughly equivalent after scaling\n",
    "    f_scattering = interp1d(df[\"z_norm\"], df[\"scattering_len_norm\"])\n",
    "    f_absorption = interp1d(df[\"z_norm\"], df[\"absorption_len_norm\"])\n",
    "    return f_scattering, f_absorption"
   ]
  },
  {
   "cell_type": "code",
   "execution_count": 4,
   "id": "1e6c8b9c",
   "metadata": {
    "execution": {
     "iopub.execute_input": "2023-02-22T06:41:25.490768Z",
     "iopub.status.busy": "2023-02-22T06:41:25.489971Z",
     "iopub.status.idle": "2023-02-22T06:41:25.503214Z",
     "shell.execute_reply": "2023-02-22T06:41:25.502381Z"
    },
    "papermill": {
     "duration": 0.023516,
     "end_time": "2023-02-22T06:41:25.505353",
     "exception": false,
     "start_time": "2023-02-22T06:41:25.481837",
     "status": "completed"
    },
    "tags": []
   },
   "outputs": [],
   "source": [
    "class IceCubeDataset(Dataset):\n",
    "    def __init__(\n",
    "        self,\n",
    "        batch_id,\n",
    "        event_ids,\n",
    "        sensor_df,\n",
    "        mode=\"test\",\n",
    "        y=None,\n",
    "        pulse_limit=300,\n",
    "        transform=None,\n",
    "        pre_transform=None,\n",
    "        pre_filter=None,\n",
    "    ):\n",
    "        super().__init__(transform, pre_transform, pre_filter)\n",
    "        self.y = y\n",
    "        self.event_ids = event_ids\n",
    "        self.batch_df = pd.read_parquet(INPUT_PATH / mode / f\"batch_{batch_id}.parquet\")\n",
    "        self.sensor_df = sensor_df\n",
    "        self.pulse_limit = pulse_limit\n",
    "        self.f_scattering, self.f_absorption = ice_transparency(TRANSPARENCY_PATH)\n",
    "\n",
    "        self.batch_df[\"time\"] = (self.batch_df[\"time\"] - 1.0e04) / 3.0e4\n",
    "        self.batch_df[\"charge\"] = np.log10(self.batch_df[\"charge\"]) / 3.0\n",
    "        self.batch_df[\"auxiliary\"] = self.batch_df[\"auxiliary\"].astype(int) - 0.5\n",
    "\n",
    "    def len(self):\n",
    "        return len(self.event_ids)\n",
    "\n",
    "    def get(self, idx):\n",
    "        event_id = self.event_ids[idx]\n",
    "        event = self.batch_df.loc[event_id]\n",
    "    \n",
    "        # represent each event by a single graph\n",
    "        event = pd.merge(event, self.sensor_df, on=\"sensor_id\")\n",
    "        col = [\"x\", \"y\", \"z\", \"time\", \"charge\", \"qe\", \"auxiliary\"]\n",
    "\n",
    "        x = event[col].values\n",
    "        x = torch.tensor(x, dtype=torch.float32)\n",
    "        data = Data(x=x, n_pulses=torch.tensor(x.shape[0], dtype=torch.int32))\n",
    "\n",
    "        # Add ice transparency data\n",
    "        z = data.x[:, 2].numpy()\n",
    "        scattering = torch.tensor(self.f_scattering(z), dtype=torch.float32).view(-1, 1)\n",
    "        # absorption = torch.tensor(self.f_absorption(z), dtype=torch.float32).view(-1, 1)\n",
    "\n",
    "        data.x = torch.cat([data.x, scattering], dim=1)\n",
    "\n",
    "        # Downsample the large events\n",
    "        if data.n_pulses > self.pulse_limit:\n",
    "            data.x = data.x[np.random.choice(data.n_pulses, self.pulse_limit)]\n",
    "            data.n_pulses = torch.tensor(self.pulse_limit, dtype=torch.int32)\n",
    "    \n",
    "        # Builds graph from the k-nearest neighbours.\n",
    "        data.edge_index = knn_graph(\n",
    "            data.x[:, [0, 1, 2]],  # x, y, z\n",
    "            k=8,\n",
    "            batch=None,\n",
    "            loop=False\n",
    "        )\n",
    "\n",
    "        if self.y is not None:\n",
    "            y = self.y.loc[idx, :].values\n",
    "            y = torch.tensor(y, dtype=torch.float32)\n",
    "            data.y = y\n",
    "\n",
    "        return data"
   ]
  },
  {
   "cell_type": "code",
   "execution_count": 5,
   "id": "f098ffac",
   "metadata": {
    "execution": {
     "iopub.execute_input": "2023-02-22T06:41:25.520933Z",
     "iopub.status.busy": "2023-02-22T06:41:25.520224Z",
     "iopub.status.idle": "2023-02-22T06:41:25.527631Z",
     "shell.execute_reply": "2023-02-22T06:41:25.526713Z"
    },
    "papermill": {
     "duration": 0.017265,
     "end_time": "2023-02-22T06:41:25.529556",
     "exception": false,
     "start_time": "2023-02-22T06:41:25.512291",
     "status": "completed"
    },
    "tags": []
   },
   "outputs": [],
   "source": [
    "# preprocessing.py\n",
    "def prepare_sensors():\n",
    "    sensors = pd.read_csv(INPUT_PATH / \"sensor_geometry.csv\").astype(\n",
    "        {\n",
    "            \"sensor_id\": np.int16,\n",
    "            \"x\": np.float32,\n",
    "            \"y\": np.float32,\n",
    "            \"z\": np.float32,\n",
    "        }\n",
    "    )\n",
    "    sensors[\"string\"] = 0\n",
    "    sensors[\"qe\"] = 1\n",
    "\n",
    "    for i in range(len(sensors) // 60):\n",
    "        start, end = i * 60, (i * 60) + 60\n",
    "        sensors.loc[start:end, \"string\"] = i\n",
    "\n",
    "        # High Quantum Efficiency in the lower 50 DOMs - https://arxiv.org/pdf/2209.03042.pdf (Figure 1)\n",
    "        if i in range(78, 86):\n",
    "            start_veto, end_veto = i * 60, (i * 60) + 10\n",
    "            start_core, end_core = end_veto + 1, (i * 60) + 60\n",
    "            sensors.loc[start_core:end_core, \"qe\"] = 1.35\n",
    "\n",
    "    # https://github.com/graphnet-team/graphnet/blob/b2bad25528652587ab0cdb7cf2335ee254cfa2db/src/graphnet/models/detector/icecube.py#L33-L41\n",
    "    # Assume that \"rde\" (relative dom efficiency) is equivalent to QE\n",
    "    sensors[\"x\"] /= 500\n",
    "    sensors[\"y\"] /= 500\n",
    "    sensors[\"z\"] /= 500\n",
    "    sensors[\"qe\"] -= 1.25\n",
    "    sensors[\"qe\"] /= 0.25\n",
    "\n",
    "    return sensors"
   ]
  },
  {
   "cell_type": "code",
   "execution_count": 6,
   "id": "cf660df0",
   "metadata": {
    "execution": {
     "iopub.execute_input": "2023-02-22T06:41:25.545168Z",
     "iopub.status.busy": "2023-02-22T06:41:25.544312Z",
     "iopub.status.idle": "2023-02-22T06:41:25.624685Z",
     "shell.execute_reply": "2023-02-22T06:41:25.623852Z"
    },
    "papermill": {
     "duration": 0.090258,
     "end_time": "2023-02-22T06:41:25.626811",
     "exception": false,
     "start_time": "2023-02-22T06:41:25.536553",
     "status": "completed"
    },
    "tags": []
   },
   "outputs": [
    {
     "data": {
      "text/html": [
       "<div>\n",
       "<style scoped>\n",
       "    .dataframe tbody tr th:only-of-type {\n",
       "        vertical-align: middle;\n",
       "    }\n",
       "\n",
       "    .dataframe tbody tr th {\n",
       "        vertical-align: top;\n",
       "    }\n",
       "\n",
       "    .dataframe thead th {\n",
       "        text-align: right;\n",
       "    }\n",
       "</style>\n",
       "<table border=\"1\" class=\"dataframe\">\n",
       "  <thead>\n",
       "    <tr style=\"text-align: right;\">\n",
       "      <th></th>\n",
       "      <th>sensor_id</th>\n",
       "      <th>x</th>\n",
       "      <th>y</th>\n",
       "      <th>z</th>\n",
       "      <th>string</th>\n",
       "      <th>qe</th>\n",
       "    </tr>\n",
       "  </thead>\n",
       "  <tbody>\n",
       "    <tr>\n",
       "      <th>0</th>\n",
       "      <td>0</td>\n",
       "      <td>-0.51228</td>\n",
       "      <td>-1.04216</td>\n",
       "      <td>0.99206</td>\n",
       "      <td>0</td>\n",
       "      <td>-1.0</td>\n",
       "    </tr>\n",
       "    <tr>\n",
       "      <th>1</th>\n",
       "      <td>1</td>\n",
       "      <td>-0.51228</td>\n",
       "      <td>-1.04216</td>\n",
       "      <td>0.95802</td>\n",
       "      <td>0</td>\n",
       "      <td>-1.0</td>\n",
       "    </tr>\n",
       "    <tr>\n",
       "      <th>2</th>\n",
       "      <td>2</td>\n",
       "      <td>-0.51228</td>\n",
       "      <td>-1.04216</td>\n",
       "      <td>0.92398</td>\n",
       "      <td>0</td>\n",
       "      <td>-1.0</td>\n",
       "    </tr>\n",
       "    <tr>\n",
       "      <th>3</th>\n",
       "      <td>3</td>\n",
       "      <td>-0.51228</td>\n",
       "      <td>-1.04216</td>\n",
       "      <td>0.88994</td>\n",
       "      <td>0</td>\n",
       "      <td>-1.0</td>\n",
       "    </tr>\n",
       "    <tr>\n",
       "      <th>4</th>\n",
       "      <td>4</td>\n",
       "      <td>-0.51228</td>\n",
       "      <td>-1.04216</td>\n",
       "      <td>0.85590</td>\n",
       "      <td>0</td>\n",
       "      <td>-1.0</td>\n",
       "    </tr>\n",
       "    <tr>\n",
       "      <th>...</th>\n",
       "      <td>...</td>\n",
       "      <td>...</td>\n",
       "      <td>...</td>\n",
       "      <td>...</td>\n",
       "      <td>...</td>\n",
       "      <td>...</td>\n",
       "    </tr>\n",
       "    <tr>\n",
       "      <th>5155</th>\n",
       "      <td>5155</td>\n",
       "      <td>-0.02194</td>\n",
       "      <td>0.01344</td>\n",
       "      <td>-0.94478</td>\n",
       "      <td>85</td>\n",
       "      <td>0.4</td>\n",
       "    </tr>\n",
       "    <tr>\n",
       "      <th>5156</th>\n",
       "      <td>5156</td>\n",
       "      <td>-0.02194</td>\n",
       "      <td>0.01344</td>\n",
       "      <td>-0.95878</td>\n",
       "      <td>85</td>\n",
       "      <td>0.4</td>\n",
       "    </tr>\n",
       "    <tr>\n",
       "      <th>5157</th>\n",
       "      <td>5157</td>\n",
       "      <td>-0.02194</td>\n",
       "      <td>0.01344</td>\n",
       "      <td>-0.97280</td>\n",
       "      <td>85</td>\n",
       "      <td>0.4</td>\n",
       "    </tr>\n",
       "    <tr>\n",
       "      <th>5158</th>\n",
       "      <td>5158</td>\n",
       "      <td>-0.02194</td>\n",
       "      <td>0.01344</td>\n",
       "      <td>-0.98682</td>\n",
       "      <td>85</td>\n",
       "      <td>0.4</td>\n",
       "    </tr>\n",
       "    <tr>\n",
       "      <th>5159</th>\n",
       "      <td>5159</td>\n",
       "      <td>-0.02194</td>\n",
       "      <td>0.01344</td>\n",
       "      <td>-1.00146</td>\n",
       "      <td>85</td>\n",
       "      <td>0.4</td>\n",
       "    </tr>\n",
       "  </tbody>\n",
       "</table>\n",
       "<p>5160 rows × 6 columns</p>\n",
       "</div>"
      ],
      "text/plain": [
       "      sensor_id        x        y        z  string   qe\n",
       "0             0 -0.51228 -1.04216  0.99206       0 -1.0\n",
       "1             1 -0.51228 -1.04216  0.95802       0 -1.0\n",
       "2             2 -0.51228 -1.04216  0.92398       0 -1.0\n",
       "3             3 -0.51228 -1.04216  0.88994       0 -1.0\n",
       "4             4 -0.51228 -1.04216  0.85590       0 -1.0\n",
       "...         ...      ...      ...      ...     ...  ...\n",
       "5155       5155 -0.02194  0.01344 -0.94478      85  0.4\n",
       "5156       5156 -0.02194  0.01344 -0.95878      85  0.4\n",
       "5157       5157 -0.02194  0.01344 -0.97280      85  0.4\n",
       "5158       5158 -0.02194  0.01344 -0.98682      85  0.4\n",
       "5159       5159 -0.02194  0.01344 -1.00146      85  0.4\n",
       "\n",
       "[5160 rows x 6 columns]"
      ]
     },
     "execution_count": 6,
     "metadata": {},
     "output_type": "execute_result"
    }
   ],
   "source": [
    "sensors = prepare_sensors()\n",
    "sensors"
   ]
  },
  {
   "cell_type": "code",
   "execution_count": 7,
   "id": "6451cdee",
   "metadata": {
    "execution": {
     "iopub.execute_input": "2023-02-22T06:41:25.643196Z",
     "iopub.status.busy": "2023-02-22T06:41:25.642938Z",
     "iopub.status.idle": "2023-02-22T06:42:04.215282Z",
     "shell.execute_reply": "2023-02-22T06:42:04.212328Z"
    },
    "papermill": {
     "duration": 38.616146,
     "end_time": "2023-02-22T06:42:04.250659",
     "exception": false,
     "start_time": "2023-02-22T06:41:25.634513",
     "status": "completed"
    },
    "tags": []
   },
   "outputs": [
    {
     "data": {
      "text/html": [
       "<div>\n",
       "<style scoped>\n",
       "    .dataframe tbody tr th:only-of-type {\n",
       "        vertical-align: middle;\n",
       "    }\n",
       "\n",
       "    .dataframe tbody tr th {\n",
       "        vertical-align: top;\n",
       "    }\n",
       "\n",
       "    .dataframe thead th {\n",
       "        text-align: right;\n",
       "    }\n",
       "</style>\n",
       "<table border=\"1\" class=\"dataframe\">\n",
       "  <thead>\n",
       "    <tr style=\"text-align: right;\">\n",
       "      <th></th>\n",
       "      <th>batch_id</th>\n",
       "      <th>event_id</th>\n",
       "      <th>azimuth</th>\n",
       "      <th>zenith</th>\n",
       "    </tr>\n",
       "  </thead>\n",
       "  <tbody>\n",
       "    <tr>\n",
       "      <th>0</th>\n",
       "      <td>1</td>\n",
       "      <td>24</td>\n",
       "      <td>5.029555</td>\n",
       "      <td>2.087498</td>\n",
       "    </tr>\n",
       "    <tr>\n",
       "      <th>1</th>\n",
       "      <td>1</td>\n",
       "      <td>41</td>\n",
       "      <td>0.417742</td>\n",
       "      <td>1.549686</td>\n",
       "    </tr>\n",
       "    <tr>\n",
       "      <th>2</th>\n",
       "      <td>1</td>\n",
       "      <td>59</td>\n",
       "      <td>1.160466</td>\n",
       "      <td>2.401942</td>\n",
       "    </tr>\n",
       "    <tr>\n",
       "      <th>3</th>\n",
       "      <td>1</td>\n",
       "      <td>67</td>\n",
       "      <td>5.845952</td>\n",
       "      <td>0.759054</td>\n",
       "    </tr>\n",
       "    <tr>\n",
       "      <th>4</th>\n",
       "      <td>1</td>\n",
       "      <td>72</td>\n",
       "      <td>0.653719</td>\n",
       "      <td>0.939117</td>\n",
       "    </tr>\n",
       "    <tr>\n",
       "      <th>...</th>\n",
       "      <td>...</td>\n",
       "      <td>...</td>\n",
       "      <td>...</td>\n",
       "      <td>...</td>\n",
       "    </tr>\n",
       "    <tr>\n",
       "      <th>131953919</th>\n",
       "      <td>660</td>\n",
       "      <td>2147483597</td>\n",
       "      <td>5.895612</td>\n",
       "      <td>0.333071</td>\n",
       "    </tr>\n",
       "    <tr>\n",
       "      <th>131953920</th>\n",
       "      <td>660</td>\n",
       "      <td>2147483603</td>\n",
       "      <td>3.273695</td>\n",
       "      <td>1.503301</td>\n",
       "    </tr>\n",
       "    <tr>\n",
       "      <th>131953921</th>\n",
       "      <td>660</td>\n",
       "      <td>2147483617</td>\n",
       "      <td>2.945376</td>\n",
       "      <td>1.723253</td>\n",
       "    </tr>\n",
       "    <tr>\n",
       "      <th>131953922</th>\n",
       "      <td>660</td>\n",
       "      <td>2147483626</td>\n",
       "      <td>1.616582</td>\n",
       "      <td>1.937025</td>\n",
       "    </tr>\n",
       "    <tr>\n",
       "      <th>131953923</th>\n",
       "      <td>660</td>\n",
       "      <td>2147483627</td>\n",
       "      <td>3.062654</td>\n",
       "      <td>1.842630</td>\n",
       "    </tr>\n",
       "  </tbody>\n",
       "</table>\n",
       "<p>131953924 rows × 4 columns</p>\n",
       "</div>"
      ],
      "text/plain": [
       "           batch_id    event_id   azimuth    zenith\n",
       "0                 1          24  5.029555  2.087498\n",
       "1                 1          41  0.417742  1.549686\n",
       "2                 1          59  1.160466  2.401942\n",
       "3                 1          67  5.845952  0.759054\n",
       "4                 1          72  0.653719  0.939117\n",
       "...             ...         ...       ...       ...\n",
       "131953919       660  2147483597  5.895612  0.333071\n",
       "131953920       660  2147483603  3.273695  1.503301\n",
       "131953921       660  2147483617  2.945376  1.723253\n",
       "131953922       660  2147483626  1.616582  1.937025\n",
       "131953923       660  2147483627  3.062654  1.842630\n",
       "\n",
       "[131953924 rows x 4 columns]"
      ]
     },
     "execution_count": 7,
     "metadata": {},
     "output_type": "execute_result"
    }
   ],
   "source": [
    "meta = pd.read_parquet(\n",
    "    INPUT_PATH / f\"train_meta.parquet\", columns=[\"batch_id\", \"event_id\", \"azimuth\", \"zenith\"]\n",
    ").astype(_dtype)\n",
    "meta"
   ]
  },
  {
   "cell_type": "code",
   "execution_count": 8,
   "id": "613187a9",
   "metadata": {
    "execution": {
     "iopub.execute_input": "2023-02-22T06:42:04.350285Z",
     "iopub.status.busy": "2023-02-22T06:42:04.348103Z",
     "iopub.status.idle": "2023-02-22T06:42:05.463368Z",
     "shell.execute_reply": "2023-02-22T06:42:05.462289Z"
    },
    "papermill": {
     "duration": 1.190327,
     "end_time": "2023-02-22T06:42:05.465648",
     "exception": false,
     "start_time": "2023-02-22T06:42:04.275321",
     "status": "completed"
    },
    "tags": []
   },
   "outputs": [
    {
     "data": {
      "text/plain": [
       "array([  1,   2,   3,   4,   5,   6,   7,   8,   9,  10,  11,  12,  13,\n",
       "        14,  15,  16,  17,  18,  19,  20,  21,  22,  23,  24,  25,  26,\n",
       "        27,  28,  29,  30,  31,  32,  33,  34,  35,  36,  37,  38,  39,\n",
       "        40,  41,  42,  43,  44,  45,  46,  47,  48,  49,  50,  51,  52,\n",
       "        53,  54,  55,  56,  57,  58,  59,  60,  61,  62,  63,  64,  65,\n",
       "        66,  67,  68,  69,  70,  71,  72,  73,  74,  75,  76,  77,  78,\n",
       "        79,  80,  81,  82,  83,  84,  85,  86,  87,  88,  89,  90,  91,\n",
       "        92,  93,  94,  95,  96,  97,  98,  99, 100, 101, 102, 103, 104,\n",
       "       105, 106, 107, 108, 109, 110, 111, 112, 113, 114, 115, 116, 117,\n",
       "       118, 119, 120, 121, 122, 123, 124, 125, 126, 127, 128, 129, 130,\n",
       "       131, 132, 133, 134, 135, 136, 137, 138, 139, 140, 141, 142, 143,\n",
       "       144, 145, 146, 147, 148, 149, 150, 151, 152, 153, 154, 155, 156,\n",
       "       157, 158, 159, 160, 161, 162, 163, 164, 165, 166, 167, 168, 169,\n",
       "       170, 171, 172, 173, 174, 175, 176, 177, 178, 179, 180, 181, 182,\n",
       "       183, 184, 185, 186, 187, 188, 189, 190, 191, 192, 193, 194, 195,\n",
       "       196, 197, 198, 199, 200, 201, 202, 203, 204, 205, 206, 207, 208,\n",
       "       209, 210, 211, 212, 213, 214, 215, 216, 217, 218, 219, 220, 221,\n",
       "       222, 223, 224, 225, 226, 227, 228, 229, 230, 231, 232, 233, 234,\n",
       "       235, 236, 237, 238, 239, 240, 241, 242, 243, 244, 245, 246, 247,\n",
       "       248, 249, 250, 251, 252, 253, 254, 255, 256, 257, 258, 259, 260,\n",
       "       261, 262, 263, 264, 265, 266, 267, 268, 269, 270, 271, 272, 273,\n",
       "       274, 275, 276, 277, 278, 279, 280, 281, 282, 283, 284, 285, 286,\n",
       "       287, 288, 289, 290, 291, 292, 293, 294, 295, 296, 297, 298, 299,\n",
       "       300, 301, 302, 303, 304, 305, 306, 307, 308, 309, 310, 311, 312,\n",
       "       313, 314, 315, 316, 317, 318, 319, 320, 321, 322, 323, 324, 325,\n",
       "       326, 327, 328, 329, 330, 331, 332, 333, 334, 335, 336, 337, 338,\n",
       "       339, 340, 341, 342, 343, 344, 345, 346, 347, 348, 349, 350, 351,\n",
       "       352, 353, 354, 355, 356, 357, 358, 359, 360, 361, 362, 363, 364,\n",
       "       365, 366, 367, 368, 369, 370, 371, 372, 373, 374, 375, 376, 377,\n",
       "       378, 379, 380, 381, 382, 383, 384, 385, 386, 387, 388, 389, 390,\n",
       "       391, 392, 393, 394, 395, 396, 397, 398, 399, 400, 401, 402, 403,\n",
       "       404, 405, 406, 407, 408, 409, 410, 411, 412, 413, 414, 415, 416,\n",
       "       417, 418, 419, 420, 421, 422, 423, 424, 425, 426, 427, 428, 429,\n",
       "       430, 431, 432, 433, 434, 435, 436, 437, 438, 439, 440, 441, 442,\n",
       "       443, 444, 445, 446, 447, 448, 449, 450, 451, 452, 453, 454, 455,\n",
       "       456, 457, 458, 459, 460, 461, 462, 463, 464, 465, 466, 467, 468,\n",
       "       469, 470, 471, 472, 473, 474, 475, 476, 477, 478, 479, 480, 481,\n",
       "       482, 483, 484, 485, 486, 487, 488, 489, 490, 491, 492, 493, 494,\n",
       "       495, 496, 497, 498, 499, 500, 501, 502, 503, 504, 505, 506, 507,\n",
       "       508, 509, 510, 511, 512, 513, 514, 515, 516, 517, 518, 519, 520,\n",
       "       521, 522, 523, 524, 525, 526, 527, 528, 529, 530, 531, 532, 533,\n",
       "       534, 535, 536, 537, 538, 539, 540, 541, 542, 543, 544, 545, 546,\n",
       "       547, 548, 549, 550, 551, 552, 553, 554, 555, 556, 557, 558, 559,\n",
       "       560, 561, 562, 563, 564, 565, 566, 567, 568, 569, 570, 571, 572,\n",
       "       573, 574, 575, 576, 577, 578, 579, 580, 581, 582, 583, 584, 585,\n",
       "       586, 587, 588, 589, 590, 591, 592, 593, 594, 595, 596, 597, 598,\n",
       "       599, 600, 601, 602, 603, 604, 605, 606, 607, 608, 609, 610, 611,\n",
       "       612, 613, 614, 615, 616, 617, 618, 619, 620, 621, 622, 623, 624,\n",
       "       625, 626, 627, 628, 629, 630, 631, 632, 633, 634, 635, 636, 637,\n",
       "       638, 639, 640, 641, 642, 643, 644, 645, 646, 647, 648, 649, 650,\n",
       "       651, 652, 653, 654, 655, 656, 657, 658, 659, 660], dtype=int16)"
      ]
     },
     "execution_count": 8,
     "metadata": {},
     "output_type": "execute_result"
    }
   ],
   "source": [
    "batch_ids = meta[\"batch_id\"].unique()\n",
    "batch_ids"
   ]
  },
  {
   "cell_type": "code",
   "execution_count": 9,
   "id": "eda180ae",
   "metadata": {
    "execution": {
     "iopub.execute_input": "2023-02-22T06:42:05.483109Z",
     "iopub.status.busy": "2023-02-22T06:42:05.482795Z",
     "iopub.status.idle": "2023-02-22T06:42:05.486719Z",
     "shell.execute_reply": "2023-02-22T06:42:05.485777Z"
    },
    "papermill": {
     "duration": 0.015133,
     "end_time": "2023-02-22T06:42:05.488712",
     "exception": false,
     "start_time": "2023-02-22T06:42:05.473579",
     "status": "completed"
    },
    "tags": []
   },
   "outputs": [],
   "source": [
    "# for i, b in enumerate(batch_ids):\n",
    "#     event_ids = meta[meta[\"batch_id\"] == b][\"event_id\"].tolist()\n",
    "#     y = meta[meta[\"batch_id\"] == b][['zenith', 'azimuth']].reset_index(drop=True)\n",
    "#     dataset = IceCubeDataset(\n",
    "#         b, event_ids, sensors, mode='train', y=y,\n",
    "#     )\n",
    "#     print(f'batch {i}')\n",
    "#     print(\"num of graph:\", len(dataset), '\\t', dataset[0], '\\t', dataset[1])\n",
    "#     if i >= 3:\n",
    "#         break"
   ]
  },
  {
   "cell_type": "code",
   "execution_count": 10,
   "id": "7dfaafe7",
   "metadata": {
    "execution": {
     "iopub.execute_input": "2023-02-22T06:42:05.506723Z",
     "iopub.status.busy": "2023-02-22T06:42:05.506010Z",
     "iopub.status.idle": "2023-02-22T06:42:05.511130Z",
     "shell.execute_reply": "2023-02-22T06:42:05.510230Z"
    },
    "papermill": {
     "duration": 0.016456,
     "end_time": "2023-02-22T06:42:05.513216",
     "exception": false,
     "start_time": "2023-02-22T06:42:05.496760",
     "status": "completed"
    },
    "tags": []
   },
   "outputs": [],
   "source": [
    "# dataset[0].edge_index"
   ]
  },
  {
   "cell_type": "markdown",
   "id": "978d1185",
   "metadata": {
    "papermill": {
     "duration": 0.007979,
     "end_time": "2023-02-22T06:42:05.529502",
     "exception": false,
     "start_time": "2023-02-22T06:42:05.521523",
     "status": "completed"
    },
    "tags": []
   },
   "source": [
    "## Dynamic graph"
   ]
  },
  {
   "cell_type": "code",
   "execution_count": 11,
   "id": "82cfbb58",
   "metadata": {
    "execution": {
     "iopub.execute_input": "2023-02-22T06:42:05.548667Z",
     "iopub.status.busy": "2023-02-22T06:42:05.546958Z",
     "iopub.status.idle": "2023-02-22T06:42:05.558668Z",
     "shell.execute_reply": "2023-02-22T06:42:05.557711Z"
    },
    "papermill": {
     "duration": 0.023064,
     "end_time": "2023-02-22T06:42:05.560797",
     "exception": false,
     "start_time": "2023-02-22T06:42:05.537733",
     "status": "completed"
    },
    "tags": []
   },
   "outputs": [],
   "source": [
    "def calculate_distance_matrix(xyz_coords: Tensor) -> Tensor:\n",
    "    \"\"\"Calculate the matrix of pairwise distances between pulses.\n",
    "    Args:\n",
    "        xyz_coords: (x,y,z)-coordinates of pulses, of shape [nb_doms, 3].\n",
    "    Returns:\n",
    "        Matrix of pairwise distances, of shape [nb_doms, nb_doms]\n",
    "    \"\"\"\n",
    "    diff = xyz_coords.unsqueeze(dim=2) - xyz_coords.T.unsqueeze(dim=0)\n",
    "    return torch.sqrt(torch.sum(diff**2, dim=1))\n",
    "\n",
    "\n",
    "class EuclideanGraphBuilder(nn.Module):\n",
    "    \"\"\"Builds graph according to Euclidean distance between nodes.\n",
    "    See https://arxiv.org/pdf/1809.06166.pdf.\n",
    "    \"\"\"\n",
    "    def __init__(\n",
    "        self,\n",
    "        sigma: float,\n",
    "        threshold: float = 0.0,\n",
    "        columns: List[int] = None,\n",
    "    ):\n",
    "        \"\"\"Construct `EuclideanGraphBuilder`.\"\"\"\n",
    "        # Base class constructor\n",
    "        super().__init__()\n",
    "\n",
    "        # Check(s)\n",
    "        if columns is None:\n",
    "            columns = [0, 1, 2]\n",
    "\n",
    "        # Member variable(s)\n",
    "        self._sigma = sigma\n",
    "        self._threshold = threshold\n",
    "        self._columns = columns\n",
    "\n",
    "    def forward(self, data: Data) -> Data:\n",
    "        \"\"\"Forward pass.\"\"\"\n",
    "        # Constructs the adjacency matrix from the raw, DOM-level data and\n",
    "        # returns this matrix\n",
    "        xyz_coords = data.x[:, self._columns]\n",
    "\n",
    "        # Construct block-diagonal matrix indicating whether pulses belong to\n",
    "        # the same event in the batch\n",
    "        batch_mask = data.batch.unsqueeze(dim=0) == data.batch.unsqueeze(dim=1)\n",
    "\n",
    "        distance_matrix = calculate_distance_matrix(xyz_coords)\n",
    "        affinity_matrix = torch.exp(\n",
    "            -0.5 * distance_matrix**2 / self._sigma**2\n",
    "        )\n",
    "\n",
    "        # Use softmax to normalise all adjacencies to one for each node\n",
    "        exp_row_sums = torch.exp(affinity_matrix).sum(axis=1)\n",
    "        weighted_adj_matrix = torch.exp(\n",
    "            affinity_matrix\n",
    "        ) / exp_row_sums.unsqueeze(dim=1)\n",
    "\n",
    "        # Only include edges with weights that exceed the chosen threshold (and\n",
    "        # are part of the same event)\n",
    "        sources, targets = torch.where(\n",
    "            (weighted_adj_matrix > self._threshold) & (batch_mask)\n",
    "        )\n",
    "        edge_weights = weighted_adj_matrix[sources, targets]\n",
    "\n",
    "        data.edge_index = torch.stack((sources, targets))\n",
    "        data.edge_weight = edge_weights\n",
    "\n",
    "        return data"
   ]
  },
  {
   "cell_type": "markdown",
   "id": "5e03bdc8",
   "metadata": {
    "papermill": {
     "duration": 0.007955,
     "end_time": "2023-02-22T06:42:05.576715",
     "exception": false,
     "start_time": "2023-02-22T06:42:05.568760",
     "status": "completed"
    },
    "tags": []
   },
   "source": [
    "## Model"
   ]
  },
  {
   "cell_type": "code",
   "execution_count": 12,
   "id": "8da74407",
   "metadata": {
    "execution": {
     "iopub.execute_input": "2023-02-22T06:42:05.594049Z",
     "iopub.status.busy": "2023-02-22T06:42:05.593328Z",
     "iopub.status.idle": "2023-02-22T06:42:05.599828Z",
     "shell.execute_reply": "2023-02-22T06:42:05.598903Z"
    },
    "papermill": {
     "duration": 0.017118,
     "end_time": "2023-02-22T06:42:05.601807",
     "exception": false,
     "start_time": "2023-02-22T06:42:05.584689",
     "status": "completed"
    },
    "tags": []
   },
   "outputs": [],
   "source": [
    "class DenseDynBlock(nn.Module):\n",
    "    \"\"\"\n",
    "    Dense Dynamic graph convolution block\n",
    "    \"\"\"\n",
    "    def __init__(self, in_channels, out_channels=64, sigma=0.5):\n",
    "        super(DenseDynBlock, self).__init__()\n",
    "        self.GraphBuilder = EuclideanGraphBuilder(sigma=sigma)\n",
    "        self.gnn = SAGEConv(in_channels, out_channels)\n",
    "\n",
    "    def forward(self, data):\n",
    "        data1 = self.GraphBuilder(data)\n",
    "        x, edge_index, batch = data1.x, data1.edge_index, data1.batch\n",
    "        x = self.gnn(x, edge_index)\n",
    "        data1.x = torch.cat((x, data.x), 1)\n",
    "        return data1"
   ]
  },
  {
   "cell_type": "code",
   "execution_count": 13,
   "id": "6f49f76b",
   "metadata": {
    "execution": {
     "iopub.execute_input": "2023-02-22T06:42:05.618980Z",
     "iopub.status.busy": "2023-02-22T06:42:05.618187Z",
     "iopub.status.idle": "2023-02-22T06:42:05.627227Z",
     "shell.execute_reply": "2023-02-22T06:42:05.626394Z"
    },
    "papermill": {
     "duration": 0.019761,
     "end_time": "2023-02-22T06:42:05.629333",
     "exception": false,
     "start_time": "2023-02-22T06:42:05.609572",
     "status": "completed"
    },
    "tags": []
   },
   "outputs": [],
   "source": [
    "class MyGNN(nn.Module):\n",
    "    \"\"\"\n",
    "    Dynamic graph convolution layer\n",
    "    \"\"\"\n",
    "    def __init__(self, in_channels, hidden_channels, out_channels, n_blocks):\n",
    "        super().__init__()\n",
    "        self.n_blocks = n_blocks\n",
    "        self.head = SAGEConv(in_channels, hidden_channels)\n",
    "        c_growth  = hidden_channels\n",
    "        self.gnn = nn.Sequential(*[DenseDynBlock(hidden_channels+i*c_growth, c_growth)\n",
    "                                    for i in range(n_blocks-1)])\n",
    "        fusion_dims = int(hidden_channels * self.n_blocks + c_growth * ((1 + self.n_blocks - 1) * (self.n_blocks - 1) / 2))\n",
    "        self.linear = nn.Linear(fusion_dims, out_channels)\n",
    "\n",
    "    def forward(self, data):\n",
    "        x, edge_index, batch = data.x, data.edge_index, data.batch\n",
    "        data.x = self.head(x, edge_index)\n",
    "        feats = [data.x]\n",
    "        for i in range(self.n_blocks-1):\n",
    "            data = self.gnn[i](data)\n",
    "            feats.append(data.x)\n",
    "        feats = torch.cat(feats, 1)\n",
    "        x = pyg_nn.global_mean_pool(feats, data.batch)\n",
    "        out = F.relu(self.linear(x))\n",
    "        return out"
   ]
  },
  {
   "cell_type": "code",
   "execution_count": 14,
   "id": "8c3b31f4",
   "metadata": {
    "execution": {
     "iopub.execute_input": "2023-02-22T06:42:05.647204Z",
     "iopub.status.busy": "2023-02-22T06:42:05.645778Z",
     "iopub.status.idle": "2023-02-22T06:42:05.659427Z",
     "shell.execute_reply": "2023-02-22T06:42:05.658486Z"
    },
    "papermill": {
     "duration": 0.024296,
     "end_time": "2023-02-22T06:42:05.661404",
     "exception": false,
     "start_time": "2023-02-22T06:42:05.637108",
     "status": "completed"
    },
    "tags": []
   },
   "outputs": [
    {
     "data": {
      "text/plain": [
       "MyGNN(\n",
       "  (head): SAGEConv(8, 16, aggr=mean)\n",
       "  (gnn): Sequential(\n",
       "    (0): DenseDynBlock(\n",
       "      (GraphBuilder): EuclideanGraphBuilder()\n",
       "      (gnn): SAGEConv(16, 16, aggr=mean)\n",
       "    )\n",
       "    (1): DenseDynBlock(\n",
       "      (GraphBuilder): EuclideanGraphBuilder()\n",
       "      (gnn): SAGEConv(32, 16, aggr=mean)\n",
       "    )\n",
       "  )\n",
       "  (linear): Linear(in_features=96, out_features=2, bias=True)\n",
       ")"
      ]
     },
     "execution_count": 14,
     "metadata": {},
     "output_type": "execute_result"
    }
   ],
   "source": [
    "model = MyGNN(8, 16, 2, 3)\n",
    "model"
   ]
  },
  {
   "cell_type": "code",
   "execution_count": 15,
   "id": "edec501c",
   "metadata": {
    "execution": {
     "iopub.execute_input": "2023-02-22T06:42:05.679482Z",
     "iopub.status.busy": "2023-02-22T06:42:05.678008Z",
     "iopub.status.idle": "2023-02-22T06:42:05.682559Z",
     "shell.execute_reply": "2023-02-22T06:42:05.681717Z"
    },
    "papermill": {
     "duration": 0.015238,
     "end_time": "2023-02-22T06:42:05.684514",
     "exception": false,
     "start_time": "2023-02-22T06:42:05.669276",
     "status": "completed"
    },
    "tags": []
   },
   "outputs": [],
   "source": [
    "# train_loader = DataLoader(dataset[0:500], batch_size=32, num_workers=1)\n",
    "# for d in train_loader:\n",
    "#     print(d)\n",
    "#     break\n",
    "# for sample_batched in train_loader:\n",
    "#     outputs = model(sample_batched)\n",
    "#     print(outputs.shape, sample_batched.x.shape, sample_batched.y.shape)\n",
    "#     break"
   ]
  },
  {
   "cell_type": "code",
   "execution_count": 16,
   "id": "501b2f2d",
   "metadata": {
    "execution": {
     "iopub.execute_input": "2023-02-22T06:42:05.701674Z",
     "iopub.status.busy": "2023-02-22T06:42:05.700873Z",
     "iopub.status.idle": "2023-02-22T06:42:11.715026Z",
     "shell.execute_reply": "2023-02-22T06:42:11.713967Z"
    },
    "papermill": {
     "duration": 6.0253,
     "end_time": "2023-02-22T06:42:11.717498",
     "exception": false,
     "start_time": "2023-02-22T06:42:05.692198",
     "status": "completed"
    },
    "tags": []
   },
   "outputs": [
    {
     "name": "stdout",
     "output_type": "stream",
     "text": [
      "using  cuda\n"
     ]
    }
   ],
   "source": [
    "epochs = 1\n",
    "batchsize = 128\n",
    "criterion = nn.L1Loss()\n",
    "opt = torch.optim.AdamW(model.parameters(), lr=0.3)\n",
    "device = torch.device('cuda' if torch.cuda.is_available() else 'cpu')\n",
    "print('using ', device)\n",
    "model = model.to(device)"
   ]
  },
  {
   "cell_type": "code",
   "execution_count": 17,
   "id": "46b08bdd",
   "metadata": {
    "execution": {
     "iopub.execute_input": "2023-02-22T06:42:11.734964Z",
     "iopub.status.busy": "2023-02-22T06:42:11.734619Z",
     "iopub.status.idle": "2023-02-22T10:39:03.224075Z",
     "shell.execute_reply": "2023-02-22T10:39:03.222975Z"
    },
    "papermill": {
     "duration": 14211.500865,
     "end_time": "2023-02-22T10:39:03.226404",
     "exception": false,
     "start_time": "2023-02-22T06:42:11.725539",
     "status": "completed"
    },
    "tags": []
   },
   "outputs": [
    {
     "name": "stdout",
     "output_type": "stream",
     "text": [
      "batch 0\n"
     ]
    },
    {
     "name": "stderr",
     "output_type": "stream",
     "text": [
      "train: 100%|██████████| 17/17 [00:12<00:00,  1.38it/s]\n",
      "val: 100%|██████████| 8/8 [00:04<00:00,  1.95it/s]\n"
     ]
    },
    {
     "name": "stdout",
     "output_type": "stream",
     "text": [
      "epoch[0] 0.02933515673591977 0.06844869905047947\n",
      "batch 1\n"
     ]
    },
    {
     "name": "stderr",
     "output_type": "stream",
     "text": [
      "train: 100%|██████████| 17/17 [00:10<00:00,  1.58it/s]\n",
      "val: 100%|██████████| 8/8 [00:04<00:00,  1.94it/s]\n"
     ]
    },
    {
     "name": "stdout",
     "output_type": "stream",
     "text": [
      "epoch[0] 0.033188548542204356 0.07743994659847683\n",
      "batch 2\n"
     ]
    },
    {
     "name": "stderr",
     "output_type": "stream",
     "text": [
      "train: 100%|██████████| 17/17 [00:10<00:00,  1.57it/s]\n",
      "val: 100%|██████████| 8/8 [00:04<00:00,  1.96it/s]\n"
     ]
    },
    {
     "name": "stdout",
     "output_type": "stream",
     "text": [
      "epoch[0] 0.029425868079775857 0.06866035885281033\n",
      "batch 3\n"
     ]
    },
    {
     "name": "stderr",
     "output_type": "stream",
     "text": [
      "train: 100%|██████████| 17/17 [00:11<00:00,  1.52it/s]\n",
      "val: 100%|██████████| 8/8 [00:04<00:00,  1.97it/s]\n"
     ]
    },
    {
     "name": "stdout",
     "output_type": "stream",
     "text": [
      "epoch[0] 0.018927603789738245 0.044164408842722574\n",
      "batch 4\n"
     ]
    },
    {
     "name": "stderr",
     "output_type": "stream",
     "text": [
      "train: 100%|██████████| 17/17 [00:10<00:00,  1.58it/s]\n",
      "val: 100%|██████████| 8/8 [00:04<00:00,  1.81it/s]\n"
     ]
    },
    {
     "name": "stdout",
     "output_type": "stream",
     "text": [
      "epoch[0] 0.018772001152946836 0.043801336023542616\n",
      "batch 5\n"
     ]
    },
    {
     "name": "stderr",
     "output_type": "stream",
     "text": [
      "train: 100%|██████████| 17/17 [00:10<00:00,  1.57it/s]\n",
      "val: 100%|██████████| 8/8 [00:04<00:00,  1.94it/s]\n"
     ]
    },
    {
     "name": "stdout",
     "output_type": "stream",
     "text": [
      "epoch[0] 0.018946688629332045 0.0442089401351081\n",
      "batch 6\n"
     ]
    },
    {
     "name": "stderr",
     "output_type": "stream",
     "text": [
      "train: 100%|██████████| 17/17 [00:11<00:00,  1.54it/s]\n",
      "val: 100%|██████████| 8/8 [00:04<00:00,  1.97it/s]\n"
     ]
    },
    {
     "name": "stdout",
     "output_type": "stream",
     "text": [
      "epoch[0] 0.01889460211708432 0.04408740493986342\n",
      "batch 7\n"
     ]
    },
    {
     "name": "stderr",
     "output_type": "stream",
     "text": [
      "train: 100%|██████████| 17/17 [00:10<00:00,  1.60it/s]\n",
      "val: 100%|██████████| 8/8 [00:04<00:00,  1.79it/s]\n"
     ]
    },
    {
     "name": "stdout",
     "output_type": "stream",
     "text": [
      "epoch[0] 0.018869036152249292 0.044027751021915015\n",
      "batch 8\n"
     ]
    },
    {
     "name": "stderr",
     "output_type": "stream",
     "text": [
      "train: 100%|██████████| 17/17 [00:10<00:00,  1.60it/s]\n",
      "val: 100%|██████████| 8/8 [00:04<00:00,  1.99it/s]\n"
     ]
    },
    {
     "name": "stdout",
     "output_type": "stream",
     "text": [
      "epoch[0] 0.019141426881154378 0.04466332938936022\n",
      "batch 9\n"
     ]
    },
    {
     "name": "stderr",
     "output_type": "stream",
     "text": [
      "train: 100%|██████████| 17/17 [00:11<00:00,  1.53it/s]\n",
      "val: 100%|██████████| 8/8 [00:04<00:00,  1.93it/s]\n"
     ]
    },
    {
     "name": "stdout",
     "output_type": "stream",
     "text": [
      "epoch[0] 0.018721747738974434 0.04368407805760702\n",
      "batch 10\n"
     ]
    },
    {
     "name": "stderr",
     "output_type": "stream",
     "text": [
      "train: 100%|██████████| 17/17 [00:11<00:00,  1.53it/s]\n",
      "val: 100%|██████████| 8/8 [00:04<00:00,  1.82it/s]\n"
     ]
    },
    {
     "name": "stdout",
     "output_type": "stream",
     "text": [
      "epoch[0] 0.018937030292692638 0.04418640401628282\n",
      "batch 11\n"
     ]
    },
    {
     "name": "stderr",
     "output_type": "stream",
     "text": [
      "train: 100%|██████████| 17/17 [00:10<00:00,  1.61it/s]\n",
      "val: 100%|██████████| 8/8 [00:04<00:00,  1.93it/s]\n"
     ]
    },
    {
     "name": "stdout",
     "output_type": "stream",
     "text": [
      "epoch[0] 0.01915307817004976 0.0446905157301161\n",
      "batch 12\n"
     ]
    },
    {
     "name": "stderr",
     "output_type": "stream",
     "text": [
      "train: 100%|██████████| 17/17 [00:10<00:00,  1.59it/s]\n",
      "val: 100%|██████████| 8/8 [00:04<00:00,  1.90it/s]\n"
     ]
    },
    {
     "name": "stdout",
     "output_type": "stream",
     "text": [
      "epoch[0] 0.019076690219697497 0.044512277179294166\n",
      "batch 13\n"
     ]
    },
    {
     "name": "stderr",
     "output_type": "stream",
     "text": [
      "train: 100%|██████████| 17/17 [00:11<00:00,  1.50it/s]\n",
      "val: 100%|██████████| 8/8 [00:04<00:00,  1.93it/s]\n"
     ]
    },
    {
     "name": "stdout",
     "output_type": "stream",
     "text": [
      "epoch[0] 0.01910410551797776 0.04457624620861477\n",
      "batch 14\n"
     ]
    },
    {
     "name": "stderr",
     "output_type": "stream",
     "text": [
      "train: 100%|██████████| 17/17 [00:10<00:00,  1.58it/s]\n",
      "val: 100%|██████████| 8/8 [00:04<00:00,  1.97it/s]\n"
     ]
    },
    {
     "name": "stdout",
     "output_type": "stream",
     "text": [
      "epoch[0] 0.019012627488090877 0.04436279747221205\n",
      "batch 15\n"
     ]
    },
    {
     "name": "stderr",
     "output_type": "stream",
     "text": [
      "train: 100%|██████████| 17/17 [00:10<00:00,  1.57it/s]\n",
      "val: 100%|██████████| 8/8 [00:04<00:00,  1.85it/s]\n"
     ]
    },
    {
     "name": "stdout",
     "output_type": "stream",
     "text": [
      "epoch[0] 0.019013111250741142 0.04436392625172933\n",
      "batch 16\n"
     ]
    },
    {
     "name": "stderr",
     "output_type": "stream",
     "text": [
      "train: 100%|██████████| 17/17 [00:11<00:00,  1.52it/s]\n",
      "val: 100%|██████████| 8/8 [00:04<00:00,  1.98it/s]\n"
     ]
    },
    {
     "name": "stdout",
     "output_type": "stream",
     "text": [
      "epoch[0] 0.018724499770573208 0.043690499464670816\n",
      "batch 17\n"
     ]
    },
    {
     "name": "stderr",
     "output_type": "stream",
     "text": [
      "train: 100%|██████████| 17/17 [00:10<00:00,  1.57it/s]\n",
      "val: 100%|██████████| 8/8 [00:04<00:00,  1.82it/s]\n"
     ]
    },
    {
     "name": "stdout",
     "output_type": "stream",
     "text": [
      "epoch[0] 0.01882492281141735 0.043924819893307154\n",
      "batch 18\n"
     ]
    },
    {
     "name": "stderr",
     "output_type": "stream",
     "text": [
      "train: 100%|██████████| 17/17 [00:10<00:00,  1.60it/s]\n",
      "val: 100%|██████████| 8/8 [00:04<00:00,  1.92it/s]\n"
     ]
    },
    {
     "name": "stdout",
     "output_type": "stream",
     "text": [
      "epoch[0] 0.018932444141024636 0.044175702995724146\n",
      "batch 19\n"
     ]
    },
    {
     "name": "stderr",
     "output_type": "stream",
     "text": [
      "train: 100%|██████████| 17/17 [00:11<00:00,  1.53it/s]\n",
      "val: 100%|██████████| 8/8 [00:04<00:00,  1.97it/s]\n"
     ]
    },
    {
     "name": "stdout",
     "output_type": "stream",
     "text": [
      "epoch[0] 0.018594998461859566 0.04338832974433899\n",
      "batch 20\n"
     ]
    },
    {
     "name": "stderr",
     "output_type": "stream",
     "text": [
      "train: 100%|██████████| 17/17 [00:10<00:00,  1.55it/s]\n",
      "val: 100%|██████████| 8/8 [00:04<00:00,  1.79it/s]\n"
     ]
    },
    {
     "name": "stdout",
     "output_type": "stream",
     "text": [
      "epoch[0] 0.018920949186597553 0.044148881435394284\n",
      "batch 21\n"
     ]
    },
    {
     "name": "stderr",
     "output_type": "stream",
     "text": [
      "train: 100%|██████████| 17/17 [00:10<00:00,  1.57it/s]\n",
      "val: 100%|██████████| 8/8 [00:04<00:00,  1.94it/s]\n"
     ]
    },
    {
     "name": "stdout",
     "output_type": "stream",
     "text": [
      "epoch[0] 0.018832948889051165 0.043943547407786054\n",
      "batch 22\n"
     ]
    },
    {
     "name": "stderr",
     "output_type": "stream",
     "text": [
      "train: 100%|██████████| 17/17 [00:11<00:00,  1.54it/s]\n",
      "val: 100%|██████████| 8/8 [00:04<00:00,  1.93it/s]\n"
     ]
    },
    {
     "name": "stdout",
     "output_type": "stream",
     "text": [
      "epoch[0] 0.0190366378284636 0.0444188215997484\n",
      "batch 23\n"
     ]
    },
    {
     "name": "stderr",
     "output_type": "stream",
     "text": [
      "train: 100%|██████████| 17/17 [00:10<00:00,  1.63it/s]\n",
      "val: 100%|██████████| 8/8 [00:04<00:00,  1.82it/s]\n"
     ]
    },
    {
     "name": "stdout",
     "output_type": "stream",
     "text": [
      "epoch[0] 0.018832966940743583 0.043943589528401696\n",
      "batch 24\n"
     ]
    },
    {
     "name": "stderr",
     "output_type": "stream",
     "text": [
      "train: 100%|██████████| 17/17 [00:10<00:00,  1.58it/s]\n",
      "val: 100%|██████████| 8/8 [00:04<00:00,  1.85it/s]\n"
     ]
    },
    {
     "name": "stdout",
     "output_type": "stream",
     "text": [
      "epoch[0] 0.019094511100224087 0.0445538592338562\n",
      "batch 25\n"
     ]
    },
    {
     "name": "stderr",
     "output_type": "stream",
     "text": [
      "train: 100%|██████████| 17/17 [00:11<00:00,  1.52it/s]\n",
      "val: 100%|██████████| 8/8 [00:04<00:00,  1.88it/s]\n"
     ]
    },
    {
     "name": "stdout",
     "output_type": "stream",
     "text": [
      "epoch[0] 0.018921913987114316 0.044151132636600074\n",
      "batch 26\n"
     ]
    },
    {
     "name": "stderr",
     "output_type": "stream",
     "text": [
      "train: 100%|██████████| 17/17 [00:10<00:00,  1.59it/s]\n",
      "val: 100%|██████████| 8/8 [00:04<00:00,  1.77it/s]\n"
     ]
    },
    {
     "name": "stdout",
     "output_type": "stream",
     "text": [
      "epoch[0] 0.019183494022914343 0.0447614860534668\n",
      "batch 27\n"
     ]
    },
    {
     "name": "stderr",
     "output_type": "stream",
     "text": [
      "train: 100%|██████████| 17/17 [00:11<00:00,  1.54it/s]\n",
      "val: 100%|██████████| 8/8 [00:04<00:00,  1.88it/s]\n"
     ]
    },
    {
     "name": "stdout",
     "output_type": "stream",
     "text": [
      "epoch[0] 0.019178579648335775 0.044750019179450144\n",
      "batch 28\n"
     ]
    },
    {
     "name": "stderr",
     "output_type": "stream",
     "text": [
      "train: 100%|██████████| 17/17 [00:10<00:00,  1.55it/s]\n",
      "val: 100%|██████████| 8/8 [00:04<00:00,  1.83it/s]\n"
     ]
    },
    {
     "name": "stdout",
     "output_type": "stream",
     "text": [
      "epoch[0] 0.01920400619506836 0.04480934778849284\n",
      "batch 29\n"
     ]
    },
    {
     "name": "stderr",
     "output_type": "stream",
     "text": [
      "train: 100%|██████████| 17/17 [00:11<00:00,  1.54it/s]\n",
      "val: 100%|██████████| 8/8 [00:04<00:00,  1.91it/s]\n"
     ]
    },
    {
     "name": "stdout",
     "output_type": "stream",
     "text": [
      "epoch[0] 0.019001251742953345 0.04433625406689114\n",
      "batch 30\n"
     ]
    },
    {
     "name": "stderr",
     "output_type": "stream",
     "text": [
      "train: 100%|██████████| 17/17 [00:10<00:00,  1.55it/s]\n",
      "val: 100%|██████████| 8/8 [00:04<00:00,  1.90it/s]\n"
     ]
    },
    {
     "name": "stdout",
     "output_type": "stream",
     "text": [
      "epoch[0] 0.01910888149624779 0.044587390157911515\n",
      "batch 31\n"
     ]
    },
    {
     "name": "stderr",
     "output_type": "stream",
     "text": [
      "train: 100%|██████████| 17/17 [00:10<00:00,  1.56it/s]\n",
      "val: 100%|██████████| 8/8 [00:04<00:00,  1.85it/s]\n"
     ]
    },
    {
     "name": "stdout",
     "output_type": "stream",
     "text": [
      "epoch[0] 0.019153434549059187 0.044691347281138105\n",
      "batch 32\n"
     ]
    },
    {
     "name": "stderr",
     "output_type": "stream",
     "text": [
      "train: 100%|██████████| 17/17 [00:11<00:00,  1.53it/s]\n",
      "val: 100%|██████████| 8/8 [00:04<00:00,  1.91it/s]\n"
     ]
    },
    {
     "name": "stdout",
     "output_type": "stream",
     "text": [
      "epoch[0] 0.018773084254491895 0.04380386326048109\n",
      "batch 33\n"
     ]
    },
    {
     "name": "stderr",
     "output_type": "stream",
     "text": [
      "train: 100%|██████████| 17/17 [00:10<00:00,  1.59it/s]\n",
      "val: 100%|██████████| 8/8 [00:04<00:00,  1.89it/s]\n"
     ]
    },
    {
     "name": "stdout",
     "output_type": "stream",
     "text": [
      "epoch[0] 0.01918120713461013 0.04475614998075697\n",
      "batch 34\n"
     ]
    },
    {
     "name": "stderr",
     "output_type": "stream",
     "text": [
      "train: 100%|██████████| 17/17 [00:10<00:00,  1.59it/s]\n",
      "val: 100%|██████████| 8/8 [00:04<00:00,  1.90it/s]\n"
     ]
    },
    {
     "name": "stdout",
     "output_type": "stream",
     "text": [
      "epoch[0] 0.018968674114772252 0.04426023960113525\n",
      "batch 35\n"
     ]
    },
    {
     "name": "stderr",
     "output_type": "stream",
     "text": [
      "train: 100%|██████████| 17/17 [00:11<00:00,  1.52it/s]\n",
      "val: 100%|██████████| 8/8 [00:04<00:00,  1.90it/s]\n"
     ]
    },
    {
     "name": "stdout",
     "output_type": "stream",
     "text": [
      "epoch[0] 0.01906918196451096 0.04449475791719225\n",
      "batch 36\n"
     ]
    },
    {
     "name": "stderr",
     "output_type": "stream",
     "text": [
      "train: 100%|██████████| 17/17 [00:10<00:00,  1.59it/s]\n",
      "val: 100%|██████████| 8/8 [00:04<00:00,  1.94it/s]\n"
     ]
    },
    {
     "name": "stdout",
     "output_type": "stream",
     "text": [
      "epoch[0] 0.019183879012153262 0.04476238436169094\n",
      "batch 37\n"
     ]
    },
    {
     "name": "stderr",
     "output_type": "stream",
     "text": [
      "train: 100%|██████████| 17/17 [00:10<00:00,  1.58it/s]\n",
      "val: 100%|██████████| 8/8 [00:04<00:00,  1.99it/s]\n"
     ]
    },
    {
     "name": "stdout",
     "output_type": "stream",
     "text": [
      "epoch[0] 0.018521534488314673 0.04321691380606757\n",
      "batch 38\n"
     ]
    },
    {
     "name": "stderr",
     "output_type": "stream",
     "text": [
      "train: 100%|██████████| 17/17 [00:11<00:00,  1.53it/s]\n",
      "val: 100%|██████████| 8/8 [00:04<00:00,  1.95it/s]\n"
     ]
    },
    {
     "name": "stdout",
     "output_type": "stream",
     "text": [
      "epoch[0] 0.01892486288433983 0.04415801339679294\n",
      "batch 39\n"
     ]
    },
    {
     "name": "stderr",
     "output_type": "stream",
     "text": [
      "train: 100%|██████████| 17/17 [00:10<00:00,  1.57it/s]\n",
      "val: 100%|██████████| 8/8 [00:04<00:00,  1.82it/s]\n"
     ]
    },
    {
     "name": "stdout",
     "output_type": "stream",
     "text": [
      "epoch[0] 0.018829216502961658 0.04393483850691054\n",
      "batch 40\n"
     ]
    },
    {
     "name": "stderr",
     "output_type": "stream",
     "text": [
      "train: 100%|██████████| 17/17 [00:10<00:00,  1.60it/s]\n",
      "val: 100%|██████████| 8/8 [00:04<00:00,  1.95it/s]\n"
     ]
    },
    {
     "name": "stdout",
     "output_type": "stream",
     "text": [
      "epoch[0] 0.018806837853931245 0.04388262165917291\n",
      "batch 41\n"
     ]
    },
    {
     "name": "stderr",
     "output_type": "stream",
     "text": [
      "train: 100%|██████████| 17/17 [00:11<00:00,  1.50it/s]\n",
      "val: 100%|██████████| 8/8 [00:04<00:00,  1.96it/s]\n"
     ]
    },
    {
     "name": "stdout",
     "output_type": "stream",
     "text": [
      "epoch[0] 0.019149139381590345 0.0446813252237108\n",
      "batch 42\n"
     ]
    },
    {
     "name": "stderr",
     "output_type": "stream",
     "text": [
      "train: 100%|██████████| 17/17 [00:10<00:00,  1.60it/s]\n",
      "val: 100%|██████████| 8/8 [00:04<00:00,  1.82it/s]\n"
     ]
    },
    {
     "name": "stdout",
     "output_type": "stream",
     "text": [
      "epoch[0] 0.01892567963827224 0.04415991915596856\n",
      "batch 43\n"
     ]
    },
    {
     "name": "stderr",
     "output_type": "stream",
     "text": [
      "train: 100%|██████████| 17/17 [00:10<00:00,  1.59it/s]\n",
      "val: 100%|██████████| 8/8 [00:04<00:00,  1.96it/s]\n"
     ]
    },
    {
     "name": "stdout",
     "output_type": "stream",
     "text": [
      "epoch[0] 0.01910892373039609 0.04458748870425754\n",
      "batch 44\n"
     ]
    },
    {
     "name": "stderr",
     "output_type": "stream",
     "text": [
      "train: 100%|██████████| 17/17 [00:11<00:00,  1.54it/s]\n",
      "val: 100%|██████████| 8/8 [00:04<00:00,  1.98it/s]\n"
     ]
    },
    {
     "name": "stdout",
     "output_type": "stream",
     "text": [
      "epoch[0] 0.018891557171231223 0.04408030006620619\n",
      "batch 45\n"
     ]
    },
    {
     "name": "stderr",
     "output_type": "stream",
     "text": [
      "train: 100%|██████████| 17/17 [00:10<00:00,  1.59it/s]\n",
      "val: 100%|██████████| 8/8 [00:04<00:00,  1.83it/s]\n"
     ]
    },
    {
     "name": "stdout",
     "output_type": "stream",
     "text": [
      "epoch[0] 0.018856382824125745 0.04399822658962674\n",
      "batch 46\n"
     ]
    },
    {
     "name": "stderr",
     "output_type": "stream",
     "text": [
      "train: 100%|██████████| 17/17 [00:10<00:00,  1.57it/s]\n",
      "val: 100%|██████████| 8/8 [00:04<00:00,  1.94it/s]\n"
     ]
    },
    {
     "name": "stdout",
     "output_type": "stream",
     "text": [
      "epoch[0] 0.019098283109210787 0.0445626605881585\n",
      "batch 47\n"
     ]
    },
    {
     "name": "stderr",
     "output_type": "stream",
     "text": [
      "train: 100%|██████████| 17/17 [00:11<00:00,  1.50it/s]\n",
      "val: 100%|██████████| 8/8 [00:04<00:00,  1.87it/s]\n"
     ]
    },
    {
     "name": "stdout",
     "output_type": "stream",
     "text": [
      "epoch[0] 0.0189164552234468 0.04413839552137587\n",
      "batch 48\n"
     ]
    },
    {
     "name": "stderr",
     "output_type": "stream",
     "text": [
      "train: 100%|██████████| 17/17 [00:10<00:00,  1.58it/s]\n",
      "val: 100%|██████████| 8/8 [00:04<00:00,  1.70it/s]\n"
     ]
    },
    {
     "name": "stdout",
     "output_type": "stream",
     "text": [
      "epoch[0] 0.01912990445182437 0.04463644372092353\n",
      "batch 49\n"
     ]
    },
    {
     "name": "stderr",
     "output_type": "stream",
     "text": [
      "train: 100%|██████████| 17/17 [00:10<00:00,  1.57it/s]\n",
      "val: 100%|██████████| 8/8 [00:04<00:00,  1.86it/s]\n"
     ]
    },
    {
     "name": "stdout",
     "output_type": "stream",
     "text": [
      "epoch[0] 0.018915917305719284 0.044137140380011666\n",
      "batch 50\n"
     ]
    },
    {
     "name": "stderr",
     "output_type": "stream",
     "text": [
      "train: 100%|██████████| 17/17 [00:11<00:00,  1.51it/s]\n",
      "val: 100%|██████████| 8/8 [00:04<00:00,  1.88it/s]\n"
     ]
    },
    {
     "name": "stdout",
     "output_type": "stream",
     "text": [
      "epoch[0] 0.018994218167804538 0.04431984239154392\n",
      "batch 51\n"
     ]
    },
    {
     "name": "stderr",
     "output_type": "stream",
     "text": [
      "train: 100%|██████████| 17/17 [00:10<00:00,  1.59it/s]\n",
      "val: 100%|██████████| 8/8 [00:04<00:00,  1.73it/s]\n"
     ]
    },
    {
     "name": "stdout",
     "output_type": "stream",
     "text": [
      "epoch[0] 0.019187599704379128 0.04477106597688463\n",
      "batch 52\n"
     ]
    },
    {
     "name": "stderr",
     "output_type": "stream",
     "text": [
      "train: 100%|██████████| 17/17 [00:10<00:00,  1.56it/s]\n",
      "val: 100%|██████████| 8/8 [00:04<00:00,  1.82it/s]\n"
     ]
    },
    {
     "name": "stdout",
     "output_type": "stream",
     "text": [
      "epoch[0] 0.01905702761241368 0.04446639776229858\n",
      "batch 53\n"
     ]
    },
    {
     "name": "stderr",
     "output_type": "stream",
     "text": [
      "train: 100%|██████████| 17/17 [00:11<00:00,  1.54it/s]\n",
      "val: 100%|██████████| 8/8 [00:04<00:00,  1.95it/s]\n"
     ]
    },
    {
     "name": "stdout",
     "output_type": "stream",
     "text": [
      "epoch[0] 0.018917586008707684 0.044141034020317924\n",
      "batch 54\n"
     ]
    },
    {
     "name": "stderr",
     "output_type": "stream",
     "text": [
      "train: 100%|██████████| 17/17 [00:10<00:00,  1.57it/s]\n",
      "val: 100%|██████████| 8/8 [00:04<00:00,  1.85it/s]\n"
     ]
    },
    {
     "name": "stdout",
     "output_type": "stream",
     "text": [
      "epoch[0] 0.018900194962819417 0.04410045491324531\n",
      "batch 55\n"
     ]
    },
    {
     "name": "stderr",
     "output_type": "stream",
     "text": [
      "train: 100%|██████████| 17/17 [00:10<00:00,  1.59it/s]\n",
      "val: 100%|██████████| 8/8 [00:04<00:00,  1.99it/s]\n"
     ]
    },
    {
     "name": "stdout",
     "output_type": "stream",
     "text": [
      "epoch[0] 0.019009147598629907 0.044354677730136446\n",
      "batch 56\n"
     ]
    },
    {
     "name": "stderr",
     "output_type": "stream",
     "text": [
      "train: 100%|██████████| 17/17 [00:11<00:00,  1.49it/s]\n",
      "val: 100%|██████████| 8/8 [00:04<00:00,  1.96it/s]\n"
     ]
    },
    {
     "name": "stdout",
     "output_type": "stream",
     "text": [
      "epoch[0] 0.019010634535834903 0.04435814725028144\n",
      "batch 57\n"
     ]
    },
    {
     "name": "stderr",
     "output_type": "stream",
     "text": [
      "train: 100%|██████████| 17/17 [00:10<00:00,  1.58it/s]\n",
      "val: 100%|██████████| 8/8 [00:04<00:00,  1.81it/s]\n"
     ]
    },
    {
     "name": "stdout",
     "output_type": "stream",
     "text": [
      "epoch[0] 0.01855852865037464 0.043303233517540826\n",
      "batch 58\n"
     ]
    },
    {
     "name": "stderr",
     "output_type": "stream",
     "text": [
      "train: 100%|██████████| 17/17 [00:11<00:00,  1.52it/s]\n",
      "val: 100%|██████████| 8/8 [00:04<00:00,  1.94it/s]\n"
     ]
    },
    {
     "name": "stdout",
     "output_type": "stream",
     "text": [
      "epoch[0] 0.019005228451320102 0.04434553305308024\n",
      "batch 59\n"
     ]
    },
    {
     "name": "stderr",
     "output_type": "stream",
     "text": [
      "train: 100%|██████████| 17/17 [00:11<00:00,  1.54it/s]\n",
      "val: 100%|██████████| 8/8 [00:04<00:00,  1.97it/s]\n"
     ]
    },
    {
     "name": "stdout",
     "output_type": "stream",
     "text": [
      "epoch[0] 0.019076895940871468 0.04451275719536675\n",
      "batch 60\n"
     ]
    },
    {
     "name": "stderr",
     "output_type": "stream",
     "text": [
      "train: 100%|██████████| 17/17 [00:10<00:00,  1.59it/s]\n",
      "val: 100%|██████████| 8/8 [00:04<00:00,  1.75it/s]\n"
     ]
    },
    {
     "name": "stdout",
     "output_type": "stream",
     "text": [
      "epoch[0] 0.018833596479325067 0.043945058451758494\n",
      "batch 61\n"
     ]
    },
    {
     "name": "stderr",
     "output_type": "stream",
     "text": [
      "train: 100%|██████████| 17/17 [00:10<00:00,  1.59it/s]\n",
      "val: 100%|██████████| 8/8 [00:04<00:00,  1.84it/s]\n"
     ]
    },
    {
     "name": "stdout",
     "output_type": "stream",
     "text": [
      "epoch[0] 0.01890630767458961 0.04411471790737576\n",
      "batch 62\n"
     ]
    },
    {
     "name": "stderr",
     "output_type": "stream",
     "text": [
      "train: 100%|██████████| 17/17 [00:10<00:00,  1.55it/s]\n",
      "val: 100%|██████████| 8/8 [00:04<00:00,  1.91it/s]\n"
     ]
    },
    {
     "name": "stdout",
     "output_type": "stream",
     "text": [
      "epoch[0] 0.01871915067945208 0.04367801825205485\n",
      "batch 63\n"
     ]
    },
    {
     "name": "stderr",
     "output_type": "stream",
     "text": [
      "train: 100%|██████████| 17/17 [00:11<00:00,  1.52it/s]\n",
      "val: 100%|██████████| 8/8 [00:04<00:00,  1.88it/s]\n"
     ]
    },
    {
     "name": "stdout",
     "output_type": "stream",
     "text": [
      "epoch[0] 0.0191284399940854 0.04463302665286594\n",
      "batch 64\n"
     ]
    },
    {
     "name": "stderr",
     "output_type": "stream",
     "text": [
      "train: 100%|██████████| 17/17 [00:10<00:00,  1.56it/s]\n",
      "val: 100%|██████████| 8/8 [00:04<00:00,  1.89it/s]\n"
     ]
    },
    {
     "name": "stdout",
     "output_type": "stream",
     "text": [
      "epoch[0] 0.0190477002234686 0.044444633854760066\n",
      "batch 65\n"
     ]
    },
    {
     "name": "stderr",
     "output_type": "stream",
     "text": [
      "train: 100%|██████████| 17/17 [00:10<00:00,  1.57it/s]\n",
      "val: 100%|██████████| 8/8 [00:04<00:00,  1.89it/s]\n"
     ]
    },
    {
     "name": "stdout",
     "output_type": "stream",
     "text": [
      "epoch[0] 0.01900506746201288 0.04434515741136339\n",
      "batch 66\n"
     ]
    },
    {
     "name": "stderr",
     "output_type": "stream",
     "text": [
      "train: 100%|██████████| 17/17 [00:11<00:00,  1.54it/s]\n",
      "val: 100%|██████████| 8/8 [00:04<00:00,  1.96it/s]\n"
     ]
    },
    {
     "name": "stdout",
     "output_type": "stream",
     "text": [
      "epoch[0] 0.018910889966147287 0.044125409921010335\n",
      "batch 67\n"
     ]
    },
    {
     "name": "stderr",
     "output_type": "stream",
     "text": [
      "train: 100%|██████████| 17/17 [00:10<00:00,  1.57it/s]\n",
      "val: 100%|██████████| 8/8 [00:04<00:00,  1.96it/s]\n"
     ]
    },
    {
     "name": "stdout",
     "output_type": "stream",
     "text": [
      "epoch[0] 0.018758858499072845 0.04377066983116998\n",
      "batch 68\n"
     ]
    },
    {
     "name": "stderr",
     "output_type": "stream",
     "text": [
      "train: 100%|██████████| 17/17 [00:11<00:00,  1.54it/s]\n",
      "val: 100%|██████████| 8/8 [00:04<00:00,  1.98it/s]\n"
     ]
    },
    {
     "name": "stdout",
     "output_type": "stream",
     "text": [
      "epoch[0] 0.01876423302150908 0.04378321038352118\n",
      "batch 69\n"
     ]
    },
    {
     "name": "stderr",
     "output_type": "stream",
     "text": [
      "train: 100%|██████████| 17/17 [00:10<00:00,  1.56it/s]\n",
      "val: 100%|██████████| 8/8 [00:04<00:00,  1.83it/s]\n"
     ]
    },
    {
     "name": "stdout",
     "output_type": "stream",
     "text": [
      "epoch[0] 0.019168868519011 0.04472735987769233\n",
      "batch 70\n"
     ]
    },
    {
     "name": "stderr",
     "output_type": "stream",
     "text": [
      "train: 100%|██████████| 17/17 [00:11<00:00,  1.54it/s]\n",
      "val: 100%|██████████| 8/8 [00:04<00:00,  1.93it/s]\n"
     ]
    },
    {
     "name": "stdout",
     "output_type": "stream",
     "text": [
      "epoch[0] 0.019230628467741467 0.04487146642473009\n",
      "batch 71\n"
     ]
    },
    {
     "name": "stderr",
     "output_type": "stream",
     "text": [
      "train: 100%|██████████| 17/17 [00:10<00:00,  1.55it/s]\n",
      "val: 100%|██████████| 8/8 [00:04<00:00,  1.93it/s]\n"
     ]
    },
    {
     "name": "stdout",
     "output_type": "stream",
     "text": [
      "epoch[0] 0.01891132116317749 0.044126416047414144\n",
      "batch 72\n"
     ]
    },
    {
     "name": "stderr",
     "output_type": "stream",
     "text": [
      "train: 100%|██████████| 17/17 [00:10<00:00,  1.55it/s]\n",
      "val: 100%|██████████| 8/8 [00:04<00:00,  1.78it/s]\n"
     ]
    },
    {
     "name": "stdout",
     "output_type": "stream",
     "text": [
      "epoch[0] 0.018840623923710415 0.043961455821990965\n",
      "batch 73\n"
     ]
    },
    {
     "name": "stderr",
     "output_type": "stream",
     "text": [
      "train: 100%|██████████| 17/17 [00:10<00:00,  1.57it/s]\n",
      "val: 100%|██████████| 8/8 [00:04<00:00,  1.87it/s]\n"
     ]
    },
    {
     "name": "stdout",
     "output_type": "stream",
     "text": [
      "epoch[0] 0.018983851614452544 0.04429565376705594\n",
      "batch 74\n"
     ]
    },
    {
     "name": "stderr",
     "output_type": "stream",
     "text": [
      "train: 100%|██████████| 17/17 [00:10<00:00,  1.57it/s]\n",
      "val: 100%|██████████| 8/8 [00:04<00:00,  1.85it/s]\n"
     ]
    },
    {
     "name": "stdout",
     "output_type": "stream",
     "text": [
      "epoch[0] 0.0190205032484872 0.04438117424647013\n",
      "batch 75\n"
     ]
    },
    {
     "name": "stderr",
     "output_type": "stream",
     "text": [
      "train: 100%|██████████| 17/17 [00:10<00:00,  1.55it/s]\n",
      "val: 100%|██████████| 8/8 [00:04<00:00,  1.90it/s]\n"
     ]
    },
    {
     "name": "stdout",
     "output_type": "stream",
     "text": [
      "epoch[0] 0.018833243392762683 0.04394423458311293\n",
      "batch 76\n"
     ]
    },
    {
     "name": "stderr",
     "output_type": "stream",
     "text": [
      "train: 100%|██████████| 17/17 [00:10<00:00,  1.56it/s]\n",
      "val: 100%|██████████| 8/8 [00:04<00:00,  1.91it/s]\n"
     ]
    },
    {
     "name": "stdout",
     "output_type": "stream",
     "text": [
      "epoch[0] 0.018653355893634614 0.04352449708514743\n",
      "batch 77\n"
     ]
    },
    {
     "name": "stderr",
     "output_type": "stream",
     "text": [
      "train: 100%|██████████| 17/17 [00:10<00:00,  1.59it/s]\n",
      "val: 100%|██████████| 8/8 [00:04<00:00,  1.83it/s]\n"
     ]
    },
    {
     "name": "stdout",
     "output_type": "stream",
     "text": [
      "epoch[0] 0.018895755268278577 0.044090095625983344\n",
      "batch 78\n"
     ]
    },
    {
     "name": "stderr",
     "output_type": "stream",
     "text": [
      "train: 100%|██████████| 17/17 [00:10<00:00,  1.55it/s]\n",
      "val: 100%|██████████| 8/8 [00:04<00:00,  1.96it/s]\n"
     ]
    },
    {
     "name": "stdout",
     "output_type": "stream",
     "text": [
      "epoch[0] 0.018615235828218005 0.04343555026584201\n",
      "batch 79\n"
     ]
    },
    {
     "name": "stderr",
     "output_type": "stream",
     "text": [
      "train: 100%|██████████| 17/17 [00:10<00:00,  1.57it/s]\n",
      "val: 100%|██████████| 8/8 [00:04<00:00,  2.00it/s]\n"
     ]
    },
    {
     "name": "stdout",
     "output_type": "stream",
     "text": [
      "epoch[0] 0.019049486092158726 0.04444880088170369\n",
      "batch 80\n"
     ]
    },
    {
     "name": "stderr",
     "output_type": "stream",
     "text": [
      "train: 100%|██████████| 17/17 [00:11<00:00,  1.53it/s]\n",
      "val: 100%|██████████| 8/8 [00:04<00:00,  1.96it/s]\n"
     ]
    },
    {
     "name": "stdout",
     "output_type": "stream",
     "text": [
      "epoch[0] 0.018902165662674678 0.04410505321290758\n",
      "batch 81\n"
     ]
    },
    {
     "name": "stderr",
     "output_type": "stream",
     "text": [
      "train: 100%|██████████| 17/17 [00:11<00:00,  1.53it/s]\n",
      "val: 100%|██████████| 8/8 [00:04<00:00,  1.90it/s]\n"
     ]
    },
    {
     "name": "stdout",
     "output_type": "stream",
     "text": [
      "epoch[0] 0.01906971783865066 0.044496008290184866\n",
      "batch 82\n"
     ]
    },
    {
     "name": "stderr",
     "output_type": "stream",
     "text": [
      "train: 100%|██████████| 17/17 [00:10<00:00,  1.56it/s]\n",
      "val: 100%|██████████| 8/8 [00:04<00:00,  1.95it/s]\n"
     ]
    },
    {
     "name": "stdout",
     "output_type": "stream",
     "text": [
      "epoch[0] 0.018915364969344366 0.04413585159513685\n",
      "batch 83\n"
     ]
    },
    {
     "name": "stderr",
     "output_type": "stream",
     "text": [
      "train: 100%|██████████| 17/17 [00:11<00:00,  1.51it/s]\n",
      "val: 100%|██████████| 8/8 [00:04<00:00,  1.89it/s]\n"
     ]
    },
    {
     "name": "stdout",
     "output_type": "stream",
     "text": [
      "epoch[0] 0.018663723922911143 0.04354868915345934\n",
      "batch 84\n"
     ]
    },
    {
     "name": "stderr",
     "output_type": "stream",
     "text": [
      "train: 100%|██████████| 17/17 [00:10<00:00,  1.58it/s]\n",
      "val: 100%|██████████| 8/8 [00:04<00:00,  1.71it/s]\n"
     ]
    },
    {
     "name": "stdout",
     "output_type": "stream",
     "text": [
      "epoch[0] 0.01859932479404268 0.04339842451943292\n",
      "batch 85\n"
     ]
    },
    {
     "name": "stderr",
     "output_type": "stream",
     "text": [
      "train: 100%|██████████| 17/17 [00:10<00:00,  1.55it/s]\n",
      "val: 100%|██████████| 8/8 [00:04<00:00,  1.88it/s]\n"
     ]
    },
    {
     "name": "stdout",
     "output_type": "stream",
     "text": [
      "epoch[0] 0.01856557051340739 0.04331966453128391\n",
      "batch 86\n"
     ]
    },
    {
     "name": "stderr",
     "output_type": "stream",
     "text": [
      "train: 100%|██████████| 17/17 [00:11<00:00,  1.50it/s]\n",
      "val: 100%|██████████| 8/8 [00:04<00:00,  1.94it/s]\n"
     ]
    },
    {
     "name": "stdout",
     "output_type": "stream",
     "text": [
      "epoch[0] 0.01860130480357579 0.04340304454167684\n",
      "batch 87\n"
     ]
    },
    {
     "name": "stderr",
     "output_type": "stream",
     "text": [
      "train: 100%|██████████| 17/17 [00:10<00:00,  1.58it/s]\n",
      "val: 100%|██████████| 8/8 [00:04<00:00,  1.82it/s]\n"
     ]
    },
    {
     "name": "stdout",
     "output_type": "stream",
     "text": [
      "epoch[0] 0.01903294041043236 0.04441019429100884\n",
      "batch 88\n"
     ]
    },
    {
     "name": "stderr",
     "output_type": "stream",
     "text": [
      "train: 100%|██████████| 17/17 [00:10<00:00,  1.56it/s]\n",
      "val: 100%|██████████| 8/8 [00:04<00:00,  1.95it/s]\n"
     ]
    },
    {
     "name": "stdout",
     "output_type": "stream",
     "text": [
      "epoch[0] 0.01881566672098069 0.04390322234895494\n",
      "batch 89\n"
     ]
    },
    {
     "name": "stderr",
     "output_type": "stream",
     "text": [
      "train: 100%|██████████| 17/17 [00:11<00:00,  1.50it/s]\n",
      "val: 100%|██████████| 8/8 [00:04<00:00,  1.93it/s]\n"
     ]
    },
    {
     "name": "stdout",
     "output_type": "stream",
     "text": [
      "epoch[0] 0.018905284631819952 0.04411233080757989\n",
      "batch 90\n"
     ]
    },
    {
     "name": "stderr",
     "output_type": "stream",
     "text": [
      "train: 100%|██████████| 17/17 [00:10<00:00,  1.59it/s]\n",
      "val: 100%|██████████| 8/8 [00:04<00:00,  1.85it/s]\n"
     ]
    },
    {
     "name": "stdout",
     "output_type": "stream",
     "text": [
      "epoch[0] 0.019065899621872676 0.044487099117702905\n",
      "batch 91\n"
     ]
    },
    {
     "name": "stderr",
     "output_type": "stream",
     "text": [
      "train: 100%|██████████| 17/17 [00:10<00:00,  1.57it/s]\n",
      "val: 100%|██████████| 8/8 [00:04<00:00,  1.97it/s]\n"
     ]
    },
    {
     "name": "stdout",
     "output_type": "stream",
     "text": [
      "epoch[0] 0.018906693912687757 0.044115619129604766\n",
      "batch 92\n"
     ]
    },
    {
     "name": "stderr",
     "output_type": "stream",
     "text": [
      "train: 100%|██████████| 17/17 [00:11<00:00,  1.51it/s]\n",
      "val: 100%|██████████| 8/8 [00:04<00:00,  1.98it/s]\n"
     ]
    },
    {
     "name": "stdout",
     "output_type": "stream",
     "text": [
      "epoch[0] 0.01884618668329148 0.043974435594346786\n",
      "batch 93\n"
     ]
    },
    {
     "name": "stderr",
     "output_type": "stream",
     "text": [
      "train: 100%|██████████| 17/17 [00:10<00:00,  1.59it/s]\n",
      "val: 100%|██████████| 8/8 [00:04<00:00,  1.75it/s]\n"
     ]
    },
    {
     "name": "stdout",
     "output_type": "stream",
     "text": [
      "epoch[0] 0.01889901672090803 0.04409770568211873\n",
      "batch 94\n"
     ]
    },
    {
     "name": "stderr",
     "output_type": "stream",
     "text": [
      "train: 100%|██████████| 17/17 [00:10<00:00,  1.56it/s]\n",
      "val: 100%|██████████| 8/8 [00:04<00:00,  1.86it/s]\n"
     ]
    },
    {
     "name": "stdout",
     "output_type": "stream",
     "text": [
      "epoch[0] 0.01892741634732201 0.04416397147708469\n",
      "batch 95\n"
     ]
    },
    {
     "name": "stderr",
     "output_type": "stream",
     "text": [
      "train: 100%|██████████| 17/17 [00:11<00:00,  1.53it/s]\n",
      "val: 100%|██████████| 8/8 [00:04<00:00,  1.88it/s]\n"
     ]
    },
    {
     "name": "stdout",
     "output_type": "stream",
     "text": [
      "epoch[0] 0.018669733092898416 0.0435627105500963\n",
      "batch 96\n"
     ]
    },
    {
     "name": "stderr",
     "output_type": "stream",
     "text": [
      "train: 100%|██████████| 17/17 [00:10<00:00,  1.56it/s]\n",
      "val: 100%|██████████| 8/8 [00:04<00:00,  1.69it/s]\n"
     ]
    },
    {
     "name": "stdout",
     "output_type": "stream",
     "text": [
      "epoch[0] 0.01888945704414731 0.04407539976967706\n",
      "batch 97\n"
     ]
    },
    {
     "name": "stderr",
     "output_type": "stream",
     "text": [
      "train: 100%|██████████| 17/17 [00:11<00:00,  1.54it/s]\n",
      "val: 100%|██████████| 8/8 [00:04<00:00,  1.86it/s]\n"
     ]
    },
    {
     "name": "stdout",
     "output_type": "stream",
     "text": [
      "epoch[0] 0.019146086488451276 0.04467420180638631\n",
      "batch 98\n"
     ]
    },
    {
     "name": "stderr",
     "output_type": "stream",
     "text": [
      "train: 100%|██████████| 17/17 [00:10<00:00,  1.55it/s]\n",
      "val: 100%|██████████| 8/8 [00:04<00:00,  1.88it/s]\n"
     ]
    },
    {
     "name": "stdout",
     "output_type": "stream",
     "text": [
      "epoch[0] 0.01876009430204119 0.04377355337142944\n",
      "batch 99\n"
     ]
    },
    {
     "name": "stderr",
     "output_type": "stream",
     "text": [
      "train: 100%|██████████| 17/17 [00:10<00:00,  1.55it/s]\n",
      "val: 100%|██████████| 8/8 [00:04<00:00,  1.82it/s]\n"
     ]
    },
    {
     "name": "stdout",
     "output_type": "stream",
     "text": [
      "epoch[0] 0.018779265880584716 0.043818287054697674\n",
      "batch 100\n"
     ]
    },
    {
     "name": "stderr",
     "output_type": "stream",
     "text": [
      "train: 100%|██████████| 17/17 [00:10<00:00,  1.57it/s]\n",
      "val: 100%|██████████| 8/8 [00:04<00:00,  1.89it/s]\n"
     ]
    },
    {
     "name": "stdout",
     "output_type": "stream",
     "text": [
      "epoch[0] 0.018834795043582007 0.04394785510169135\n",
      "batch 101\n"
     ]
    },
    {
     "name": "stderr",
     "output_type": "stream",
     "text": [
      "train: 100%|██████████| 17/17 [00:11<00:00,  1.54it/s]\n",
      "val: 100%|██████████| 8/8 [00:04<00:00,  1.97it/s]\n"
     ]
    },
    {
     "name": "stdout",
     "output_type": "stream",
     "text": [
      "epoch[0] 0.018986274287814187 0.04430130667156643\n",
      "batch 102\n"
     ]
    },
    {
     "name": "stderr",
     "output_type": "stream",
     "text": [
      "train: 100%|██████████| 17/17 [00:10<00:00,  1.56it/s]\n",
      "val: 100%|██████████| 8/8 [00:04<00:00,  1.80it/s]\n"
     ]
    },
    {
     "name": "stdout",
     "output_type": "stream",
     "text": [
      "epoch[0] 0.019026281379518055 0.0443946565522088\n",
      "batch 103\n"
     ]
    },
    {
     "name": "stderr",
     "output_type": "stream",
     "text": [
      "train: 100%|██████████| 17/17 [00:10<00:00,  1.55it/s]\n",
      "val: 100%|██████████| 8/8 [00:04<00:00,  1.96it/s]\n"
     ]
    },
    {
     "name": "stdout",
     "output_type": "stream",
     "text": [
      "epoch[0] 0.01880220027196975 0.04387180063459608\n",
      "batch 104\n"
     ]
    },
    {
     "name": "stderr",
     "output_type": "stream",
     "text": [
      "train: 100%|██████████| 17/17 [00:11<00:00,  1.54it/s]\n",
      "val: 100%|██████████| 8/8 [00:04<00:00,  1.91it/s]\n"
     ]
    },
    {
     "name": "stdout",
     "output_type": "stream",
     "text": [
      "epoch[0] 0.018966346581776938 0.04425480869081285\n",
      "batch 105\n"
     ]
    },
    {
     "name": "stderr",
     "output_type": "stream",
     "text": [
      "train: 100%|██████████| 17/17 [00:10<00:00,  1.56it/s]\n",
      "val: 100%|██████████| 8/8 [00:04<00:00,  1.83it/s]\n"
     ]
    },
    {
     "name": "stdout",
     "output_type": "stream",
     "text": [
      "epoch[0] 0.01845626808348156 0.043064625528123644\n",
      "batch 106\n"
     ]
    },
    {
     "name": "stderr",
     "output_type": "stream",
     "text": [
      "train: 100%|██████████| 17/17 [00:10<00:00,  1.56it/s]\n",
      "val: 100%|██████████| 8/8 [00:04<00:00,  1.86it/s]\n"
     ]
    },
    {
     "name": "stdout",
     "output_type": "stream",
     "text": [
      "epoch[0] 0.01904171693892706 0.044430672857496474\n",
      "batch 107\n"
     ]
    },
    {
     "name": "stderr",
     "output_type": "stream",
     "text": [
      "train: 100%|██████████| 17/17 [00:11<00:00,  1.53it/s]\n",
      "val: 100%|██████████| 8/8 [00:04<00:00,  1.90it/s]\n"
     ]
    },
    {
     "name": "stdout",
     "output_type": "stream",
     "text": [
      "epoch[0] 0.019121080807277136 0.04461585521697998\n",
      "batch 108\n"
     ]
    },
    {
     "name": "stderr",
     "output_type": "stream",
     "text": [
      "train: 100%|██████████| 17/17 [00:10<00:00,  1.56it/s]\n",
      "val: 100%|██████████| 8/8 [00:04<00:00,  1.73it/s]\n"
     ]
    },
    {
     "name": "stdout",
     "output_type": "stream",
     "text": [
      "epoch[0] 0.018874363331567674 0.04404018110699124\n",
      "batch 109\n"
     ]
    },
    {
     "name": "stderr",
     "output_type": "stream",
     "text": [
      "train: 100%|██████████| 17/17 [00:11<00:00,  1.54it/s]\n",
      "val: 100%|██████████| 8/8 [00:04<00:00,  1.83it/s]\n"
     ]
    },
    {
     "name": "stdout",
     "output_type": "stream",
     "text": [
      "epoch[0] 0.018804116135551815 0.043876270982954234\n",
      "batch 110\n"
     ]
    },
    {
     "name": "stderr",
     "output_type": "stream",
     "text": [
      "train: 100%|██████████| 17/17 [00:10<00:00,  1.55it/s]\n",
      "val: 100%|██████████| 8/8 [00:04<00:00,  1.85it/s]\n"
     ]
    },
    {
     "name": "stdout",
     "output_type": "stream",
     "text": [
      "epoch[0] 0.01878454253787086 0.04383059925503201\n",
      "batch 111\n"
     ]
    },
    {
     "name": "stderr",
     "output_type": "stream",
     "text": [
      "train: 100%|██████████| 17/17 [00:10<00:00,  1.58it/s]\n",
      "val: 100%|██████████| 8/8 [00:04<00:00,  1.89it/s]\n"
     ]
    },
    {
     "name": "stdout",
     "output_type": "stream",
     "text": [
      "epoch[0] 0.01902775628226144 0.04439809799194336\n",
      "batch 112\n"
     ]
    },
    {
     "name": "stderr",
     "output_type": "stream",
     "text": [
      "train: 100%|██████████| 17/17 [00:11<00:00,  1.52it/s]\n",
      "val: 100%|██████████| 8/8 [00:04<00:00,  1.94it/s]\n"
     ]
    },
    {
     "name": "stdout",
     "output_type": "stream",
     "text": [
      "epoch[0] 0.018922054654075985 0.04415146085951063\n",
      "batch 113\n"
     ]
    },
    {
     "name": "stderr",
     "output_type": "stream",
     "text": [
      "train: 100%|██████████| 17/17 [00:10<00:00,  1.55it/s]\n",
      "val: 100%|██████████| 8/8 [00:04<00:00,  1.97it/s]\n"
     ]
    },
    {
     "name": "stdout",
     "output_type": "stream",
     "text": [
      "epoch[0] 0.018916639600481306 0.04413882573445638\n",
      "batch 114\n"
     ]
    },
    {
     "name": "stderr",
     "output_type": "stream",
     "text": [
      "train: 100%|██████████| 17/17 [00:10<00:00,  1.57it/s]\n",
      "val: 100%|██████████| 8/8 [00:04<00:00,  1.81it/s]\n"
     ]
    },
    {
     "name": "stdout",
     "output_type": "stream",
     "text": [
      "epoch[0] 0.019171343530927386 0.044733134905497234\n",
      "batch 115\n"
     ]
    },
    {
     "name": "stderr",
     "output_type": "stream",
     "text": [
      "train: 100%|██████████| 17/17 [00:10<00:00,  1.57it/s]\n",
      "val: 100%|██████████| 8/8 [00:04<00:00,  1.95it/s]\n"
     ]
    },
    {
     "name": "stdout",
     "output_type": "stream",
     "text": [
      "epoch[0] 0.01902535427184332 0.04439249330096775\n",
      "batch 116\n"
     ]
    },
    {
     "name": "stderr",
     "output_type": "stream",
     "text": [
      "train: 100%|██████████| 17/17 [00:11<00:00,  1.51it/s]\n",
      "val: 100%|██████████| 8/8 [00:04<00:00,  1.89it/s]\n"
     ]
    },
    {
     "name": "stdout",
     "output_type": "stream",
     "text": [
      "epoch[0] 0.018728502250853037 0.04369983858532376\n",
      "batch 117\n"
     ]
    },
    {
     "name": "stderr",
     "output_type": "stream",
     "text": [
      "train: 100%|██████████| 17/17 [00:10<00:00,  1.56it/s]\n",
      "val: 100%|██████████| 8/8 [00:04<00:00,  1.73it/s]\n"
     ]
    },
    {
     "name": "stdout",
     "output_type": "stream",
     "text": [
      "epoch[0] 0.019028858457292828 0.04440066973368327\n",
      "batch 118\n"
     ]
    },
    {
     "name": "stderr",
     "output_type": "stream",
     "text": [
      "train: 100%|██████████| 17/17 [00:10<00:00,  1.55it/s]\n",
      "val: 100%|██████████| 8/8 [00:04<00:00,  1.86it/s]\n"
     ]
    },
    {
     "name": "stdout",
     "output_type": "stream",
     "text": [
      "epoch[0] 0.01906558468228295 0.04448636425866021\n",
      "batch 119\n"
     ]
    },
    {
     "name": "stderr",
     "output_type": "stream",
     "text": [
      "train: 100%|██████████| 17/17 [00:11<00:00,  1.54it/s]\n",
      "val: 100%|██████████| 8/8 [00:04<00:00,  1.87it/s]\n"
     ]
    },
    {
     "name": "stdout",
     "output_type": "stream",
     "text": [
      "epoch[0] 0.01897320032119751 0.044270800749460854\n",
      "batch 120\n"
     ]
    },
    {
     "name": "stderr",
     "output_type": "stream",
     "text": [
      "train: 100%|██████████| 17/17 [00:10<00:00,  1.62it/s]\n",
      "val: 100%|██████████| 8/8 [00:04<00:00,  2.00it/s]\n"
     ]
    },
    {
     "name": "stdout",
     "output_type": "stream",
     "text": [
      "epoch[0] 0.019228510856628418 0.04486652533213298\n",
      "batch 121\n"
     ]
    },
    {
     "name": "stderr",
     "output_type": "stream",
     "text": [
      "train: 100%|██████████| 17/17 [00:10<00:00,  1.56it/s]\n",
      "val: 100%|██████████| 8/8 [00:04<00:00,  1.98it/s]\n"
     ]
    },
    {
     "name": "stdout",
     "output_type": "stream",
     "text": [
      "epoch[0] 0.01886584724698748 0.04402031024297078\n",
      "batch 122\n"
     ]
    },
    {
     "name": "stderr",
     "output_type": "stream",
     "text": [
      "train: 100%|██████████| 17/17 [00:11<00:00,  1.51it/s]\n",
      "val: 100%|██████████| 8/8 [00:04<00:00,  1.94it/s]\n"
     ]
    },
    {
     "name": "stdout",
     "output_type": "stream",
     "text": [
      "epoch[0] 0.019146007696787516 0.04467401795917087\n",
      "batch 123\n"
     ]
    },
    {
     "name": "stderr",
     "output_type": "stream",
     "text": [
      "train: 100%|██████████| 17/17 [00:10<00:00,  1.58it/s]\n",
      "val: 100%|██████████| 8/8 [00:04<00:00,  1.79it/s]\n"
     ]
    },
    {
     "name": "stdout",
     "output_type": "stream",
     "text": [
      "epoch[0] 0.01909440381186349 0.044553608894348146\n",
      "batch 124\n"
     ]
    },
    {
     "name": "stderr",
     "output_type": "stream",
     "text": [
      "train: 100%|██████████| 17/17 [00:10<00:00,  1.55it/s]\n",
      "val: 100%|██████████| 8/8 [00:04<00:00,  1.92it/s]\n"
     ]
    },
    {
     "name": "stdout",
     "output_type": "stream",
     "text": [
      "epoch[0] 0.01919633842649914 0.04479145632849799\n",
      "batch 125\n"
     ]
    },
    {
     "name": "stderr",
     "output_type": "stream",
     "text": [
      "train: 100%|██████████| 17/17 [00:11<00:00,  1.52it/s]\n",
      "val: 100%|██████████| 8/8 [00:04<00:00,  1.78it/s]\n"
     ]
    },
    {
     "name": "stdout",
     "output_type": "stream",
     "text": [
      "epoch[0] 0.018860720112210228 0.04400834692849053\n",
      "batch 126\n"
     ]
    },
    {
     "name": "stderr",
     "output_type": "stream",
     "text": [
      "train: 100%|██████████| 17/17 [00:11<00:00,  1.54it/s]\n",
      "val: 100%|██████████| 8/8 [00:04<00:00,  1.77it/s]\n"
     ]
    },
    {
     "name": "stdout",
     "output_type": "stream",
     "text": [
      "epoch[0] 0.01869866212209066 0.04363021161821153\n",
      "batch 127\n"
     ]
    },
    {
     "name": "stderr",
     "output_type": "stream",
     "text": [
      "train: 100%|██████████| 17/17 [00:11<00:00,  1.54it/s]\n",
      "val: 100%|██████████| 8/8 [00:04<00:00,  1.92it/s]\n"
     ]
    },
    {
     "name": "stdout",
     "output_type": "stream",
     "text": [
      "epoch[0] 0.018811767328353154 0.04389412376615736\n",
      "batch 128\n"
     ]
    },
    {
     "name": "stderr",
     "output_type": "stream",
     "text": [
      "train: 100%|██████████| 17/17 [00:11<00:00,  1.49it/s]\n",
      "val: 100%|██████████| 8/8 [00:04<00:00,  1.94it/s]\n"
     ]
    },
    {
     "name": "stdout",
     "output_type": "stream",
     "text": [
      "epoch[0] 0.0190870992342631 0.04453656487994724\n",
      "batch 129\n"
     ]
    },
    {
     "name": "stderr",
     "output_type": "stream",
     "text": [
      "train: 100%|██████████| 17/17 [00:11<00:00,  1.54it/s]\n",
      "val: 100%|██████████| 8/8 [00:04<00:00,  1.86it/s]\n"
     ]
    },
    {
     "name": "stdout",
     "output_type": "stream",
     "text": [
      "epoch[0] 0.018829359667641776 0.04393517255783081\n",
      "batch 130\n"
     ]
    },
    {
     "name": "stderr",
     "output_type": "stream",
     "text": [
      "train: 100%|██████████| 17/17 [00:10<00:00,  1.58it/s]\n",
      "val: 100%|██████████| 8/8 [00:04<00:00,  1.95it/s]\n"
     ]
    },
    {
     "name": "stdout",
     "output_type": "stream",
     "text": [
      "epoch[0] 0.0193070159639631 0.0450497039159139\n",
      "batch 131\n"
     ]
    },
    {
     "name": "stderr",
     "output_type": "stream",
     "text": [
      "train: 100%|██████████| 17/17 [00:10<00:00,  1.55it/s]\n",
      "val: 100%|██████████| 8/8 [00:04<00:00,  1.99it/s]\n"
     ]
    },
    {
     "name": "stdout",
     "output_type": "stream",
     "text": [
      "epoch[0] 0.01928948345638457 0.045008794731563995\n",
      "batch 132\n"
     ]
    },
    {
     "name": "stderr",
     "output_type": "stream",
     "text": [
      "train: 100%|██████████| 17/17 [00:10<00:00,  1.56it/s]\n",
      "val: 100%|██████████| 8/8 [00:04<00:00,  1.87it/s]\n"
     ]
    },
    {
     "name": "stdout",
     "output_type": "stream",
     "text": [
      "epoch[0] 0.019148931730361213 0.04468084070417616\n",
      "batch 133\n"
     ]
    },
    {
     "name": "stderr",
     "output_type": "stream",
     "text": [
      "train: 100%|██████████| 17/17 [00:10<00:00,  1.57it/s]\n",
      "val: 100%|██████████| 8/8 [00:04<00:00,  1.89it/s]\n"
     ]
    },
    {
     "name": "stdout",
     "output_type": "stream",
     "text": [
      "epoch[0] 0.01857302120753697 0.04333704948425293\n",
      "batch 134\n"
     ]
    },
    {
     "name": "stderr",
     "output_type": "stream",
     "text": [
      "train: 100%|██████████| 17/17 [00:10<00:00,  1.55it/s]\n",
      "val: 100%|██████████| 8/8 [00:04<00:00,  1.89it/s]\n"
     ]
    },
    {
     "name": "stdout",
     "output_type": "stream",
     "text": [
      "epoch[0] 0.019096212727682933 0.04455782969792684\n",
      "batch 135\n"
     ]
    },
    {
     "name": "stderr",
     "output_type": "stream",
     "text": [
      "train: 100%|██████████| 17/17 [00:11<00:00,  1.53it/s]\n",
      "val: 100%|██████████| 8/8 [00:04<00:00,  1.79it/s]\n"
     ]
    },
    {
     "name": "stdout",
     "output_type": "stream",
     "text": [
      "epoch[0] 0.019152207261040097 0.04468848360909356\n",
      "batch 136\n"
     ]
    },
    {
     "name": "stderr",
     "output_type": "stream",
     "text": [
      "train: 100%|██████████| 17/17 [00:10<00:00,  1.57it/s]\n",
      "val: 100%|██████████| 8/8 [00:04<00:00,  1.95it/s]\n"
     ]
    },
    {
     "name": "stdout",
     "output_type": "stream",
     "text": [
      "epoch[0] 0.018828582423073906 0.04393335898717245\n",
      "batch 137\n"
     ]
    },
    {
     "name": "stderr",
     "output_type": "stream",
     "text": [
      "train: 100%|██████████| 17/17 [00:11<00:00,  1.54it/s]\n",
      "val: 100%|██████████| 8/8 [00:04<00:00,  1.87it/s]\n"
     ]
    },
    {
     "name": "stdout",
     "output_type": "stream",
     "text": [
      "epoch[0] 0.018965738500867572 0.04425338983535767\n",
      "batch 138\n"
     ]
    },
    {
     "name": "stderr",
     "output_type": "stream",
     "text": [
      "train: 100%|██████████| 17/17 [00:11<00:00,  1.51it/s]\n",
      "val: 100%|██████████| 8/8 [00:04<00:00,  1.93it/s]\n"
     ]
    },
    {
     "name": "stdout",
     "output_type": "stream",
     "text": [
      "epoch[0] 0.018935522919609434 0.04418288681242201\n",
      "batch 139\n"
     ]
    },
    {
     "name": "stderr",
     "output_type": "stream",
     "text": [
      "train: 100%|██████████| 17/17 [00:10<00:00,  1.58it/s]\n",
      "val: 100%|██████████| 8/8 [00:04<00:00,  1.98it/s]\n"
     ]
    },
    {
     "name": "stdout",
     "output_type": "stream",
     "text": [
      "epoch[0] 0.01857478380203247 0.043341162204742434\n",
      "batch 140\n"
     ]
    },
    {
     "name": "stderr",
     "output_type": "stream",
     "text": [
      "train: 100%|██████████| 17/17 [00:10<00:00,  1.58it/s]\n",
      "val: 100%|██████████| 8/8 [00:04<00:00,  1.92it/s]\n"
     ]
    },
    {
     "name": "stdout",
     "output_type": "stream",
     "text": [
      "epoch[0] 0.01880839711143857 0.04388625992668999\n",
      "batch 141\n"
     ]
    },
    {
     "name": "stderr",
     "output_type": "stream",
     "text": [
      "train: 100%|██████████| 17/17 [00:11<00:00,  1.52it/s]\n",
      "val: 100%|██████████| 8/8 [00:04<00:00,  1.96it/s]\n"
     ]
    },
    {
     "name": "stdout",
     "output_type": "stream",
     "text": [
      "epoch[0] 0.01892505032675607 0.04415845076243083\n",
      "batch 142\n"
     ]
    },
    {
     "name": "stderr",
     "output_type": "stream",
     "text": [
      "train: 100%|██████████| 17/17 [00:10<00:00,  1.56it/s]\n",
      "val: 100%|██████████| 8/8 [00:04<00:00,  1.94it/s]\n"
     ]
    },
    {
     "name": "stdout",
     "output_type": "stream",
     "text": [
      "epoch[0] 0.0187622340520223 0.04377854612138536\n",
      "batch 143\n"
     ]
    },
    {
     "name": "stderr",
     "output_type": "stream",
     "text": [
      "train: 100%|██████████| 17/17 [00:10<00:00,  1.56it/s]\n",
      "val: 100%|██████████| 8/8 [00:04<00:00,  1.96it/s]\n"
     ]
    },
    {
     "name": "stdout",
     "output_type": "stream",
     "text": [
      "epoch[0] 0.018534878549121676 0.043248049947950576\n",
      "batch 144\n"
     ]
    },
    {
     "name": "stderr",
     "output_type": "stream",
     "text": [
      "train: 100%|██████████| 17/17 [00:11<00:00,  1.53it/s]\n",
      "val: 100%|██████████| 8/8 [00:04<00:00,  1.90it/s]\n"
     ]
    },
    {
     "name": "stdout",
     "output_type": "stream",
     "text": [
      "epoch[0] 0.019004072688874746 0.04434283627404107\n",
      "batch 145\n"
     ]
    },
    {
     "name": "stderr",
     "output_type": "stream",
     "text": [
      "train: 100%|██████████| 17/17 [00:10<00:00,  1.55it/s]\n",
      "val: 100%|██████████| 8/8 [00:04<00:00,  1.81it/s]\n"
     ]
    },
    {
     "name": "stdout",
     "output_type": "stream",
     "text": [
      "epoch[0] 0.0190057449113755 0.044346738126542835\n",
      "batch 146\n"
     ]
    },
    {
     "name": "stderr",
     "output_type": "stream",
     "text": [
      "train: 100%|██████████| 17/17 [00:11<00:00,  1.54it/s]\n",
      "val: 100%|██████████| 8/8 [00:04<00:00,  1.85it/s]\n"
     ]
    },
    {
     "name": "stdout",
     "output_type": "stream",
     "text": [
      "epoch[0] 0.018817349388485862 0.04390714857313368\n",
      "batch 147\n"
     ]
    },
    {
     "name": "stderr",
     "output_type": "stream",
     "text": [
      "train: 100%|██████████| 17/17 [00:10<00:00,  1.55it/s]\n",
      "val: 100%|██████████| 8/8 [00:04<00:00,  1.95it/s]\n"
     ]
    },
    {
     "name": "stdout",
     "output_type": "stream",
     "text": [
      "epoch[0] 0.018800232069832938 0.043867208162943525\n",
      "batch 148\n"
     ]
    },
    {
     "name": "stderr",
     "output_type": "stream",
     "text": [
      "train: 100%|██████████| 17/17 [00:10<00:00,  1.59it/s]\n",
      "val: 100%|██████████| 8/8 [00:04<00:00,  1.89it/s]\n"
     ]
    },
    {
     "name": "stdout",
     "output_type": "stream",
     "text": [
      "epoch[0] 0.018818256514413018 0.04390926520029704\n",
      "batch 149\n"
     ]
    },
    {
     "name": "stderr",
     "output_type": "stream",
     "text": [
      "train: 100%|██████████| 17/17 [00:11<00:00,  1.52it/s]\n",
      "val: 100%|██████████| 8/8 [00:04<00:00,  1.97it/s]\n"
     ]
    },
    {
     "name": "stdout",
     "output_type": "stream",
     "text": [
      "epoch[0] 0.01891642343430292 0.04413832134670682\n",
      "batch 150\n"
     ]
    },
    {
     "name": "stderr",
     "output_type": "stream",
     "text": [
      "train: 100%|██████████| 17/17 [00:11<00:00,  1.52it/s]\n",
      "val: 100%|██████████| 8/8 [00:04<00:00,  1.93it/s]\n"
     ]
    },
    {
     "name": "stdout",
     "output_type": "stream",
     "text": [
      "epoch[0] 0.019123967034476143 0.044622589747111\n",
      "batch 151\n"
     ]
    },
    {
     "name": "stderr",
     "output_type": "stream",
     "text": [
      "train: 100%|██████████| 17/17 [00:10<00:00,  1.55it/s]\n",
      "val: 100%|██████████| 8/8 [00:04<00:00,  1.94it/s]\n"
     ]
    },
    {
     "name": "stdout",
     "output_type": "stream",
     "text": [
      "epoch[0] 0.01905105113983154 0.044452452659606935\n",
      "batch 152\n"
     ]
    },
    {
     "name": "stderr",
     "output_type": "stream",
     "text": [
      "train: 100%|██████████| 17/17 [00:10<00:00,  1.59it/s]\n",
      "val: 100%|██████████| 8/8 [00:04<00:00,  1.84it/s]\n"
     ]
    },
    {
     "name": "stdout",
     "output_type": "stream",
     "text": [
      "epoch[0] 0.018950665224166142 0.044218218856387666\n",
      "batch 153\n"
     ]
    },
    {
     "name": "stderr",
     "output_type": "stream",
     "text": [
      "train: 100%|██████████| 17/17 [00:11<00:00,  1.53it/s]\n",
      "val: 100%|██████████| 8/8 [00:04<00:00,  1.84it/s]\n"
     ]
    },
    {
     "name": "stdout",
     "output_type": "stream",
     "text": [
      "epoch[0] 0.018901340393793015 0.04410312758551704\n",
      "batch 154\n"
     ]
    },
    {
     "name": "stderr",
     "output_type": "stream",
     "text": [
      "train: 100%|██████████| 17/17 [00:10<00:00,  1.57it/s]\n",
      "val: 100%|██████████| 8/8 [00:04<00:00,  1.89it/s]\n"
     ]
    },
    {
     "name": "stdout",
     "output_type": "stream",
     "text": [
      "epoch[0] 0.018866299334026518 0.04402136511272854\n",
      "batch 155\n"
     ]
    },
    {
     "name": "stderr",
     "output_type": "stream",
     "text": [
      "train: 100%|██████████| 17/17 [00:10<00:00,  1.58it/s]\n",
      "val: 100%|██████████| 8/8 [00:04<00:00,  1.97it/s]\n"
     ]
    },
    {
     "name": "stdout",
     "output_type": "stream",
     "text": [
      "epoch[0] 0.01899308817727225 0.04431720574696859\n",
      "batch 156\n"
     ]
    },
    {
     "name": "stderr",
     "output_type": "stream",
     "text": [
      "train: 100%|██████████| 17/17 [00:11<00:00,  1.51it/s]\n",
      "val: 100%|██████████| 8/8 [00:04<00:00,  1.93it/s]\n"
     ]
    },
    {
     "name": "stdout",
     "output_type": "stream",
     "text": [
      "epoch[0] 0.018740391844794865 0.043727580971188014\n",
      "batch 157\n"
     ]
    },
    {
     "name": "stderr",
     "output_type": "stream",
     "text": [
      "train: 100%|██████████| 17/17 [00:10<00:00,  1.58it/s]\n",
      "val: 100%|██████████| 8/8 [00:04<00:00,  1.95it/s]\n"
     ]
    },
    {
     "name": "stdout",
     "output_type": "stream",
     "text": [
      "epoch[0] 0.01896128154936291 0.044242990281846785\n",
      "batch 158\n"
     ]
    },
    {
     "name": "stderr",
     "output_type": "stream",
     "text": [
      "train: 100%|██████████| 17/17 [00:10<00:00,  1.57it/s]\n",
      "val: 100%|██████████| 8/8 [00:04<00:00,  1.94it/s]\n"
     ]
    },
    {
     "name": "stdout",
     "output_type": "stream",
     "text": [
      "epoch[0] 0.018992703301565987 0.044316307703653975\n",
      "batch 159\n"
     ]
    },
    {
     "name": "stderr",
     "output_type": "stream",
     "text": [
      "train: 100%|██████████| 17/17 [00:11<00:00,  1.54it/s]\n",
      "val: 100%|██████████| 8/8 [00:04<00:00,  1.93it/s]\n"
     ]
    },
    {
     "name": "stdout",
     "output_type": "stream",
     "text": [
      "epoch[0] 0.019163555077144078 0.04471496184666952\n",
      "batch 160\n"
     ]
    },
    {
     "name": "stderr",
     "output_type": "stream",
     "text": [
      "train: 100%|██████████| 17/17 [00:11<00:00,  1.54it/s]\n",
      "val: 100%|██████████| 8/8 [00:04<00:00,  1.92it/s]\n"
     ]
    },
    {
     "name": "stdout",
     "output_type": "stream",
     "text": [
      "epoch[0] 0.0187383162407648 0.043722737895117866\n",
      "batch 161\n"
     ]
    },
    {
     "name": "stderr",
     "output_type": "stream",
     "text": [
      "train: 100%|██████████| 17/17 [00:10<00:00,  1.55it/s]\n",
      "val: 100%|██████████| 8/8 [00:04<00:00,  1.93it/s]\n"
     ]
    },
    {
     "name": "stdout",
     "output_type": "stream",
     "text": [
      "epoch[0] 0.01895104169845581 0.04421909729639689\n",
      "batch 162\n"
     ]
    },
    {
     "name": "stderr",
     "output_type": "stream",
     "text": [
      "train: 100%|██████████| 17/17 [00:11<00:00,  1.53it/s]\n",
      "val: 100%|██████████| 8/8 [00:04<00:00,  1.92it/s]\n"
     ]
    },
    {
     "name": "stdout",
     "output_type": "stream",
     "text": [
      "epoch[0] 0.01891895396368844 0.04414422591527303\n",
      "batch 163\n"
     ]
    },
    {
     "name": "stderr",
     "output_type": "stream",
     "text": [
      "train: 100%|██████████| 17/17 [00:10<00:00,  1.55it/s]\n",
      "val: 100%|██████████| 8/8 [00:04<00:00,  1.95it/s]\n"
     ]
    },
    {
     "name": "stdout",
     "output_type": "stream",
     "text": [
      "epoch[0] 0.019202646982102167 0.04480617629157172\n",
      "batch 164\n"
     ]
    },
    {
     "name": "stderr",
     "output_type": "stream",
     "text": [
      "train: 100%|██████████| 17/17 [00:11<00:00,  1.53it/s]\n",
      "val: 100%|██████████| 8/8 [00:04<00:00,  1.90it/s]\n"
     ]
    },
    {
     "name": "stdout",
     "output_type": "stream",
     "text": [
      "epoch[0] 0.018935181413378036 0.04418208996454875\n",
      "batch 165\n"
     ]
    },
    {
     "name": "stderr",
     "output_type": "stream",
     "text": [
      "train: 100%|██████████| 17/17 [00:11<00:00,  1.53it/s]\n",
      "val: 100%|██████████| 8/8 [00:04<00:00,  1.92it/s]\n"
     ]
    },
    {
     "name": "stdout",
     "output_type": "stream",
     "text": [
      "epoch[0] 0.01912026711872646 0.04461395661036174\n",
      "batch 166\n"
     ]
    },
    {
     "name": "stderr",
     "output_type": "stream",
     "text": [
      "train: 100%|██████████| 17/17 [00:10<00:00,  1.56it/s]\n",
      "val: 100%|██████████| 8/8 [00:04<00:00,  1.88it/s]\n"
     ]
    },
    {
     "name": "stdout",
     "output_type": "stream",
     "text": [
      "epoch[0] 0.01866107316244216 0.04354250404569838\n",
      "batch 167\n"
     ]
    },
    {
     "name": "stderr",
     "output_type": "stream",
     "text": [
      "train: 100%|██████████| 17/17 [00:11<00:00,  1.54it/s]\n",
      "val: 100%|██████████| 8/8 [00:04<00:00,  1.93it/s]\n"
     ]
    },
    {
     "name": "stdout",
     "output_type": "stream",
     "text": [
      "epoch[0] 0.019149217151460195 0.04468150668674045\n",
      "batch 168\n"
     ]
    },
    {
     "name": "stderr",
     "output_type": "stream",
     "text": [
      "train: 100%|██████████| 17/17 [00:10<00:00,  1.55it/s]\n",
      "val: 100%|██████████| 8/8 [00:04<00:00,  1.81it/s]\n"
     ]
    },
    {
     "name": "stdout",
     "output_type": "stream",
     "text": [
      "epoch[0] 0.01911524625051589 0.044602241251203746\n",
      "batch 169\n"
     ]
    },
    {
     "name": "stderr",
     "output_type": "stream",
     "text": [
      "train: 100%|██████████| 17/17 [00:10<00:00,  1.56it/s]\n",
      "val: 100%|██████████| 8/8 [00:04<00:00,  1.77it/s]\n"
     ]
    },
    {
     "name": "stdout",
     "output_type": "stream",
     "text": [
      "epoch[0] 0.018802824588049025 0.043873257372114394\n",
      "batch 170\n"
     ]
    },
    {
     "name": "stderr",
     "output_type": "stream",
     "text": [
      "train: 100%|██████████| 17/17 [00:10<00:00,  1.56it/s]\n",
      "val: 100%|██████████| 8/8 [00:04<00:00,  1.88it/s]\n"
     ]
    },
    {
     "name": "stdout",
     "output_type": "stream",
     "text": [
      "epoch[0] 0.018932170754387266 0.04417506509357028\n",
      "batch 171\n"
     ]
    },
    {
     "name": "stderr",
     "output_type": "stream",
     "text": [
      "train: 100%|██████████| 17/17 [00:11<00:00,  1.54it/s]\n",
      "val: 100%|██████████| 8/8 [00:04<00:00,  1.88it/s]\n"
     ]
    },
    {
     "name": "stdout",
     "output_type": "stream",
     "text": [
      "epoch[0] 0.018975598357972644 0.044276396168602836\n",
      "batch 172\n"
     ]
    },
    {
     "name": "stderr",
     "output_type": "stream",
     "text": [
      "train: 100%|██████████| 17/17 [00:10<00:00,  1.58it/s]\n",
      "val: 100%|██████████| 8/8 [00:04<00:00,  1.73it/s]\n"
     ]
    },
    {
     "name": "stdout",
     "output_type": "stream",
     "text": [
      "epoch[0] 0.019028329735710506 0.044399436049991185\n",
      "batch 173\n"
     ]
    },
    {
     "name": "stderr",
     "output_type": "stream",
     "text": [
      "train: 100%|██████████| 17/17 [00:10<00:00,  1.57it/s]\n",
      "val: 100%|██████████| 8/8 [00:04<00:00,  1.90it/s]\n"
     ]
    },
    {
     "name": "stdout",
     "output_type": "stream",
     "text": [
      "epoch[0] 0.019093317417871385 0.04455107397503323\n",
      "batch 174\n"
     ]
    },
    {
     "name": "stderr",
     "output_type": "stream",
     "text": [
      "train: 100%|██████████| 17/17 [00:11<00:00,  1.47it/s]\n",
      "val: 100%|██████████| 8/8 [00:04<00:00,  1.93it/s]\n"
     ]
    },
    {
     "name": "stdout",
     "output_type": "stream",
     "text": [
      "epoch[0] 0.019046124617258707 0.044440957440270316\n",
      "batch 175\n"
     ]
    },
    {
     "name": "stderr",
     "output_type": "stream",
     "text": [
      "train: 100%|██████████| 17/17 [00:10<00:00,  1.57it/s]\n",
      "val: 100%|██████████| 8/8 [00:04<00:00,  1.84it/s]\n"
     ]
    },
    {
     "name": "stdout",
     "output_type": "stream",
     "text": [
      "epoch[0] 0.019321511927105132 0.04508352782991197\n",
      "batch 176\n"
     ]
    },
    {
     "name": "stderr",
     "output_type": "stream",
     "text": [
      "train: 100%|██████████| 17/17 [00:11<00:00,  1.54it/s]\n",
      "val: 100%|██████████| 8/8 [00:04<00:00,  1.91it/s]\n"
     ]
    },
    {
     "name": "stdout",
     "output_type": "stream",
     "text": [
      "epoch[0] 0.01897544236410232 0.044276032182905406\n",
      "batch 177\n"
     ]
    },
    {
     "name": "stderr",
     "output_type": "stream",
     "text": [
      "train: 100%|██████████| 17/17 [00:11<00:00,  1.52it/s]\n",
      "val: 100%|██████████| 8/8 [00:04<00:00,  1.94it/s]\n"
     ]
    },
    {
     "name": "stdout",
     "output_type": "stream",
     "text": [
      "epoch[0] 0.018622677212669737 0.04345291349622939\n",
      "batch 178\n"
     ]
    },
    {
     "name": "stderr",
     "output_type": "stream",
     "text": [
      "train: 100%|██████████| 17/17 [00:10<00:00,  1.55it/s]\n",
      "val: 100%|██████████| 8/8 [00:04<00:00,  1.79it/s]\n"
     ]
    },
    {
     "name": "stdout",
     "output_type": "stream",
     "text": [
      "epoch[0] 0.019068138485863095 0.04449232313368055\n",
      "batch 179\n"
     ]
    },
    {
     "name": "stderr",
     "output_type": "stream",
     "text": [
      "train: 100%|██████████| 17/17 [00:10<00:00,  1.57it/s]\n",
      "val: 100%|██████████| 8/8 [00:04<00:00,  1.95it/s]\n"
     ]
    },
    {
     "name": "stdout",
     "output_type": "stream",
     "text": [
      "epoch[0] 0.01876150471823556 0.043776844342549644\n",
      "batch 180\n"
     ]
    },
    {
     "name": "stderr",
     "output_type": "stream",
     "text": [
      "train: 100%|██████████| 17/17 [00:11<00:00,  1.52it/s]\n",
      "val: 100%|██████████| 8/8 [00:04<00:00,  1.90it/s]\n"
     ]
    },
    {
     "name": "stdout",
     "output_type": "stream",
     "text": [
      "epoch[0] 0.018845757529849096 0.043973434236314564\n",
      "batch 181\n"
     ]
    },
    {
     "name": "stderr",
     "output_type": "stream",
     "text": [
      "train: 100%|██████████| 17/17 [00:10<00:00,  1.57it/s]\n",
      "val: 100%|██████████| 8/8 [00:04<00:00,  1.83it/s]\n"
     ]
    },
    {
     "name": "stdout",
     "output_type": "stream",
     "text": [
      "epoch[0] 0.01867358230409168 0.04357169204288059\n",
      "batch 182\n"
     ]
    },
    {
     "name": "stderr",
     "output_type": "stream",
     "text": [
      "train: 100%|██████████| 17/17 [00:11<00:00,  1.52it/s]\n",
      "val: 100%|██████████| 8/8 [00:04<00:00,  1.92it/s]\n"
     ]
    },
    {
     "name": "stdout",
     "output_type": "stream",
     "text": [
      "epoch[0] 0.019162808713458834 0.044713220331403944\n",
      "batch 183\n"
     ]
    },
    {
     "name": "stderr",
     "output_type": "stream",
     "text": [
      "train: 100%|██████████| 17/17 [00:11<00:00,  1.52it/s]\n",
      "val: 100%|██████████| 8/8 [00:04<00:00,  1.95it/s]\n"
     ]
    },
    {
     "name": "stdout",
     "output_type": "stream",
     "text": [
      "epoch[0] 0.018916549682617186 0.044138615926106774\n",
      "batch 184\n"
     ]
    },
    {
     "name": "stderr",
     "output_type": "stream",
     "text": [
      "train: 100%|██████████| 17/17 [00:11<00:00,  1.50it/s]\n",
      "val: 100%|██████████| 8/8 [00:04<00:00,  1.94it/s]\n"
     ]
    },
    {
     "name": "stdout",
     "output_type": "stream",
     "text": [
      "epoch[0] 0.018952152842567082 0.04422168996598985\n",
      "batch 185\n"
     ]
    },
    {
     "name": "stderr",
     "output_type": "stream",
     "text": [
      "train: 100%|██████████| 17/17 [00:10<00:00,  1.57it/s]\n",
      "val: 100%|██████████| 8/8 [00:04<00:00,  1.88it/s]\n"
     ]
    },
    {
     "name": "stdout",
     "output_type": "stream",
     "text": [
      "epoch[0] 0.019016030402410598 0.04437073760562473\n",
      "batch 186\n"
     ]
    },
    {
     "name": "stderr",
     "output_type": "stream",
     "text": [
      "train: 100%|██████████| 17/17 [00:10<00:00,  1.61it/s]\n",
      "val: 100%|██████████| 8/8 [00:04<00:00,  1.91it/s]\n"
     ]
    },
    {
     "name": "stdout",
     "output_type": "stream",
     "text": [
      "epoch[0] 0.018962221713293165 0.044245183997684054\n",
      "batch 187\n"
     ]
    },
    {
     "name": "stderr",
     "output_type": "stream",
     "text": [
      "train: 100%|██████████| 17/17 [00:11<00:00,  1.52it/s]\n",
      "val: 100%|██████████| 8/8 [00:04<00:00,  1.83it/s]\n"
     ]
    },
    {
     "name": "stdout",
     "output_type": "stream",
     "text": [
      "epoch[0] 0.018675277460189092 0.043575647407107884\n",
      "batch 188\n"
     ]
    },
    {
     "name": "stderr",
     "output_type": "stream",
     "text": [
      "train: 100%|██████████| 17/17 [00:10<00:00,  1.57it/s]\n",
      "val: 100%|██████████| 8/8 [00:04<00:00,  1.86it/s]\n"
     ]
    },
    {
     "name": "stdout",
     "output_type": "stream",
     "text": [
      "epoch[0] 0.018589259556361606 0.04337493896484375\n",
      "batch 189\n"
     ]
    },
    {
     "name": "stderr",
     "output_type": "stream",
     "text": [
      "train: 100%|██████████| 17/17 [00:10<00:00,  1.60it/s]\n",
      "val: 100%|██████████| 8/8 [00:04<00:00,  1.88it/s]\n"
     ]
    },
    {
     "name": "stdout",
     "output_type": "stream",
     "text": [
      "epoch[0] 0.018988274733225504 0.044305974377526175\n",
      "batch 190\n"
     ]
    },
    {
     "name": "stderr",
     "output_type": "stream",
     "text": [
      "train: 100%|██████████| 17/17 [00:11<00:00,  1.52it/s]\n",
      "val: 100%|██████████| 8/8 [00:04<00:00,  1.95it/s]\n"
     ]
    },
    {
     "name": "stdout",
     "output_type": "stream",
     "text": [
      "epoch[0] 0.01898083550589425 0.044288616180419925\n",
      "batch 191\n"
     ]
    },
    {
     "name": "stderr",
     "output_type": "stream",
     "text": [
      "train: 100%|██████████| 17/17 [00:11<00:00,  1.54it/s]\n",
      "val: 100%|██████████| 8/8 [00:04<00:00,  1.93it/s]\n"
     ]
    },
    {
     "name": "stdout",
     "output_type": "stream",
     "text": [
      "epoch[0] 0.018726310843513127 0.043694725301530624\n",
      "batch 192\n"
     ]
    },
    {
     "name": "stderr",
     "output_type": "stream",
     "text": [
      "train: 100%|██████████| 17/17 [00:10<00:00,  1.56it/s]\n",
      "val: 100%|██████████| 8/8 [00:04<00:00,  1.95it/s]\n"
     ]
    },
    {
     "name": "stdout",
     "output_type": "stream",
     "text": [
      "epoch[0] 0.01881980475925264 0.04391287777158949\n",
      "batch 193\n"
     ]
    },
    {
     "name": "stderr",
     "output_type": "stream",
     "text": [
      "train: 100%|██████████| 17/17 [00:11<00:00,  1.52it/s]\n",
      "val: 100%|██████████| 8/8 [00:04<00:00,  1.93it/s]\n"
     ]
    },
    {
     "name": "stdout",
     "output_type": "stream",
     "text": [
      "epoch[0] 0.019157822132110595 0.04470158497492472\n",
      "batch 194\n"
     ]
    },
    {
     "name": "stderr",
     "output_type": "stream",
     "text": [
      "train: 100%|██████████| 17/17 [00:11<00:00,  1.53it/s]\n",
      "val: 100%|██████████| 8/8 [00:04<00:00,  1.94it/s]\n"
     ]
    },
    {
     "name": "stdout",
     "output_type": "stream",
     "text": [
      "epoch[0] 0.019115141686939056 0.04460199726952447\n",
      "batch 195\n"
     ]
    },
    {
     "name": "stderr",
     "output_type": "stream",
     "text": [
      "train: 100%|██████████| 17/17 [00:10<00:00,  1.59it/s]\n",
      "val: 100%|██████████| 8/8 [00:04<00:00,  1.93it/s]\n"
     ]
    },
    {
     "name": "stdout",
     "output_type": "stream",
     "text": [
      "epoch[0] 0.01870568865821475 0.04364660686916775\n",
      "batch 196\n"
     ]
    },
    {
     "name": "stderr",
     "output_type": "stream",
     "text": [
      "train: 100%|██████████| 17/17 [00:11<00:00,  1.48it/s]\n",
      "val: 100%|██████████| 8/8 [00:04<00:00,  1.92it/s]\n"
     ]
    },
    {
     "name": "stdout",
     "output_type": "stream",
     "text": [
      "epoch[0] 0.01907993237177531 0.044519842200809054\n",
      "batch 197\n"
     ]
    },
    {
     "name": "stderr",
     "output_type": "stream",
     "text": [
      "train: 100%|██████████| 17/17 [00:11<00:00,  1.54it/s]\n",
      "val: 100%|██████████| 8/8 [00:04<00:00,  1.96it/s]\n"
     ]
    },
    {
     "name": "stdout",
     "output_type": "stream",
     "text": [
      "epoch[0] 0.01896949881599063 0.044262163903978136\n",
      "batch 198\n"
     ]
    },
    {
     "name": "stderr",
     "output_type": "stream",
     "text": [
      "train: 100%|██████████| 17/17 [00:10<00:00,  1.59it/s]\n",
      "val: 100%|██████████| 8/8 [00:04<00:00,  1.85it/s]\n"
     ]
    },
    {
     "name": "stdout",
     "output_type": "stream",
     "text": [
      "epoch[0] 0.01885841721580142 0.04400297350353665\n",
      "batch 199\n"
     ]
    },
    {
     "name": "stderr",
     "output_type": "stream",
     "text": [
      "train: 100%|██████████| 17/17 [00:11<00:00,  1.51it/s]\n",
      "val: 100%|██████████| 8/8 [00:04<00:00,  1.83it/s]\n"
     ]
    },
    {
     "name": "stdout",
     "output_type": "stream",
     "text": [
      "epoch[0] 0.01933310792559669 0.045110585159725616\n",
      "batch 200\n"
     ]
    },
    {
     "name": "stderr",
     "output_type": "stream",
     "text": [
      "train: 100%|██████████| 17/17 [00:10<00:00,  1.55it/s]\n",
      "val: 100%|██████████| 8/8 [00:04<00:00,  1.83it/s]\n"
     ]
    },
    {
     "name": "stdout",
     "output_type": "stream",
     "text": [
      "epoch[0] 0.019031423727671304 0.04440665536456638\n",
      "batch 201\n"
     ]
    },
    {
     "name": "stderr",
     "output_type": "stream",
     "text": [
      "train: 100%|██████████| 17/17 [00:10<00:00,  1.55it/s]\n",
      "val: 100%|██████████| 8/8 [00:04<00:00,  1.92it/s]\n"
     ]
    },
    {
     "name": "stdout",
     "output_type": "stream",
     "text": [
      "epoch[0] 0.018989419028872537 0.04430864440070258\n",
      "batch 202\n"
     ]
    },
    {
     "name": "stderr",
     "output_type": "stream",
     "text": [
      "train: 100%|██████████| 17/17 [00:11<00:00,  1.50it/s]\n",
      "val: 100%|██████████| 8/8 [00:04<00:00,  1.94it/s]\n"
     ]
    },
    {
     "name": "stdout",
     "output_type": "stream",
     "text": [
      "epoch[0] 0.01890130667459397 0.04410304890738593\n",
      "batch 203\n"
     ]
    },
    {
     "name": "stderr",
     "output_type": "stream",
     "text": [
      "train: 100%|██████████| 17/17 [00:10<00:00,  1.56it/s]\n",
      "val: 100%|██████████| 8/8 [00:04<00:00,  1.92it/s]\n"
     ]
    },
    {
     "name": "stdout",
     "output_type": "stream",
     "text": [
      "epoch[0] 0.01918643622171311 0.04476835118399726\n",
      "batch 204\n"
     ]
    },
    {
     "name": "stderr",
     "output_type": "stream",
     "text": [
      "train: 100%|██████████| 17/17 [00:10<00:00,  1.58it/s]\n",
      "val: 100%|██████████| 8/8 [00:04<00:00,  1.93it/s]\n"
     ]
    },
    {
     "name": "stdout",
     "output_type": "stream",
     "text": [
      "epoch[0] 0.018907126699175155 0.04411662896474203\n",
      "batch 205\n"
     ]
    },
    {
     "name": "stderr",
     "output_type": "stream",
     "text": [
      "train: 100%|██████████| 17/17 [00:10<00:00,  1.57it/s]\n",
      "val: 100%|██████████| 8/8 [00:04<00:00,  1.79it/s]\n"
     ]
    },
    {
     "name": "stdout",
     "output_type": "stream",
     "text": [
      "epoch[0] 0.01881886436825707 0.04391068352593316\n",
      "batch 206\n"
     ]
    },
    {
     "name": "stderr",
     "output_type": "stream",
     "text": [
      "train: 100%|██████████| 17/17 [00:10<00:00,  1.56it/s]\n",
      "val: 100%|██████████| 8/8 [00:04<00:00,  1.87it/s]\n"
     ]
    },
    {
     "name": "stdout",
     "output_type": "stream",
     "text": [
      "epoch[0] 0.01929198355901809 0.04501462830437554\n",
      "batch 207\n"
     ]
    },
    {
     "name": "stderr",
     "output_type": "stream",
     "text": [
      "train: 100%|██████████| 17/17 [00:11<00:00,  1.51it/s]\n",
      "val: 100%|██████████| 8/8 [00:04<00:00,  1.91it/s]\n"
     ]
    },
    {
     "name": "stdout",
     "output_type": "stream",
     "text": [
      "epoch[0] 0.018851592200142996 0.04398704846700033\n",
      "batch 208\n"
     ]
    },
    {
     "name": "stderr",
     "output_type": "stream",
     "text": [
      "train: 100%|██████████| 17/17 [00:11<00:00,  1.47it/s]\n",
      "val: 100%|██████████| 8/8 [00:04<00:00,  1.96it/s]\n"
     ]
    },
    {
     "name": "stdout",
     "output_type": "stream",
     "text": [
      "epoch[0] 0.019069147564115978 0.04449467764960395\n",
      "batch 209\n"
     ]
    },
    {
     "name": "stderr",
     "output_type": "stream",
     "text": [
      "train: 100%|██████████| 17/17 [00:10<00:00,  1.55it/s]\n",
      "val: 100%|██████████| 8/8 [00:04<00:00,  1.92it/s]\n"
     ]
    },
    {
     "name": "stdout",
     "output_type": "stream",
     "text": [
      "epoch[0] 0.018938946383340018 0.044190874894460046\n",
      "batch 210\n"
     ]
    },
    {
     "name": "stderr",
     "output_type": "stream",
     "text": [
      "train: 100%|██████████| 17/17 [00:10<00:00,  1.59it/s]\n",
      "val: 100%|██████████| 8/8 [00:04<00:00,  1.88it/s]\n"
     ]
    },
    {
     "name": "stdout",
     "output_type": "stream",
     "text": [
      "epoch[0] 0.01915426640283494 0.04469328827328152\n",
      "batch 211\n"
     ]
    },
    {
     "name": "stderr",
     "output_type": "stream",
     "text": [
      "train: 100%|██████████| 17/17 [00:11<00:00,  1.52it/s]\n",
      "val: 100%|██████████| 8/8 [00:04<00:00,  1.88it/s]\n"
     ]
    },
    {
     "name": "stdout",
     "output_type": "stream",
     "text": [
      "epoch[0] 0.01896995669319516 0.044263232284122045\n",
      "batch 212\n"
     ]
    },
    {
     "name": "stderr",
     "output_type": "stream",
     "text": [
      "train: 100%|██████████| 17/17 [00:10<00:00,  1.58it/s]\n",
      "val: 100%|██████████| 8/8 [00:04<00:00,  1.88it/s]\n"
     ]
    },
    {
     "name": "stdout",
     "output_type": "stream",
     "text": [
      "epoch[0] 0.019164414292290096 0.04471696668201023\n",
      "batch 213\n"
     ]
    },
    {
     "name": "stderr",
     "output_type": "stream",
     "text": [
      "train: 100%|██████████| 17/17 [00:10<00:00,  1.56it/s]\n",
      "val: 100%|██████████| 8/8 [00:04<00:00,  1.90it/s]\n"
     ]
    },
    {
     "name": "stdout",
     "output_type": "stream",
     "text": [
      "epoch[0] 0.018615359578813825 0.04343583901723226\n",
      "batch 214\n"
     ]
    },
    {
     "name": "stderr",
     "output_type": "stream",
     "text": [
      "train: 100%|██████████| 17/17 [00:11<00:00,  1.52it/s]\n",
      "val: 100%|██████████| 8/8 [00:04<00:00,  1.82it/s]\n"
     ]
    },
    {
     "name": "stdout",
     "output_type": "stream",
     "text": [
      "epoch[0] 0.018873372759137835 0.04403786977132162\n",
      "batch 215\n"
     ]
    },
    {
     "name": "stderr",
     "output_type": "stream",
     "text": [
      "train: 100%|██████████| 17/17 [00:10<00:00,  1.56it/s]\n",
      "val: 100%|██████████| 8/8 [00:04<00:00,  1.87it/s]\n"
     ]
    },
    {
     "name": "stdout",
     "output_type": "stream",
     "text": [
      "epoch[0] 0.01889024462018694 0.04407723744710287\n",
      "batch 216\n"
     ]
    },
    {
     "name": "stderr",
     "output_type": "stream",
     "text": [
      "train: 100%|██████████| 17/17 [00:10<00:00,  1.57it/s]\n",
      "val: 100%|██████████| 8/8 [00:04<00:00,  1.91it/s]\n"
     ]
    },
    {
     "name": "stdout",
     "output_type": "stream",
     "text": [
      "epoch[0] 0.018905709357488722 0.04411332183414035\n",
      "batch 217\n"
     ]
    },
    {
     "name": "stderr",
     "output_type": "stream",
     "text": [
      "train: 100%|██████████| 17/17 [00:11<00:00,  1.51it/s]\n",
      "val: 100%|██████████| 8/8 [00:04<00:00,  1.95it/s]\n"
     ]
    },
    {
     "name": "stdout",
     "output_type": "stream",
     "text": [
      "epoch[0] 0.018911274728320895 0.04412630769941542\n",
      "batch 218\n"
     ]
    },
    {
     "name": "stderr",
     "output_type": "stream",
     "text": [
      "train: 100%|██████████| 17/17 [00:10<00:00,  1.55it/s]\n",
      "val: 100%|██████████| 8/8 [00:04<00:00,  1.96it/s]\n"
     ]
    },
    {
     "name": "stdout",
     "output_type": "stream",
     "text": [
      "epoch[0] 0.018780425162542434 0.043820992045932344\n",
      "batch 219\n"
     ]
    },
    {
     "name": "stderr",
     "output_type": "stream",
     "text": [
      "train: 100%|██████████| 17/17 [00:10<00:00,  1.57it/s]\n",
      "val: 100%|██████████| 8/8 [00:04<00:00,  1.97it/s]\n"
     ]
    },
    {
     "name": "stdout",
     "output_type": "stream",
     "text": [
      "epoch[0] 0.01907034953435262 0.04449748224682278\n",
      "batch 220\n"
     ]
    },
    {
     "name": "stderr",
     "output_type": "stream",
     "text": [
      "train: 100%|██████████| 17/17 [00:11<00:00,  1.50it/s]\n",
      "val: 100%|██████████| 8/8 [00:04<00:00,  1.94it/s]\n"
     ]
    },
    {
     "name": "stdout",
     "output_type": "stream",
     "text": [
      "epoch[0] 0.018821611858549574 0.04391709433661567\n",
      "batch 221\n"
     ]
    },
    {
     "name": "stderr",
     "output_type": "stream",
     "text": [
      "train: 100%|██████████| 17/17 [00:10<00:00,  1.58it/s]\n",
      "val: 100%|██████████| 8/8 [00:04<00:00,  1.98it/s]\n"
     ]
    },
    {
     "name": "stdout",
     "output_type": "stream",
     "text": [
      "epoch[0] 0.019166537920633952 0.044721921814812556\n",
      "batch 222\n"
     ]
    },
    {
     "name": "stderr",
     "output_type": "stream",
     "text": [
      "train: 100%|██████████| 17/17 [00:10<00:00,  1.56it/s]\n",
      "val: 100%|██████████| 8/8 [00:04<00:00,  1.90it/s]\n"
     ]
    },
    {
     "name": "stdout",
     "output_type": "stream",
     "text": [
      "epoch[0] 0.01849676665805635 0.043159122202131486\n",
      "batch 223\n"
     ]
    },
    {
     "name": "stderr",
     "output_type": "stream",
     "text": [
      "train: 100%|██████████| 17/17 [00:11<00:00,  1.51it/s]\n",
      "val: 100%|██████████| 8/8 [00:04<00:00,  1.93it/s]\n"
     ]
    },
    {
     "name": "stdout",
     "output_type": "stream",
     "text": [
      "epoch[0] 0.01914888234365554 0.044680725468529595\n",
      "batch 224\n"
     ]
    },
    {
     "name": "stderr",
     "output_type": "stream",
     "text": [
      "train: 100%|██████████| 17/17 [00:10<00:00,  1.58it/s]\n",
      "val: 100%|██████████| 8/8 [00:04<00:00,  1.88it/s]\n"
     ]
    },
    {
     "name": "stdout",
     "output_type": "stream",
     "text": [
      "epoch[0] 0.019212104365939186 0.044828243520524766\n",
      "batch 225\n"
     ]
    },
    {
     "name": "stderr",
     "output_type": "stream",
     "text": [
      "train: 100%|██████████| 17/17 [00:10<00:00,  1.57it/s]\n",
      "val: 100%|██████████| 8/8 [00:04<00:00,  1.80it/s]\n"
     ]
    },
    {
     "name": "stdout",
     "output_type": "stream",
     "text": [
      "epoch[0] 0.018898633207593645 0.044096810817718504\n",
      "batch 226\n"
     ]
    },
    {
     "name": "stderr",
     "output_type": "stream",
     "text": [
      "train: 100%|██████████| 17/17 [00:11<00:00,  1.53it/s]\n",
      "val: 100%|██████████| 8/8 [00:04<00:00,  1.90it/s]\n"
     ]
    },
    {
     "name": "stdout",
     "output_type": "stream",
     "text": [
      "epoch[0] 0.01905420598529634 0.04445981396569146\n",
      "batch 227\n"
     ]
    },
    {
     "name": "stderr",
     "output_type": "stream",
     "text": [
      "train: 100%|██████████| 17/17 [00:10<00:00,  1.57it/s]\n",
      "val: 100%|██████████| 8/8 [00:04<00:00,  1.87it/s]\n"
     ]
    },
    {
     "name": "stdout",
     "output_type": "stream",
     "text": [
      "epoch[0] 0.018822055430639358 0.0439181293381585\n",
      "batch 228\n"
     ]
    },
    {
     "name": "stderr",
     "output_type": "stream",
     "text": [
      "train: 100%|██████████| 17/17 [00:10<00:00,  1.56it/s]\n",
      "val: 100%|██████████| 8/8 [00:04<00:00,  1.94it/s]\n"
     ]
    },
    {
     "name": "stdout",
     "output_type": "stream",
     "text": [
      "epoch[0] 0.01895407688050043 0.04422617938783434\n",
      "batch 229\n"
     ]
    },
    {
     "name": "stderr",
     "output_type": "stream",
     "text": [
      "train: 100%|██████████| 17/17 [00:11<00:00,  1.49it/s]\n",
      "val: 100%|██████████| 8/8 [00:04<00:00,  1.90it/s]\n"
     ]
    },
    {
     "name": "stdout",
     "output_type": "stream",
     "text": [
      "epoch[0] 0.018900341192881268 0.044100796116722955\n",
      "batch 230\n"
     ]
    },
    {
     "name": "stderr",
     "output_type": "stream",
     "text": [
      "train: 100%|██████████| 17/17 [00:11<00:00,  1.54it/s]\n",
      "val: 100%|██████████| 8/8 [00:04<00:00,  1.91it/s]\n"
     ]
    },
    {
     "name": "stdout",
     "output_type": "stream",
     "text": [
      "epoch[0] 0.0188706830569676 0.04403159379959107\n",
      "batch 231\n"
     ]
    },
    {
     "name": "stderr",
     "output_type": "stream",
     "text": [
      "train: 100%|██████████| 17/17 [00:10<00:00,  1.58it/s]\n",
      "val: 100%|██████████| 8/8 [00:04<00:00,  1.96it/s]\n"
     ]
    },
    {
     "name": "stdout",
     "output_type": "stream",
     "text": [
      "epoch[0] 0.018857906545911518 0.044001781940460206\n",
      "batch 232\n"
     ]
    },
    {
     "name": "stderr",
     "output_type": "stream",
     "text": [
      "train: 100%|██████████| 17/17 [00:11<00:00,  1.50it/s]\n",
      "val: 100%|██████████| 8/8 [00:04<00:00,  1.97it/s]\n"
     ]
    },
    {
     "name": "stdout",
     "output_type": "stream",
     "text": [
      "epoch[0] 0.018750432900020056 0.04375101010004679\n",
      "batch 233\n"
     ]
    },
    {
     "name": "stderr",
     "output_type": "stream",
     "text": [
      "train: 100%|██████████| 17/17 [00:11<00:00,  1.50it/s]\n",
      "val: 100%|██████████| 8/8 [00:04<00:00,  1.98it/s]\n"
     ]
    },
    {
     "name": "stdout",
     "output_type": "stream",
     "text": [
      "epoch[0] 0.018848882062094553 0.043980724811553955\n",
      "batch 234\n"
     ]
    },
    {
     "name": "stderr",
     "output_type": "stream",
     "text": [
      "train: 100%|██████████| 17/17 [00:10<00:00,  1.55it/s]\n",
      "val: 100%|██████████| 8/8 [00:04<00:00,  1.91it/s]\n"
     ]
    },
    {
     "name": "stdout",
     "output_type": "stream",
     "text": [
      "epoch[0] 0.01931781326021467 0.04507489760716756\n",
      "batch 235\n"
     ]
    },
    {
     "name": "stderr",
     "output_type": "stream",
     "text": [
      "train: 100%|██████████| 17/17 [00:10<00:00,  1.55it/s]\n",
      "val: 100%|██████████| 8/8 [00:04<00:00,  1.80it/s]\n"
     ]
    },
    {
     "name": "stdout",
     "output_type": "stream",
     "text": [
      "epoch[0] 0.018857690947396415 0.0440012788772583\n",
      "batch 236\n"
     ]
    },
    {
     "name": "stderr",
     "output_type": "stream",
     "text": [
      "train: 100%|██████████| 17/17 [00:10<00:00,  1.56it/s]\n",
      "val: 100%|██████████| 8/8 [00:04<00:00,  1.80it/s]\n"
     ]
    },
    {
     "name": "stdout",
     "output_type": "stream",
     "text": [
      "epoch[0] 0.019024968828473772 0.04439159393310547\n",
      "batch 237\n"
     ]
    },
    {
     "name": "stderr",
     "output_type": "stream",
     "text": [
      "train: 100%|██████████| 17/17 [00:10<00:00,  1.56it/s]\n",
      "val: 100%|██████████| 8/8 [00:04<00:00,  1.97it/s]\n"
     ]
    },
    {
     "name": "stdout",
     "output_type": "stream",
     "text": [
      "epoch[0] 0.019078283650534492 0.044515995184580485\n",
      "batch 238\n"
     ]
    },
    {
     "name": "stderr",
     "output_type": "stream",
     "text": [
      "train: 100%|██████████| 17/17 [00:10<00:00,  1.55it/s]\n",
      "val: 100%|██████████| 8/8 [00:04<00:00,  1.81it/s]\n"
     ]
    },
    {
     "name": "stdout",
     "output_type": "stream",
     "text": [
      "epoch[0] 0.01913192317599342 0.04464115407731798\n",
      "batch 239\n"
     ]
    },
    {
     "name": "stderr",
     "output_type": "stream",
     "text": [
      "train: 100%|██████████| 17/17 [00:10<00:00,  1.56it/s]\n",
      "val: 100%|██████████| 8/8 [00:04<00:00,  1.89it/s]\n"
     ]
    },
    {
     "name": "stdout",
     "output_type": "stream",
     "text": [
      "epoch[0] 0.018900009791056317 0.044100022845798066\n",
      "batch 240\n"
     ]
    },
    {
     "name": "stderr",
     "output_type": "stream",
     "text": [
      "train: 100%|██████████| 17/17 [00:11<00:00,  1.53it/s]\n",
      "val: 100%|██████████| 8/8 [00:04<00:00,  1.97it/s]\n"
     ]
    },
    {
     "name": "stdout",
     "output_type": "stream",
     "text": [
      "epoch[0] 0.018887750875382196 0.044071418709225124\n",
      "batch 241\n"
     ]
    },
    {
     "name": "stderr",
     "output_type": "stream",
     "text": [
      "train: 100%|██████████| 17/17 [00:10<00:00,  1.55it/s]\n",
      "val: 100%|██████████| 8/8 [00:04<00:00,  1.73it/s]\n"
     ]
    },
    {
     "name": "stdout",
     "output_type": "stream",
     "text": [
      "epoch[0] 0.01879658097312564 0.04385868893729316\n",
      "batch 242\n"
     ]
    },
    {
     "name": "stderr",
     "output_type": "stream",
     "text": [
      "train: 100%|██████████| 17/17 [00:10<00:00,  1.57it/s]\n",
      "val: 100%|██████████| 8/8 [00:04<00:00,  1.78it/s]\n"
     ]
    },
    {
     "name": "stdout",
     "output_type": "stream",
     "text": [
      "epoch[0] 0.019028568154289608 0.044399992360009084\n",
      "batch 243\n"
     ]
    },
    {
     "name": "stderr",
     "output_type": "stream",
     "text": [
      "train: 100%|██████████| 17/17 [00:11<00:00,  1.53it/s]\n",
      "val: 100%|██████████| 8/8 [00:04<00:00,  1.86it/s]\n"
     ]
    },
    {
     "name": "stdout",
     "output_type": "stream",
     "text": [
      "epoch[0] 0.018596361591702415 0.04339151038063897\n",
      "batch 244\n"
     ]
    },
    {
     "name": "stderr",
     "output_type": "stream",
     "text": [
      "train: 100%|██████████| 17/17 [00:11<00:00,  1.53it/s]\n",
      "val: 100%|██████████| 8/8 [00:04<00:00,  1.67it/s]\n"
     ]
    },
    {
     "name": "stdout",
     "output_type": "stream",
     "text": [
      "epoch[0] 0.018688574972606842 0.043606674936082626\n",
      "batch 245\n"
     ]
    },
    {
     "name": "stderr",
     "output_type": "stream",
     "text": [
      "train: 100%|██████████| 17/17 [00:10<00:00,  1.58it/s]\n",
      "val: 100%|██████████| 8/8 [00:04<00:00,  1.78it/s]\n"
     ]
    },
    {
     "name": "stdout",
     "output_type": "stream",
     "text": [
      "epoch[0] 0.01939446721758161 0.045253756841023764\n",
      "batch 246\n"
     ]
    },
    {
     "name": "stderr",
     "output_type": "stream",
     "text": [
      "train: 100%|██████████| 17/17 [00:11<00:00,  1.53it/s]\n",
      "val: 100%|██████████| 8/8 [00:04<00:00,  1.95it/s]\n"
     ]
    },
    {
     "name": "stdout",
     "output_type": "stream",
     "text": [
      "epoch[0] 0.018863609404790968 0.04401508861117893\n",
      "batch 247\n"
     ]
    },
    {
     "name": "stderr",
     "output_type": "stream",
     "text": [
      "train: 100%|██████████| 17/17 [00:11<00:00,  1.54it/s]\n",
      "val: 100%|██████████| 8/8 [00:04<00:00,  1.88it/s]\n"
     ]
    },
    {
     "name": "stdout",
     "output_type": "stream",
     "text": [
      "epoch[0] 0.01901478858221145 0.044367840025160046\n",
      "batch 248\n"
     ]
    },
    {
     "name": "stderr",
     "output_type": "stream",
     "text": [
      "train: 100%|██████████| 17/17 [00:10<00:00,  1.59it/s]\n",
      "val: 100%|██████████| 8/8 [00:04<00:00,  1.85it/s]\n"
     ]
    },
    {
     "name": "stdout",
     "output_type": "stream",
     "text": [
      "epoch[0] 0.019035459813617525 0.04441607289844089\n",
      "batch 249\n"
     ]
    },
    {
     "name": "stderr",
     "output_type": "stream",
     "text": [
      "train: 100%|██████████| 17/17 [00:11<00:00,  1.52it/s]\n",
      "val: 100%|██████████| 8/8 [00:04<00:00,  1.91it/s]\n"
     ]
    },
    {
     "name": "stdout",
     "output_type": "stream",
     "text": [
      "epoch[0] 0.019072898569561188 0.04450342999564277\n",
      "batch 250\n"
     ]
    },
    {
     "name": "stderr",
     "output_type": "stream",
     "text": [
      "train: 100%|██████████| 17/17 [00:11<00:00,  1.53it/s]\n",
      "val: 100%|██████████| 8/8 [00:04<00:00,  1.90it/s]\n"
     ]
    },
    {
     "name": "stdout",
     "output_type": "stream",
     "text": [
      "epoch[0] 0.018931734221322195 0.04417404651641846\n",
      "batch 251\n"
     ]
    },
    {
     "name": "stderr",
     "output_type": "stream",
     "text": [
      "train: 100%|██████████| 17/17 [00:10<00:00,  1.56it/s]\n",
      "val: 100%|██████████| 8/8 [00:04<00:00,  1.83it/s]\n"
     ]
    },
    {
     "name": "stdout",
     "output_type": "stream",
     "text": [
      "epoch[0] 0.0187364319392613 0.0437183411916097\n",
      "batch 252\n"
     ]
    },
    {
     "name": "stderr",
     "output_type": "stream",
     "text": [
      "train: 100%|██████████| 17/17 [00:10<00:00,  1.55it/s]\n",
      "val: 100%|██████████| 8/8 [00:04<00:00,  1.82it/s]\n"
     ]
    },
    {
     "name": "stdout",
     "output_type": "stream",
     "text": [
      "epoch[0] 0.018747029985700336 0.043743069966634116\n",
      "batch 253\n"
     ]
    },
    {
     "name": "stderr",
     "output_type": "stream",
     "text": [
      "train: 100%|██████████| 17/17 [00:11<00:00,  1.54it/s]\n",
      "val: 100%|██████████| 8/8 [00:04<00:00,  1.76it/s]\n"
     ]
    },
    {
     "name": "stdout",
     "output_type": "stream",
     "text": [
      "epoch[0] 0.01913136016754877 0.04463984039094713\n",
      "batch 254\n"
     ]
    },
    {
     "name": "stderr",
     "output_type": "stream",
     "text": [
      "train: 100%|██████████| 17/17 [00:10<00:00,  1.56it/s]\n",
      "val: 100%|██████████| 8/8 [00:04<00:00,  1.79it/s]\n"
     ]
    },
    {
     "name": "stdout",
     "output_type": "stream",
     "text": [
      "epoch[0] 0.01904712915420532 0.04444330135981242\n",
      "batch 255\n"
     ]
    },
    {
     "name": "stderr",
     "output_type": "stream",
     "text": [
      "train: 100%|██████████| 17/17 [00:10<00:00,  1.56it/s]\n",
      "val: 100%|██████████| 8/8 [00:04<00:00,  1.87it/s]\n"
     ]
    },
    {
     "name": "stdout",
     "output_type": "stream",
     "text": [
      "epoch[0] 0.018899818942660376 0.04409957753287421\n",
      "batch 256\n"
     ]
    },
    {
     "name": "stderr",
     "output_type": "stream",
     "text": [
      "train: 100%|██████████| 17/17 [00:10<00:00,  1.55it/s]\n",
      "val: 100%|██████████| 8/8 [00:04<00:00,  1.83it/s]\n"
     ]
    },
    {
     "name": "stdout",
     "output_type": "stream",
     "text": [
      "epoch[0] 0.01909564040956043 0.04455649428897434\n",
      "batch 257\n"
     ]
    },
    {
     "name": "stderr",
     "output_type": "stream",
     "text": [
      "train: 100%|██████████| 17/17 [00:10<00:00,  1.56it/s]\n",
      "val: 100%|██████████| 8/8 [00:04<00:00,  1.87it/s]\n"
     ]
    },
    {
     "name": "stdout",
     "output_type": "stream",
     "text": [
      "epoch[0] 0.018909680389222645 0.04412258757485284\n",
      "batch 258\n"
     ]
    },
    {
     "name": "stderr",
     "output_type": "stream",
     "text": [
      "train: 100%|██████████| 17/17 [00:11<00:00,  1.54it/s]\n",
      "val: 100%|██████████| 8/8 [00:04<00:00,  1.92it/s]\n"
     ]
    },
    {
     "name": "stdout",
     "output_type": "stream",
     "text": [
      "epoch[0] 0.0187810933022272 0.04382255103853014\n",
      "batch 259\n"
     ]
    },
    {
     "name": "stderr",
     "output_type": "stream",
     "text": [
      "train: 100%|██████████| 17/17 [00:11<00:00,  1.51it/s]\n",
      "val: 100%|██████████| 8/8 [00:04<00:00,  1.80it/s]\n"
     ]
    },
    {
     "name": "stdout",
     "output_type": "stream",
     "text": [
      "epoch[0] 0.01897260484241304 0.04426941129896376\n",
      "batch 260\n"
     ]
    },
    {
     "name": "stderr",
     "output_type": "stream",
     "text": [
      "train: 100%|██████████| 17/17 [00:10<00:00,  1.57it/s]\n",
      "val: 100%|██████████| 8/8 [00:04<00:00,  1.96it/s]\n"
     ]
    },
    {
     "name": "stdout",
     "output_type": "stream",
     "text": [
      "epoch[0] 0.018912896428789412 0.04413009166717529\n",
      "batch 261\n"
     ]
    },
    {
     "name": "stderr",
     "output_type": "stream",
     "text": [
      "train: 100%|██████████| 17/17 [00:11<00:00,  1.54it/s]\n",
      "val: 100%|██████████| 8/8 [00:04<00:00,  2.00it/s]\n"
     ]
    },
    {
     "name": "stdout",
     "output_type": "stream",
     "text": [
      "epoch[0] 0.018952568826221285 0.04422266059451633\n",
      "batch 262\n"
     ]
    },
    {
     "name": "stderr",
     "output_type": "stream",
     "text": [
      "train: 100%|██████████| 17/17 [00:10<00:00,  1.57it/s]\n",
      "val: 100%|██████████| 8/8 [00:04<00:00,  1.79it/s]\n"
     ]
    },
    {
     "name": "stdout",
     "output_type": "stream",
     "text": [
      "epoch[0] 0.01911760591325306 0.0446077471309238\n",
      "batch 263\n"
     ]
    },
    {
     "name": "stderr",
     "output_type": "stream",
     "text": [
      "train: 100%|██████████| 17/17 [00:10<00:00,  1.57it/s]\n",
      "val: 100%|██████████| 8/8 [00:04<00:00,  1.96it/s]\n"
     ]
    },
    {
     "name": "stdout",
     "output_type": "stream",
     "text": [
      "epoch[0] 0.018817364034198578 0.04390718274646335\n",
      "batch 264\n"
     ]
    },
    {
     "name": "stderr",
     "output_type": "stream",
     "text": [
      "train: 100%|██████████| 17/17 [00:11<00:00,  1.51it/s]\n",
      "val: 100%|██████████| 8/8 [00:04<00:00,  1.95it/s]\n"
     ]
    },
    {
     "name": "stdout",
     "output_type": "stream",
     "text": [
      "epoch[0] 0.018407673381623767 0.042951237890455456\n",
      "batch 265\n"
     ]
    },
    {
     "name": "stderr",
     "output_type": "stream",
     "text": [
      "train: 100%|██████████| 17/17 [00:11<00:00,  1.53it/s]\n",
      "val: 100%|██████████| 8/8 [00:04<00:00,  1.82it/s]\n"
     ]
    },
    {
     "name": "stdout",
     "output_type": "stream",
     "text": [
      "epoch[0] 0.019124909809657507 0.04462478955586751\n",
      "batch 266\n"
     ]
    },
    {
     "name": "stderr",
     "output_type": "stream",
     "text": [
      "train: 100%|██████████| 17/17 [00:10<00:00,  1.56it/s]\n",
      "val: 100%|██████████| 8/8 [00:04<00:00,  1.79it/s]\n"
     ]
    },
    {
     "name": "stdout",
     "output_type": "stream",
     "text": [
      "epoch[0] 0.018999372209821428 0.044331868489583336\n",
      "batch 267\n"
     ]
    },
    {
     "name": "stderr",
     "output_type": "stream",
     "text": [
      "train: 100%|██████████| 17/17 [00:10<00:00,  1.55it/s]\n",
      "val: 100%|██████████| 8/8 [00:04<00:00,  1.87it/s]\n"
     ]
    },
    {
     "name": "stdout",
     "output_type": "stream",
     "text": [
      "epoch[0] 0.018757597037724085 0.0437677264213562\n",
      "batch 268\n"
     ]
    },
    {
     "name": "stderr",
     "output_type": "stream",
     "text": [
      "train: 100%|██████████| 17/17 [00:11<00:00,  1.54it/s]\n",
      "val: 100%|██████████| 8/8 [00:04<00:00,  1.69it/s]\n"
     ]
    },
    {
     "name": "stdout",
     "output_type": "stream",
     "text": [
      "epoch[0] 0.018668453579857237 0.04355972501966689\n",
      "batch 269\n"
     ]
    },
    {
     "name": "stderr",
     "output_type": "stream",
     "text": [
      "train: 100%|██████████| 17/17 [00:10<00:00,  1.57it/s]\n",
      "val: 100%|██████████| 8/8 [00:04<00:00,  1.88it/s]\n"
     ]
    },
    {
     "name": "stdout",
     "output_type": "stream",
     "text": [
      "epoch[0] 0.019045909813472203 0.04444045623143514\n",
      "batch 270\n"
     ]
    },
    {
     "name": "stderr",
     "output_type": "stream",
     "text": [
      "train: 100%|██████████| 17/17 [00:11<00:00,  1.54it/s]\n",
      "val: 100%|██████████| 8/8 [00:04<00:00,  1.84it/s]\n"
     ]
    },
    {
     "name": "stdout",
     "output_type": "stream",
     "text": [
      "epoch[0] 0.018924601872762046 0.0441574043697781\n",
      "batch 271\n"
     ]
    },
    {
     "name": "stderr",
     "output_type": "stream",
     "text": [
      "train: 100%|██████████| 17/17 [00:11<00:00,  1.48it/s]\n",
      "val: 100%|██████████| 8/8 [00:04<00:00,  1.87it/s]\n"
     ]
    },
    {
     "name": "stdout",
     "output_type": "stream",
     "text": [
      "epoch[0] 0.019348861149379185 0.045147342681884764\n",
      "batch 272\n"
     ]
    },
    {
     "name": "stderr",
     "output_type": "stream",
     "text": [
      "train: 100%|██████████| 17/17 [00:11<00:00,  1.53it/s]\n",
      "val: 100%|██████████| 8/8 [00:04<00:00,  1.87it/s]\n"
     ]
    },
    {
     "name": "stdout",
     "output_type": "stream",
     "text": [
      "epoch[0] 0.01904424224581037 0.044436565240224206\n",
      "batch 273\n"
     ]
    },
    {
     "name": "stderr",
     "output_type": "stream",
     "text": [
      "train: 100%|██████████| 17/17 [00:10<00:00,  1.60it/s]\n",
      "val: 100%|██████████| 8/8 [00:04<00:00,  1.83it/s]\n"
     ]
    },
    {
     "name": "stdout",
     "output_type": "stream",
     "text": [
      "epoch[0] 0.018900285334814162 0.04410066578123305\n",
      "batch 274\n"
     ]
    },
    {
     "name": "stderr",
     "output_type": "stream",
     "text": [
      "train: 100%|██████████| 17/17 [00:11<00:00,  1.52it/s]\n",
      "val: 100%|██████████| 8/8 [00:04<00:00,  1.87it/s]\n"
     ]
    },
    {
     "name": "stdout",
     "output_type": "stream",
     "text": [
      "epoch[0] 0.018695611159006753 0.043623092704349095\n",
      "batch 275\n"
     ]
    },
    {
     "name": "stderr",
     "output_type": "stream",
     "text": [
      "train: 100%|██████████| 17/17 [00:10<00:00,  1.55it/s]\n",
      "val: 100%|██████████| 8/8 [00:04<00:00,  1.82it/s]\n"
     ]
    },
    {
     "name": "stdout",
     "output_type": "stream",
     "text": [
      "epoch[0] 0.018891468729291643 0.0440800937016805\n",
      "batch 276\n"
     ]
    },
    {
     "name": "stderr",
     "output_type": "stream",
     "text": [
      "train: 100%|██████████| 17/17 [00:10<00:00,  1.56it/s]\n",
      "val: 100%|██████████| 8/8 [00:04<00:00,  1.96it/s]\n"
     ]
    },
    {
     "name": "stdout",
     "output_type": "stream",
     "text": [
      "epoch[0] 0.018953881717863538 0.044225724008348254\n",
      "batch 277\n"
     ]
    },
    {
     "name": "stderr",
     "output_type": "stream",
     "text": [
      "train: 100%|██████████| 17/17 [00:11<00:00,  1.50it/s]\n",
      "val: 100%|██████████| 8/8 [00:04<00:00,  1.94it/s]\n"
     ]
    },
    {
     "name": "stdout",
     "output_type": "stream",
     "text": [
      "epoch[0] 0.01890375398454212 0.044108759297264946\n",
      "batch 278\n"
     ]
    },
    {
     "name": "stderr",
     "output_type": "stream",
     "text": [
      "train: 100%|██████████| 17/17 [00:11<00:00,  1.54it/s]\n",
      "val: 100%|██████████| 8/8 [00:04<00:00,  1.94it/s]\n"
     ]
    },
    {
     "name": "stdout",
     "output_type": "stream",
     "text": [
      "epoch[0] 0.019187978449321928 0.0447719497150845\n",
      "batch 279\n"
     ]
    },
    {
     "name": "stderr",
     "output_type": "stream",
     "text": [
      "train: 100%|██████████| 17/17 [00:10<00:00,  1.58it/s]\n",
      "val: 100%|██████████| 8/8 [00:04<00:00,  1.95it/s]\n"
     ]
    },
    {
     "name": "stdout",
     "output_type": "stream",
     "text": [
      "epoch[0] 0.01879842860358102 0.043863000075022376\n",
      "batch 280\n"
     ]
    },
    {
     "name": "stderr",
     "output_type": "stream",
     "text": [
      "train: 100%|██████████| 17/17 [00:11<00:00,  1.53it/s]\n",
      "val: 100%|██████████| 8/8 [00:04<00:00,  1.94it/s]\n"
     ]
    },
    {
     "name": "stdout",
     "output_type": "stream",
     "text": [
      "epoch[0] 0.01889156534558251 0.04408031913969252\n",
      "batch 281\n"
     ]
    },
    {
     "name": "stderr",
     "output_type": "stream",
     "text": [
      "train: 100%|██████████| 17/17 [00:10<00:00,  1.58it/s]\n",
      "val: 100%|██████████| 8/8 [00:04<00:00,  1.87it/s]\n"
     ]
    },
    {
     "name": "stdout",
     "output_type": "stream",
     "text": [
      "epoch[0] 0.018619415192377 0.043445302115546335\n",
      "batch 282\n"
     ]
    },
    {
     "name": "stderr",
     "output_type": "stream",
     "text": [
      "train: 100%|██████████| 17/17 [00:10<00:00,  1.58it/s]\n",
      "val: 100%|██████████| 8/8 [00:04<00:00,  1.92it/s]\n"
     ]
    },
    {
     "name": "stdout",
     "output_type": "stream",
     "text": [
      "epoch[0] 0.01883559681120373 0.043949725892808704\n",
      "batch 283\n"
     ]
    },
    {
     "name": "stderr",
     "output_type": "stream",
     "text": [
      "train: 100%|██████████| 17/17 [00:11<00:00,  1.53it/s]\n",
      "val: 100%|██████████| 8/8 [00:04<00:00,  1.92it/s]\n"
     ]
    },
    {
     "name": "stdout",
     "output_type": "stream",
     "text": [
      "epoch[0] 0.018979710170200892 0.04428599039713542\n",
      "batch 284\n"
     ]
    },
    {
     "name": "stderr",
     "output_type": "stream",
     "text": [
      "train: 100%|██████████| 17/17 [00:10<00:00,  1.60it/s]\n",
      "val: 100%|██████████| 8/8 [00:04<00:00,  1.87it/s]\n"
     ]
    },
    {
     "name": "stdout",
     "output_type": "stream",
     "text": [
      "epoch[0] 0.019007901918320427 0.044351771142747666\n",
      "batch 285\n"
     ]
    },
    {
     "name": "stderr",
     "output_type": "stream",
     "text": [
      "train: 100%|██████████| 17/17 [00:10<00:00,  1.59it/s]\n",
      "val: 100%|██████████| 8/8 [00:04<00:00,  1.94it/s]\n"
     ]
    },
    {
     "name": "stdout",
     "output_type": "stream",
     "text": [
      "epoch[0] 0.01863453637985956 0.04348058488633898\n",
      "batch 286\n"
     ]
    },
    {
     "name": "stderr",
     "output_type": "stream",
     "text": [
      "train: 100%|██████████| 17/17 [00:11<00:00,  1.48it/s]\n",
      "val: 100%|██████████| 8/8 [00:04<00:00,  1.94it/s]\n"
     ]
    },
    {
     "name": "stdout",
     "output_type": "stream",
     "text": [
      "epoch[0] 0.0186164128780365 0.043438296715418497\n",
      "batch 287\n"
     ]
    },
    {
     "name": "stderr",
     "output_type": "stream",
     "text": [
      "train: 100%|██████████| 17/17 [00:10<00:00,  1.55it/s]\n",
      "val: 100%|██████████| 8/8 [00:04<00:00,  1.83it/s]\n"
     ]
    },
    {
     "name": "stdout",
     "output_type": "stream",
     "text": [
      "epoch[0] 0.019181327592758906 0.04475643104977078\n",
      "batch 288\n"
     ]
    },
    {
     "name": "stderr",
     "output_type": "stream",
     "text": [
      "train: 100%|██████████| 17/17 [00:11<00:00,  1.53it/s]\n",
      "val: 100%|██████████| 8/8 [00:04<00:00,  1.83it/s]\n"
     ]
    },
    {
     "name": "stdout",
     "output_type": "stream",
     "text": [
      "epoch[0] 0.018736428306216284 0.04371833271450466\n",
      "batch 289\n"
     ]
    },
    {
     "name": "stderr",
     "output_type": "stream",
     "text": [
      "train: 100%|██████████| 17/17 [00:11<00:00,  1.47it/s]\n",
      "val: 100%|██████████| 8/8 [00:04<00:00,  1.86it/s]\n"
     ]
    },
    {
     "name": "stdout",
     "output_type": "stream",
     "text": [
      "epoch[0] 0.019182421706971667 0.04475898398293389\n",
      "batch 290\n"
     ]
    },
    {
     "name": "stderr",
     "output_type": "stream",
     "text": [
      "train: 100%|██████████| 17/17 [00:11<00:00,  1.47it/s]\n",
      "val: 100%|██████████| 8/8 [00:04<00:00,  1.72it/s]\n"
     ]
    },
    {
     "name": "stdout",
     "output_type": "stream",
     "text": [
      "epoch[0] 0.01870086181731451 0.043635344240400525\n",
      "batch 291\n"
     ]
    },
    {
     "name": "stderr",
     "output_type": "stream",
     "text": [
      "train: 100%|██████████| 17/17 [00:11<00:00,  1.49it/s]\n",
      "val: 100%|██████████| 8/8 [00:04<00:00,  1.85it/s]\n"
     ]
    },
    {
     "name": "stdout",
     "output_type": "stream",
     "text": [
      "epoch[0] 0.018954972199031285 0.044228268464406334\n",
      "batch 292\n"
     ]
    },
    {
     "name": "stderr",
     "output_type": "stream",
     "text": [
      "train: 100%|██████████| 17/17 [00:11<00:00,  1.42it/s]\n",
      "val: 100%|██████████| 8/8 [00:04<00:00,  1.80it/s]\n"
     ]
    },
    {
     "name": "stdout",
     "output_type": "stream",
     "text": [
      "epoch[0] 0.018654758703140987 0.04352777030732897\n",
      "batch 293\n"
     ]
    },
    {
     "name": "stderr",
     "output_type": "stream",
     "text": [
      "train: 100%|██████████| 17/17 [00:12<00:00,  1.39it/s]\n",
      "val: 100%|██████████| 8/8 [00:04<00:00,  1.85it/s]\n"
     ]
    },
    {
     "name": "stdout",
     "output_type": "stream",
     "text": [
      "epoch[0] 0.01888117404211135 0.044056072764926485\n",
      "batch 294\n"
     ]
    },
    {
     "name": "stderr",
     "output_type": "stream",
     "text": [
      "train: 100%|██████████| 17/17 [00:11<00:00,  1.48it/s]\n",
      "val: 100%|██████████| 8/8 [00:04<00:00,  1.85it/s]\n"
     ]
    },
    {
     "name": "stdout",
     "output_type": "stream",
     "text": [
      "epoch[0] 0.01923458417256673 0.044880696402655705\n",
      "batch 295\n"
     ]
    },
    {
     "name": "stderr",
     "output_type": "stream",
     "text": [
      "train: 100%|██████████| 17/17 [00:11<00:00,  1.46it/s]\n",
      "val: 100%|██████████| 8/8 [00:04<00:00,  1.82it/s]\n"
     ]
    },
    {
     "name": "stdout",
     "output_type": "stream",
     "text": [
      "epoch[0] 0.01880166666848319 0.043870555559794105\n",
      "batch 296\n"
     ]
    },
    {
     "name": "stderr",
     "output_type": "stream",
     "text": [
      "train: 100%|██████████| 17/17 [00:12<00:00,  1.40it/s]\n",
      "val: 100%|██████████| 8/8 [00:04<00:00,  1.85it/s]\n"
     ]
    },
    {
     "name": "stdout",
     "output_type": "stream",
     "text": [
      "epoch[0] 0.018769958132789248 0.04379656897650824\n",
      "batch 297\n"
     ]
    },
    {
     "name": "stderr",
     "output_type": "stream",
     "text": [
      "train: 100%|██████████| 17/17 [00:11<00:00,  1.52it/s]\n",
      "val: 100%|██████████| 8/8 [00:04<00:00,  1.81it/s]\n"
     ]
    },
    {
     "name": "stdout",
     "output_type": "stream",
     "text": [
      "epoch[0] 0.019204203287760416 0.04480980767144097\n",
      "batch 298\n"
     ]
    },
    {
     "name": "stderr",
     "output_type": "stream",
     "text": [
      "train: 100%|██████████| 17/17 [00:11<00:00,  1.48it/s]\n",
      "val: 100%|██████████| 8/8 [00:04<00:00,  1.74it/s]\n"
     ]
    },
    {
     "name": "stdout",
     "output_type": "stream",
     "text": [
      "epoch[0] 0.019051079409463066 0.04445251862208049\n",
      "batch 299\n"
     ]
    },
    {
     "name": "stderr",
     "output_type": "stream",
     "text": [
      "train: 100%|██████████| 17/17 [00:11<00:00,  1.46it/s]\n",
      "val: 100%|██████████| 8/8 [00:04<00:00,  1.76it/s]\n"
     ]
    },
    {
     "name": "stdout",
     "output_type": "stream",
     "text": [
      "epoch[0] 0.01900695494243077 0.04434956153233846\n",
      "batch 300\n"
     ]
    },
    {
     "name": "stderr",
     "output_type": "stream",
     "text": [
      "train: 100%|██████████| 17/17 [00:11<00:00,  1.52it/s]\n",
      "val: 100%|██████████| 8/8 [00:04<00:00,  1.77it/s]\n"
     ]
    },
    {
     "name": "stdout",
     "output_type": "stream",
     "text": [
      "epoch[0] 0.018810830002739316 0.04389193667305841\n",
      "batch 301\n"
     ]
    },
    {
     "name": "stderr",
     "output_type": "stream",
     "text": [
      "train: 100%|██████████| 17/17 [00:11<00:00,  1.46it/s]\n",
      "val: 100%|██████████| 8/8 [00:04<00:00,  1.79it/s]\n"
     ]
    },
    {
     "name": "stdout",
     "output_type": "stream",
     "text": [
      "epoch[0] 0.019157479604085287 0.04470078574286567\n",
      "batch 302\n"
     ]
    },
    {
     "name": "stderr",
     "output_type": "stream",
     "text": [
      "train: 100%|██████████| 17/17 [00:11<00:00,  1.44it/s]\n",
      "val: 100%|██████████| 8/8 [00:04<00:00,  1.74it/s]\n"
     ]
    },
    {
     "name": "stdout",
     "output_type": "stream",
     "text": [
      "epoch[0] 0.01886140369233631 0.04400994194878472\n",
      "batch 303\n"
     ]
    },
    {
     "name": "stderr",
     "output_type": "stream",
     "text": [
      "train: 100%|██████████| 17/17 [00:11<00:00,  1.53it/s]\n",
      "val: 100%|██████████| 8/8 [00:04<00:00,  1.79it/s]\n"
     ]
    },
    {
     "name": "stdout",
     "output_type": "stream",
     "text": [
      "epoch[0] 0.01884670064562843 0.04397563483979967\n",
      "batch 304\n"
     ]
    },
    {
     "name": "stderr",
     "output_type": "stream",
     "text": [
      "train: 100%|██████████| 17/17 [00:11<00:00,  1.44it/s]\n",
      "val: 100%|██████████| 8/8 [00:04<00:00,  1.76it/s]\n"
     ]
    },
    {
     "name": "stdout",
     "output_type": "stream",
     "text": [
      "epoch[0] 0.01895205293382917 0.0442214568456014\n",
      "batch 305\n"
     ]
    },
    {
     "name": "stderr",
     "output_type": "stream",
     "text": [
      "train: 100%|██████████| 17/17 [00:11<00:00,  1.44it/s]\n",
      "val: 100%|██████████| 8/8 [00:04<00:00,  1.75it/s]\n"
     ]
    },
    {
     "name": "stdout",
     "output_type": "stream",
     "text": [
      "epoch[0] 0.019127809093112038 0.044631554550594754\n",
      "batch 306\n"
     ]
    },
    {
     "name": "stderr",
     "output_type": "stream",
     "text": [
      "train: 100%|██████████| 17/17 [00:11<00:00,  1.46it/s]\n",
      "val: 100%|██████████| 8/8 [00:04<00:00,  1.64it/s]\n"
     ]
    },
    {
     "name": "stdout",
     "output_type": "stream",
     "text": [
      "epoch[0] 0.018987515767415364 0.044304203457302516\n",
      "batch 307\n"
     ]
    },
    {
     "name": "stderr",
     "output_type": "stream",
     "text": [
      "train: 100%|██████████| 17/17 [00:11<00:00,  1.48it/s]\n",
      "val: 100%|██████████| 8/8 [00:04<00:00,  1.78it/s]\n"
     ]
    },
    {
     "name": "stdout",
     "output_type": "stream",
     "text": [
      "epoch[0] 0.01910843258812314 0.04458634270562066\n",
      "batch 308\n"
     ]
    },
    {
     "name": "stderr",
     "output_type": "stream",
     "text": [
      "train: 100%|██████████| 17/17 [00:12<00:00,  1.42it/s]\n",
      "val: 100%|██████████| 8/8 [00:04<00:00,  1.77it/s]\n"
     ]
    },
    {
     "name": "stdout",
     "output_type": "stream",
     "text": [
      "epoch[0] 0.018870645477658227 0.044031506114535865\n",
      "batch 309\n"
     ]
    },
    {
     "name": "stderr",
     "output_type": "stream",
     "text": [
      "train: 100%|██████████| 17/17 [00:11<00:00,  1.51it/s]\n",
      "val: 100%|██████████| 8/8 [00:05<00:00,  1.60it/s]\n"
     ]
    },
    {
     "name": "stdout",
     "output_type": "stream",
     "text": [
      "epoch[0] 0.018968932742164248 0.04426084306504991\n",
      "batch 310\n"
     ]
    },
    {
     "name": "stderr",
     "output_type": "stream",
     "text": [
      "train: 100%|██████████| 17/17 [00:11<00:00,  1.49it/s]\n",
      "val: 100%|██████████| 8/8 [00:04<00:00,  1.84it/s]\n"
     ]
    },
    {
     "name": "stdout",
     "output_type": "stream",
     "text": [
      "epoch[0] 0.01883967910494123 0.04395925124486288\n",
      "batch 311\n"
     ]
    },
    {
     "name": "stderr",
     "output_type": "stream",
     "text": [
      "train: 100%|██████████| 17/17 [00:11<00:00,  1.42it/s]\n",
      "val: 100%|██████████| 8/8 [00:04<00:00,  1.83it/s]\n"
     ]
    },
    {
     "name": "stdout",
     "output_type": "stream",
     "text": [
      "epoch[0] 0.018789348261696953 0.043841812610626224\n",
      "batch 312\n"
     ]
    },
    {
     "name": "stderr",
     "output_type": "stream",
     "text": [
      "train: 100%|██████████| 17/17 [00:11<00:00,  1.47it/s]\n",
      "val: 100%|██████████| 8/8 [00:04<00:00,  1.84it/s]\n"
     ]
    },
    {
     "name": "stdout",
     "output_type": "stream",
     "text": [
      "epoch[0] 0.018975759801410492 0.04427677286995782\n",
      "batch 313\n"
     ]
    },
    {
     "name": "stderr",
     "output_type": "stream",
     "text": [
      "train: 100%|██████████| 17/17 [00:11<00:00,  1.46it/s]\n",
      "val: 100%|██████████| 8/8 [00:04<00:00,  1.80it/s]\n"
     ]
    },
    {
     "name": "stdout",
     "output_type": "stream",
     "text": [
      "epoch[0] 0.018986904734656924 0.04430277771419949\n",
      "batch 314\n"
     ]
    },
    {
     "name": "stderr",
     "output_type": "stream",
     "text": [
      "train: 100%|██████████| 17/17 [00:11<00:00,  1.48it/s]\n",
      "val: 100%|██████████| 8/8 [00:04<00:00,  1.77it/s]\n"
     ]
    },
    {
     "name": "stdout",
     "output_type": "stream",
     "text": [
      "epoch[0] 0.018772134780883788 0.043801647822062174\n",
      "batch 315\n"
     ]
    },
    {
     "name": "stderr",
     "output_type": "stream",
     "text": [
      "train: 100%|██████████| 17/17 [00:11<00:00,  1.45it/s]\n",
      "val: 100%|██████████| 8/8 [00:04<00:00,  1.80it/s]\n"
     ]
    },
    {
     "name": "stdout",
     "output_type": "stream",
     "text": [
      "epoch[0] 0.018746646131787982 0.04374217430750529\n",
      "batch 316\n"
     ]
    },
    {
     "name": "stderr",
     "output_type": "stream",
     "text": [
      "train: 100%|██████████| 17/17 [00:11<00:00,  1.50it/s]\n",
      "val: 100%|██████████| 8/8 [00:04<00:00,  1.78it/s]\n"
     ]
    },
    {
     "name": "stdout",
     "output_type": "stream",
     "text": [
      "epoch[0] 0.01910676944823492 0.04458246204588148\n",
      "batch 317\n"
     ]
    },
    {
     "name": "stderr",
     "output_type": "stream",
     "text": [
      "train: 100%|██████████| 17/17 [00:11<00:00,  1.49it/s]\n",
      "val: 100%|██████████| 8/8 [00:04<00:00,  1.83it/s]\n"
     ]
    },
    {
     "name": "stdout",
     "output_type": "stream",
     "text": [
      "epoch[0] 0.01879143067768642 0.04384667158126831\n",
      "batch 318\n"
     ]
    },
    {
     "name": "stderr",
     "output_type": "stream",
     "text": [
      "train: 100%|██████████| 17/17 [00:11<00:00,  1.45it/s]\n",
      "val: 100%|██████████| 8/8 [00:04<00:00,  1.86it/s]\n"
     ]
    },
    {
     "name": "stdout",
     "output_type": "stream",
     "text": [
      "epoch[0] 0.019023858138493128 0.044389002323150635\n",
      "batch 319\n"
     ]
    },
    {
     "name": "stderr",
     "output_type": "stream",
     "text": [
      "train: 100%|██████████| 17/17 [00:11<00:00,  1.48it/s]\n",
      "val: 100%|██████████| 8/8 [00:04<00:00,  1.86it/s]\n"
     ]
    },
    {
     "name": "stdout",
     "output_type": "stream",
     "text": [
      "epoch[0] 0.018880087193988617 0.04405353678597344\n",
      "batch 320\n"
     ]
    },
    {
     "name": "stderr",
     "output_type": "stream",
     "text": [
      "train: 100%|██████████| 17/17 [00:11<00:00,  1.49it/s]\n",
      "val: 100%|██████████| 8/8 [00:04<00:00,  1.83it/s]\n"
     ]
    },
    {
     "name": "stdout",
     "output_type": "stream",
     "text": [
      "epoch[0] 0.01858358008520944 0.04336168686548869\n",
      "batch 321\n"
     ]
    },
    {
     "name": "stderr",
     "output_type": "stream",
     "text": [
      "train: 100%|██████████| 17/17 [00:11<00:00,  1.44it/s]\n",
      "val: 100%|██████████| 8/8 [00:04<00:00,  1.87it/s]\n"
     ]
    },
    {
     "name": "stdout",
     "output_type": "stream",
     "text": [
      "epoch[0] 0.01892583472388131 0.04416028102238973\n",
      "batch 322\n"
     ]
    },
    {
     "name": "stderr",
     "output_type": "stream",
     "text": [
      "train: 100%|██████████| 17/17 [00:11<00:00,  1.48it/s]\n",
      "val: 100%|██████████| 8/8 [00:04<00:00,  1.74it/s]\n"
     ]
    },
    {
     "name": "stdout",
     "output_type": "stream",
     "text": [
      "epoch[0] 0.019023125625792003 0.044387293126848006\n",
      "batch 323\n"
     ]
    },
    {
     "name": "stderr",
     "output_type": "stream",
     "text": [
      "train: 100%|██████████| 17/17 [00:11<00:00,  1.47it/s]\n",
      "val: 100%|██████████| 8/8 [00:04<00:00,  1.81it/s]\n"
     ]
    },
    {
     "name": "stdout",
     "output_type": "stream",
     "text": [
      "epoch[0] 0.019136961982363747 0.044652911292182074\n",
      "batch 324\n"
     ]
    },
    {
     "name": "stderr",
     "output_type": "stream",
     "text": [
      "train: 100%|██████████| 17/17 [00:11<00:00,  1.44it/s]\n",
      "val: 100%|██████████| 8/8 [00:04<00:00,  1.82it/s]\n"
     ]
    },
    {
     "name": "stdout",
     "output_type": "stream",
     "text": [
      "epoch[0] 0.019011082649230956 0.04435919284820557\n",
      "batch 325\n"
     ]
    },
    {
     "name": "stderr",
     "output_type": "stream",
     "text": [
      "train: 100%|██████████| 17/17 [00:11<00:00,  1.48it/s]\n",
      "val: 100%|██████████| 8/8 [00:04<00:00,  1.75it/s]\n"
     ]
    },
    {
     "name": "stdout",
     "output_type": "stream",
     "text": [
      "epoch[0] 0.018937498728434244 0.04418749703301324\n",
      "batch 326\n"
     ]
    },
    {
     "name": "stderr",
     "output_type": "stream",
     "text": [
      "train: 100%|██████████| 17/17 [00:11<00:00,  1.47it/s]\n",
      "val: 100%|██████████| 8/8 [00:04<00:00,  1.86it/s]\n"
     ]
    },
    {
     "name": "stdout",
     "output_type": "stream",
     "text": [
      "epoch[0] 0.018792492889222644 0.043849150074852836\n",
      "batch 327\n"
     ]
    },
    {
     "name": "stderr",
     "output_type": "stream",
     "text": [
      "train: 100%|██████████| 17/17 [00:11<00:00,  1.51it/s]\n",
      "val: 100%|██████████| 8/8 [00:04<00:00,  1.87it/s]\n"
     ]
    },
    {
     "name": "stdout",
     "output_type": "stream",
     "text": [
      "epoch[0] 0.01914701847803025 0.04467637644873725\n",
      "batch 328\n"
     ]
    },
    {
     "name": "stderr",
     "output_type": "stream",
     "text": [
      "train: 100%|██████████| 17/17 [00:12<00:00,  1.40it/s]\n",
      "val: 100%|██████████| 8/8 [00:04<00:00,  1.86it/s]\n"
     ]
    },
    {
     "name": "stdout",
     "output_type": "stream",
     "text": [
      "epoch[0] 0.01880443629764375 0.043877018027835425\n",
      "batch 329\n"
     ]
    },
    {
     "name": "stderr",
     "output_type": "stream",
     "text": [
      "train: 100%|██████████| 17/17 [00:11<00:00,  1.46it/s]\n",
      "val: 100%|██████████| 8/8 [00:04<00:00,  1.73it/s]\n"
     ]
    },
    {
     "name": "stdout",
     "output_type": "stream",
     "text": [
      "epoch[0] 0.018998344171614875 0.04432946973376804\n",
      "batch 330\n"
     ]
    },
    {
     "name": "stderr",
     "output_type": "stream",
     "text": [
      "train: 100%|██████████| 17/17 [00:11<00:00,  1.51it/s]\n",
      "val: 100%|██████████| 8/8 [00:04<00:00,  1.84it/s]\n"
     ]
    },
    {
     "name": "stdout",
     "output_type": "stream",
     "text": [
      "epoch[0] 0.01901085626511347 0.04435866461859809\n",
      "batch 331\n"
     ]
    },
    {
     "name": "stderr",
     "output_type": "stream",
     "text": [
      "train: 100%|██████████| 17/17 [00:11<00:00,  1.42it/s]\n",
      "val: 100%|██████████| 8/8 [00:04<00:00,  1.85it/s]\n"
     ]
    },
    {
     "name": "stdout",
     "output_type": "stream",
     "text": [
      "epoch[0] 0.01874402681986491 0.043736062579684785\n",
      "batch 332\n"
     ]
    },
    {
     "name": "stderr",
     "output_type": "stream",
     "text": [
      "train: 100%|██████████| 17/17 [00:11<00:00,  1.45it/s]\n",
      "val: 100%|██████████| 8/8 [00:04<00:00,  1.75it/s]\n"
     ]
    },
    {
     "name": "stdout",
     "output_type": "stream",
     "text": [
      "epoch[0] 0.01880226600737799 0.0438719540172153\n",
      "batch 333\n"
     ]
    },
    {
     "name": "stderr",
     "output_type": "stream",
     "text": [
      "train: 100%|██████████| 17/17 [00:11<00:00,  1.51it/s]\n",
      "val: 100%|██████████| 8/8 [00:04<00:00,  1.89it/s]\n"
     ]
    },
    {
     "name": "stdout",
     "output_type": "stream",
     "text": [
      "epoch[0] 0.018994468393779936 0.04432042625215318\n",
      "batch 334\n"
     ]
    },
    {
     "name": "stderr",
     "output_type": "stream",
     "text": [
      "train: 100%|██████████| 17/17 [00:11<00:00,  1.44it/s]\n",
      "val: 100%|██████████| 8/8 [00:04<00:00,  1.85it/s]\n"
     ]
    },
    {
     "name": "stdout",
     "output_type": "stream",
     "text": [
      "epoch[0] 0.019118115447816393 0.04460893604490492\n",
      "batch 335\n"
     ]
    },
    {
     "name": "stderr",
     "output_type": "stream",
     "text": [
      "train: 100%|██████████| 17/17 [00:11<00:00,  1.51it/s]\n",
      "val: 100%|██████████| 8/8 [00:04<00:00,  1.71it/s]\n"
     ]
    },
    {
     "name": "stdout",
     "output_type": "stream",
     "text": [
      "epoch[0] 0.018795130820501417 0.043855305247836644\n",
      "batch 336\n"
     ]
    },
    {
     "name": "stderr",
     "output_type": "stream",
     "text": [
      "train: 100%|██████████| 17/17 [00:11<00:00,  1.50it/s]\n",
      "val: 100%|██████████| 8/8 [00:04<00:00,  1.88it/s]\n"
     ]
    },
    {
     "name": "stdout",
     "output_type": "stream",
     "text": [
      "epoch[0] 0.018671286673772904 0.04356633557213677\n",
      "batch 337\n"
     ]
    },
    {
     "name": "stderr",
     "output_type": "stream",
     "text": [
      "train: 100%|██████████| 17/17 [00:12<00:00,  1.41it/s]\n",
      "val: 100%|██████████| 8/8 [00:04<00:00,  1.82it/s]\n"
     ]
    },
    {
     "name": "stdout",
     "output_type": "stream",
     "text": [
      "epoch[0] 0.019125031403132847 0.04462507327397664\n",
      "batch 338\n"
     ]
    },
    {
     "name": "stderr",
     "output_type": "stream",
     "text": [
      "train: 100%|██████████| 17/17 [00:12<00:00,  1.40it/s]\n",
      "val: 100%|██████████| 8/8 [00:04<00:00,  1.88it/s]\n"
     ]
    },
    {
     "name": "stdout",
     "output_type": "stream",
     "text": [
      "epoch[0] 0.018751398154667445 0.04375326236089071\n",
      "batch 339\n"
     ]
    },
    {
     "name": "stderr",
     "output_type": "stream",
     "text": [
      "train: 100%|██████████| 17/17 [00:11<00:00,  1.52it/s]\n",
      "val: 100%|██████████| 8/8 [00:04<00:00,  1.86it/s]\n"
     ]
    },
    {
     "name": "stdout",
     "output_type": "stream",
     "text": [
      "epoch[0] 0.018887379396529423 0.044070551925235325\n",
      "batch 340\n"
     ]
    },
    {
     "name": "stderr",
     "output_type": "stream",
     "text": [
      "train: 100%|██████████| 17/17 [00:11<00:00,  1.47it/s]\n",
      "val: 100%|██████████| 8/8 [00:04<00:00,  1.85it/s]\n"
     ]
    },
    {
     "name": "stdout",
     "output_type": "stream",
     "text": [
      "epoch[0] 0.019086833681379044 0.04453594525655111\n",
      "batch 341\n"
     ]
    },
    {
     "name": "stderr",
     "output_type": "stream",
     "text": [
      "train: 100%|██████████| 17/17 [00:11<00:00,  1.42it/s]\n",
      "val: 100%|██████████| 8/8 [00:04<00:00,  1.80it/s]\n"
     ]
    },
    {
     "name": "stdout",
     "output_type": "stream",
     "text": [
      "epoch[0] 0.018873386496589296 0.04403790182537503\n",
      "batch 342\n"
     ]
    },
    {
     "name": "stderr",
     "output_type": "stream",
     "text": [
      "train: 100%|██████████| 17/17 [00:11<00:00,  1.50it/s]\n",
      "val: 100%|██████████| 8/8 [00:04<00:00,  1.86it/s]\n"
     ]
    },
    {
     "name": "stdout",
     "output_type": "stream",
     "text": [
      "epoch[0] 0.018929164296104795 0.04416805002424452\n",
      "batch 343\n"
     ]
    },
    {
     "name": "stderr",
     "output_type": "stream",
     "text": [
      "train: 100%|██████████| 17/17 [00:11<00:00,  1.46it/s]\n",
      "val: 100%|██████████| 8/8 [00:04<00:00,  1.85it/s]\n"
     ]
    },
    {
     "name": "stdout",
     "output_type": "stream",
     "text": [
      "epoch[0] 0.01920472201846895 0.04481101804309421\n",
      "batch 344\n"
     ]
    },
    {
     "name": "stderr",
     "output_type": "stream",
     "text": [
      "train: 100%|██████████| 17/17 [00:12<00:00,  1.42it/s]\n",
      "val: 100%|██████████| 8/8 [00:04<00:00,  1.84it/s]\n"
     ]
    },
    {
     "name": "stdout",
     "output_type": "stream",
     "text": [
      "epoch[0] 0.01916085742768787 0.0447086673312717\n",
      "batch 345\n"
     ]
    },
    {
     "name": "stderr",
     "output_type": "stream",
     "text": [
      "train: 100%|██████████| 17/17 [00:11<00:00,  1.48it/s]\n",
      "val: 100%|██████████| 8/8 [00:04<00:00,  1.76it/s]\n"
     ]
    },
    {
     "name": "stdout",
     "output_type": "stream",
     "text": [
      "epoch[0] 0.018713833491007487 0.04366561147901747\n",
      "batch 346\n"
     ]
    },
    {
     "name": "stderr",
     "output_type": "stream",
     "text": [
      "train: 100%|██████████| 17/17 [00:11<00:00,  1.46it/s]\n",
      "val: 100%|██████████| 8/8 [00:04<00:00,  1.84it/s]\n"
     ]
    },
    {
     "name": "stdout",
     "output_type": "stream",
     "text": [
      "epoch[0] 0.01872184912363688 0.04368431462181939\n",
      "batch 347\n"
     ]
    },
    {
     "name": "stderr",
     "output_type": "stream",
     "text": [
      "train: 100%|██████████| 17/17 [00:11<00:00,  1.43it/s]\n",
      "val: 100%|██████████| 8/8 [00:04<00:00,  1.85it/s]\n"
     ]
    },
    {
     "name": "stdout",
     "output_type": "stream",
     "text": [
      "epoch[0] 0.019026325884319486 0.04439476039674547\n",
      "batch 348\n"
     ]
    },
    {
     "name": "stderr",
     "output_type": "stream",
     "text": [
      "train: 100%|██████████| 17/17 [00:11<00:00,  1.52it/s]\n",
      "val: 100%|██████████| 8/8 [00:04<00:00,  1.69it/s]\n"
     ]
    },
    {
     "name": "stdout",
     "output_type": "stream",
     "text": [
      "epoch[0] 0.01920366775421869 0.04480855809317695\n",
      "batch 349\n"
     ]
    },
    {
     "name": "stderr",
     "output_type": "stream",
     "text": [
      "train: 100%|██████████| 17/17 [00:11<00:00,  1.50it/s]\n",
      "val: 100%|██████████| 8/8 [00:04<00:00,  1.87it/s]\n"
     ]
    },
    {
     "name": "stdout",
     "output_type": "stream",
     "text": [
      "epoch[0] 0.0190469529515221 0.04444289022021823\n",
      "batch 350\n"
     ]
    },
    {
     "name": "stderr",
     "output_type": "stream",
     "text": [
      "train: 100%|██████████| 17/17 [00:12<00:00,  1.39it/s]\n",
      "val: 100%|██████████| 8/8 [00:04<00:00,  1.81it/s]\n"
     ]
    },
    {
     "name": "stdout",
     "output_type": "stream",
     "text": [
      "epoch[0] 0.019154026735396613 0.044692729049258764\n",
      "batch 351\n"
     ]
    },
    {
     "name": "stderr",
     "output_type": "stream",
     "text": [
      "train: 100%|██████████| 17/17 [00:11<00:00,  1.43it/s]\n",
      "val: 100%|██████████| 8/8 [00:04<00:00,  1.82it/s]\n"
     ]
    },
    {
     "name": "stdout",
     "output_type": "stream",
     "text": [
      "epoch[0] 0.0188995665595645 0.04409898863898383\n",
      "batch 352\n"
     ]
    },
    {
     "name": "stderr",
     "output_type": "stream",
     "text": [
      "train: 100%|██████████| 17/17 [00:11<00:00,  1.47it/s]\n",
      "val: 100%|██████████| 8/8 [00:04<00:00,  1.86it/s]\n"
     ]
    },
    {
     "name": "stdout",
     "output_type": "stream",
     "text": [
      "epoch[0] 0.019084515685126896 0.04453053659862942\n",
      "batch 353\n"
     ]
    },
    {
     "name": "stderr",
     "output_type": "stream",
     "text": [
      "train: 100%|██████████| 17/17 [00:11<00:00,  1.43it/s]\n",
      "val: 100%|██████████| 8/8 [00:04<00:00,  1.86it/s]\n"
     ]
    },
    {
     "name": "stdout",
     "output_type": "stream",
     "text": [
      "epoch[0] 0.01902963672365461 0.04440248568852743\n",
      "batch 354\n"
     ]
    },
    {
     "name": "stderr",
     "output_type": "stream",
     "text": [
      "train: 100%|██████████| 17/17 [00:11<00:00,  1.45it/s]\n",
      "val: 100%|██████████| 8/8 [00:04<00:00,  1.85it/s]\n"
     ]
    },
    {
     "name": "stdout",
     "output_type": "stream",
     "text": [
      "epoch[0] 0.01887585446948097 0.044043660428788926\n",
      "batch 355\n"
     ]
    },
    {
     "name": "stderr",
     "output_type": "stream",
     "text": [
      "train: 100%|██████████| 17/17 [00:11<00:00,  1.46it/s]\n",
      "val: 100%|██████████| 8/8 [00:04<00:00,  1.86it/s]\n"
     ]
    },
    {
     "name": "stdout",
     "output_type": "stream",
     "text": [
      "epoch[0] 0.019180826346079507 0.04475526147418552\n",
      "batch 356\n"
     ]
    },
    {
     "name": "stderr",
     "output_type": "stream",
     "text": [
      "train: 100%|██████████| 17/17 [00:11<00:00,  1.45it/s]\n",
      "val: 100%|██████████| 8/8 [00:04<00:00,  1.83it/s]\n"
     ]
    },
    {
     "name": "stdout",
     "output_type": "stream",
     "text": [
      "epoch[0] 0.019106240158989315 0.04458122703764174\n",
      "batch 357\n"
     ]
    },
    {
     "name": "stderr",
     "output_type": "stream",
     "text": [
      "train: 100%|██████████| 17/17 [00:11<00:00,  1.43it/s]\n",
      "val: 100%|██████████| 8/8 [00:04<00:00,  1.86it/s]\n"
     ]
    },
    {
     "name": "stdout",
     "output_type": "stream",
     "text": [
      "epoch[0] 0.0187169995762053 0.0436729990111457\n",
      "batch 358\n"
     ]
    },
    {
     "name": "stderr",
     "output_type": "stream",
     "text": [
      "train: 100%|██████████| 17/17 [00:11<00:00,  1.42it/s]\n",
      "val: 100%|██████████| 8/8 [00:04<00:00,  1.73it/s]\n"
     ]
    },
    {
     "name": "stdout",
     "output_type": "stream",
     "text": [
      "epoch[0] 0.018603760174342565 0.04340877374013265\n",
      "batch 359\n"
     ]
    },
    {
     "name": "stderr",
     "output_type": "stream",
     "text": [
      "train: 100%|██████████| 17/17 [00:11<00:00,  1.46it/s]\n",
      "val: 100%|██████████| 8/8 [00:04<00:00,  1.74it/s]\n"
     ]
    },
    {
     "name": "stdout",
     "output_type": "stream",
     "text": [
      "epoch[0] 0.018521559351966494 0.043216971821255154\n",
      "batch 360\n"
     ]
    },
    {
     "name": "stderr",
     "output_type": "stream",
     "text": [
      "train: 100%|██████████| 17/17 [00:11<00:00,  1.45it/s]\n",
      "val: 100%|██████████| 8/8 [00:04<00:00,  1.80it/s]\n"
     ]
    },
    {
     "name": "stdout",
     "output_type": "stream",
     "text": [
      "epoch[0] 0.01892305896395729 0.044153804249233666\n",
      "batch 361\n"
     ]
    },
    {
     "name": "stderr",
     "output_type": "stream",
     "text": [
      "train: 100%|██████████| 17/17 [00:11<00:00,  1.44it/s]\n",
      "val: 100%|██████████| 8/8 [00:04<00:00,  1.67it/s]\n"
     ]
    },
    {
     "name": "stdout",
     "output_type": "stream",
     "text": [
      "epoch[0] 0.019085572560628254 0.04453300264146593\n",
      "batch 362\n"
     ]
    },
    {
     "name": "stderr",
     "output_type": "stream",
     "text": [
      "train: 100%|██████████| 17/17 [00:11<00:00,  1.46it/s]\n",
      "val: 100%|██████████| 8/8 [00:04<00:00,  1.74it/s]\n"
     ]
    },
    {
     "name": "stdout",
     "output_type": "stream",
     "text": [
      "epoch[0] 0.019033125922793433 0.04441062715318468\n",
      "batch 363\n"
     ]
    },
    {
     "name": "stderr",
     "output_type": "stream",
     "text": [
      "train: 100%|██████████| 17/17 [00:12<00:00,  1.42it/s]\n",
      "val: 100%|██████████| 8/8 [00:04<00:00,  1.80it/s]\n"
     ]
    },
    {
     "name": "stdout",
     "output_type": "stream",
     "text": [
      "epoch[0] 0.01870339484441848 0.043641254636976455\n",
      "batch 364\n"
     ]
    },
    {
     "name": "stderr",
     "output_type": "stream",
     "text": [
      "train: 100%|██████████| 17/17 [00:11<00:00,  1.43it/s]\n",
      "val: 100%|██████████| 8/8 [00:04<00:00,  1.80it/s]\n"
     ]
    },
    {
     "name": "stdout",
     "output_type": "stream",
     "text": [
      "epoch[0] 0.01874067772002447 0.04372824801339043\n",
      "batch 365\n"
     ]
    },
    {
     "name": "stderr",
     "output_type": "stream",
     "text": [
      "train: 100%|██████████| 17/17 [00:11<00:00,  1.45it/s]\n",
      "val: 100%|██████████| 8/8 [00:04<00:00,  1.75it/s]\n"
     ]
    },
    {
     "name": "stdout",
     "output_type": "stream",
     "text": [
      "epoch[0] 0.019035198120843796 0.04441546228196886\n",
      "batch 366\n"
     ]
    },
    {
     "name": "stderr",
     "output_type": "stream",
     "text": [
      "train: 100%|██████████| 17/17 [00:10<00:00,  1.55it/s]\n",
      "val: 100%|██████████| 8/8 [00:04<00:00,  1.82it/s]\n"
     ]
    },
    {
     "name": "stdout",
     "output_type": "stream",
     "text": [
      "epoch[0] 0.018948434193929036 0.044213013119167754\n",
      "batch 367\n"
     ]
    },
    {
     "name": "stderr",
     "output_type": "stream",
     "text": [
      "train: 100%|██████████| 17/17 [00:12<00:00,  1.41it/s]\n",
      "val: 100%|██████████| 8/8 [00:04<00:00,  1.80it/s]\n"
     ]
    },
    {
     "name": "stdout",
     "output_type": "stream",
     "text": [
      "epoch[0] 0.018882665974753243 0.0440595539410909\n",
      "batch 368\n"
     ]
    },
    {
     "name": "stderr",
     "output_type": "stream",
     "text": [
      "train: 100%|██████████| 17/17 [00:11<00:00,  1.45it/s]\n",
      "val: 100%|██████████| 8/8 [00:04<00:00,  1.77it/s]\n"
     ]
    },
    {
     "name": "stdout",
     "output_type": "stream",
     "text": [
      "epoch[0] 0.01905066319874355 0.04445154746373495\n",
      "batch 369\n"
     ]
    },
    {
     "name": "stderr",
     "output_type": "stream",
     "text": [
      "train: 100%|██████████| 17/17 [00:11<00:00,  1.51it/s]\n",
      "val: 100%|██████████| 8/8 [00:04<00:00,  1.70it/s]\n"
     ]
    },
    {
     "name": "stdout",
     "output_type": "stream",
     "text": [
      "epoch[0] 0.01877887317112514 0.04381737073262532\n",
      "batch 370\n"
     ]
    },
    {
     "name": "stderr",
     "output_type": "stream",
     "text": [
      "train: 100%|██████████| 17/17 [00:11<00:00,  1.42it/s]\n",
      "val: 100%|██████████| 8/8 [00:04<00:00,  1.76it/s]\n"
     ]
    },
    {
     "name": "stdout",
     "output_type": "stream",
     "text": [
      "epoch[0] 0.018939331826709566 0.04419177426232232\n",
      "batch 371\n"
     ]
    },
    {
     "name": "stderr",
     "output_type": "stream",
     "text": [
      "train: 100%|██████████| 17/17 [00:11<00:00,  1.45it/s]\n",
      "val: 100%|██████████| 8/8 [00:04<00:00,  1.83it/s]\n"
     ]
    },
    {
     "name": "stdout",
     "output_type": "stream",
     "text": [
      "epoch[0] 0.018771306900751024 0.04379971610175239\n",
      "batch 372\n"
     ]
    },
    {
     "name": "stderr",
     "output_type": "stream",
     "text": [
      "train: 100%|██████████| 17/17 [00:11<00:00,  1.51it/s]\n",
      "val: 100%|██████████| 8/8 [00:04<00:00,  1.79it/s]\n"
     ]
    },
    {
     "name": "stdout",
     "output_type": "stream",
     "text": [
      "epoch[0] 0.019308335667564756 0.045052783224317765\n",
      "batch 373\n"
     ]
    },
    {
     "name": "stderr",
     "output_type": "stream",
     "text": [
      "train: 100%|██████████| 17/17 [00:11<00:00,  1.42it/s]\n",
      "val: 100%|██████████| 8/8 [00:04<00:00,  1.80it/s]\n"
     ]
    },
    {
     "name": "stdout",
     "output_type": "stream",
     "text": [
      "epoch[0] 0.018938681000754947 0.044190255668428206\n",
      "batch 374\n"
     ]
    },
    {
     "name": "stderr",
     "output_type": "stream",
     "text": [
      "train: 100%|██████████| 17/17 [00:11<00:00,  1.48it/s]\n",
      "val: 100%|██████████| 8/8 [00:04<00:00,  1.61it/s]\n"
     ]
    },
    {
     "name": "stdout",
     "output_type": "stream",
     "text": [
      "epoch[0] 0.018909231821695963 0.044121540917290585\n",
      "batch 375\n"
     ]
    },
    {
     "name": "stderr",
     "output_type": "stream",
     "text": [
      "train: 100%|██████████| 17/17 [00:11<00:00,  1.48it/s]\n",
      "val: 100%|██████████| 8/8 [00:04<00:00,  1.78it/s]\n"
     ]
    },
    {
     "name": "stdout",
     "output_type": "stream",
     "text": [
      "epoch[0] 0.019044744968414306 0.04443773825963338\n",
      "batch 376\n"
     ]
    },
    {
     "name": "stderr",
     "output_type": "stream",
     "text": [
      "train: 100%|██████████| 17/17 [00:11<00:00,  1.45it/s]\n",
      "val: 100%|██████████| 8/8 [00:04<00:00,  1.67it/s]\n"
     ]
    },
    {
     "name": "stdout",
     "output_type": "stream",
     "text": [
      "epoch[0] 0.018729231357574462 0.043701539834340414\n",
      "batch 377\n"
     ]
    },
    {
     "name": "stderr",
     "output_type": "stream",
     "text": [
      "train: 100%|██████████| 17/17 [00:11<00:00,  1.49it/s]\n",
      "val: 100%|██████████| 8/8 [00:04<00:00,  1.71it/s]\n"
     ]
    },
    {
     "name": "stdout",
     "output_type": "stream",
     "text": [
      "epoch[0] 0.01896095877601987 0.04424223714404636\n",
      "batch 378\n"
     ]
    },
    {
     "name": "stderr",
     "output_type": "stream",
     "text": [
      "train: 100%|██████████| 17/17 [00:11<00:00,  1.52it/s]\n",
      "val: 100%|██████████| 8/8 [00:04<00:00,  1.86it/s]\n"
     ]
    },
    {
     "name": "stdout",
     "output_type": "stream",
     "text": [
      "epoch[0] 0.01898598795845395 0.04430063856972588\n",
      "batch 379\n"
     ]
    },
    {
     "name": "stderr",
     "output_type": "stream",
     "text": [
      "train: 100%|██████████| 17/17 [00:11<00:00,  1.44it/s]\n",
      "val: 100%|██████████| 8/8 [00:04<00:00,  1.82it/s]\n"
     ]
    },
    {
     "name": "stdout",
     "output_type": "stream",
     "text": [
      "epoch[0] 0.01888567776907058 0.04406658146116468\n",
      "batch 380\n"
     ]
    },
    {
     "name": "stderr",
     "output_type": "stream",
     "text": [
      "train: 100%|██████████| 17/17 [00:11<00:00,  1.44it/s]\n",
      "val: 100%|██████████| 8/8 [00:04<00:00,  1.70it/s]\n"
     ]
    },
    {
     "name": "stdout",
     "output_type": "stream",
     "text": [
      "epoch[0] 0.01885963791892642 0.044005821810828315\n",
      "batch 381\n"
     ]
    },
    {
     "name": "stderr",
     "output_type": "stream",
     "text": [
      "train: 100%|██████████| 17/17 [00:11<00:00,  1.52it/s]\n",
      "val: 100%|██████████| 8/8 [00:04<00:00,  1.85it/s]\n"
     ]
    },
    {
     "name": "stdout",
     "output_type": "stream",
     "text": [
      "epoch[0] 0.018878280775887626 0.04404932181040446\n",
      "batch 382\n"
     ]
    },
    {
     "name": "stderr",
     "output_type": "stream",
     "text": [
      "train: 100%|██████████| 17/17 [00:12<00:00,  1.39it/s]\n",
      "val: 100%|██████████| 8/8 [00:04<00:00,  1.90it/s]\n"
     ]
    },
    {
     "name": "stdout",
     "output_type": "stream",
     "text": [
      "epoch[0] 0.019215159983862015 0.044835373295678035\n",
      "batch 383\n"
     ]
    },
    {
     "name": "stderr",
     "output_type": "stream",
     "text": [
      "train: 100%|██████████| 17/17 [00:12<00:00,  1.37it/s]\n",
      "val: 100%|██████████| 8/8 [00:04<00:00,  1.82it/s]\n"
     ]
    },
    {
     "name": "stdout",
     "output_type": "stream",
     "text": [
      "epoch[0] 0.01885299773443313 0.043990328047010634\n",
      "batch 384\n"
     ]
    },
    {
     "name": "stderr",
     "output_type": "stream",
     "text": [
      "train: 100%|██████████| 17/17 [00:11<00:00,  1.46it/s]\n",
      "val: 100%|██████████| 8/8 [00:04<00:00,  1.82it/s]\n"
     ]
    },
    {
     "name": "stdout",
     "output_type": "stream",
     "text": [
      "epoch[0] 0.018802120572044737 0.04387161466810438\n",
      "batch 385\n"
     ]
    },
    {
     "name": "stderr",
     "output_type": "stream",
     "text": [
      "train: 100%|██████████| 17/17 [00:11<00:00,  1.45it/s]\n",
      "val: 100%|██████████| 8/8 [00:04<00:00,  1.86it/s]\n"
     ]
    },
    {
     "name": "stdout",
     "output_type": "stream",
     "text": [
      "epoch[0] 0.01909225032443092 0.044548584090338815\n",
      "batch 386\n"
     ]
    },
    {
     "name": "stderr",
     "output_type": "stream",
     "text": [
      "train: 100%|██████████| 17/17 [00:11<00:00,  1.46it/s]\n",
      "val: 100%|██████████| 8/8 [00:04<00:00,  1.75it/s]\n"
     ]
    },
    {
     "name": "stdout",
     "output_type": "stream",
     "text": [
      "epoch[0] 0.01888110694431123 0.04405591620339288\n",
      "batch 387\n"
     ]
    },
    {
     "name": "stderr",
     "output_type": "stream",
     "text": [
      "train: 100%|██████████| 17/17 [00:11<00:00,  1.49it/s]\n",
      "val: 100%|██████████| 8/8 [00:04<00:00,  1.84it/s]\n"
     ]
    },
    {
     "name": "stdout",
     "output_type": "stream",
     "text": [
      "epoch[0] 0.0190571657816569 0.044466720157199435\n",
      "batch 388\n"
     ]
    },
    {
     "name": "stderr",
     "output_type": "stream",
     "text": [
      "train: 100%|██████████| 17/17 [00:12<00:00,  1.41it/s]\n",
      "val: 100%|██████████| 8/8 [00:04<00:00,  1.82it/s]\n"
     ]
    },
    {
     "name": "stdout",
     "output_type": "stream",
     "text": [
      "epoch[0] 0.019181185676938012 0.04475609991285536\n",
      "batch 389\n"
     ]
    },
    {
     "name": "stderr",
     "output_type": "stream",
     "text": [
      "train: 100%|██████████| 17/17 [00:11<00:00,  1.43it/s]\n",
      "val: 100%|██████████| 8/8 [00:04<00:00,  1.79it/s]\n"
     ]
    },
    {
     "name": "stdout",
     "output_type": "stream",
     "text": [
      "epoch[0] 0.019000983578818183 0.044335628350575765\n",
      "batch 390\n"
     ]
    },
    {
     "name": "stderr",
     "output_type": "stream",
     "text": [
      "train: 100%|██████████| 17/17 [00:11<00:00,  1.50it/s]\n",
      "val: 100%|██████████| 8/8 [00:04<00:00,  1.77it/s]\n"
     ]
    },
    {
     "name": "stdout",
     "output_type": "stream",
     "text": [
      "epoch[0] 0.018938047999427433 0.04418877866533068\n",
      "batch 391\n"
     ]
    },
    {
     "name": "stderr",
     "output_type": "stream",
     "text": [
      "train: 100%|██████████| 17/17 [00:11<00:00,  1.48it/s]\n",
      "val: 100%|██████████| 8/8 [00:04<00:00,  1.77it/s]\n"
     ]
    },
    {
     "name": "stdout",
     "output_type": "stream",
     "text": [
      "epoch[0] 0.01864014716375442 0.04349367671542698\n",
      "batch 392\n"
     ]
    },
    {
     "name": "stderr",
     "output_type": "stream",
     "text": [
      "train: 100%|██████████| 17/17 [00:11<00:00,  1.42it/s]\n",
      "val: 100%|██████████| 8/8 [00:04<00:00,  1.80it/s]\n"
     ]
    },
    {
     "name": "stdout",
     "output_type": "stream",
     "text": [
      "epoch[0] 0.01893512351172311 0.04418195486068725\n",
      "batch 393\n"
     ]
    },
    {
     "name": "stderr",
     "output_type": "stream",
     "text": [
      "train: 100%|██████████| 17/17 [00:11<00:00,  1.50it/s]\n",
      "val: 100%|██████████| 8/8 [00:04<00:00,  1.81it/s]\n"
     ]
    },
    {
     "name": "stdout",
     "output_type": "stream",
     "text": [
      "epoch[0] 0.01872011491230556 0.04368026812871297\n",
      "batch 394\n"
     ]
    },
    {
     "name": "stderr",
     "output_type": "stream",
     "text": [
      "train: 100%|██████████| 17/17 [00:11<00:00,  1.48it/s]\n",
      "val: 100%|██████████| 8/8 [00:04<00:00,  1.76it/s]\n"
     ]
    },
    {
     "name": "stdout",
     "output_type": "stream",
     "text": [
      "epoch[0] 0.019338444982256207 0.04512303829193115\n",
      "batch 395\n"
     ]
    },
    {
     "name": "stderr",
     "output_type": "stream",
     "text": [
      "train: 100%|██████████| 17/17 [00:11<00:00,  1.43it/s]\n",
      "val: 100%|██████████| 8/8 [00:04<00:00,  1.70it/s]\n"
     ]
    },
    {
     "name": "stdout",
     "output_type": "stream",
     "text": [
      "epoch[0] 0.01885397808892386 0.043992615540822344\n",
      "batch 396\n"
     ]
    },
    {
     "name": "stderr",
     "output_type": "stream",
     "text": [
      "train: 100%|██████████| 17/17 [00:11<00:00,  1.52it/s]\n",
      "val: 100%|██████████| 8/8 [00:04<00:00,  1.84it/s]\n"
     ]
    },
    {
     "name": "stdout",
     "output_type": "stream",
     "text": [
      "epoch[0] 0.01892583971931821 0.04416029267840915\n",
      "batch 397\n"
     ]
    },
    {
     "name": "stderr",
     "output_type": "stream",
     "text": [
      "train: 100%|██████████| 17/17 [00:11<00:00,  1.48it/s]\n",
      "val: 100%|██████████| 8/8 [00:04<00:00,  1.80it/s]\n"
     ]
    },
    {
     "name": "stdout",
     "output_type": "stream",
     "text": [
      "epoch[0] 0.019057487873804003 0.04446747170554267\n",
      "batch 398\n"
     ]
    },
    {
     "name": "stderr",
     "output_type": "stream",
     "text": [
      "train: 100%|██████████| 17/17 [00:12<00:00,  1.41it/s]\n",
      "val: 100%|██████████| 8/8 [00:04<00:00,  1.79it/s]\n"
     ]
    },
    {
     "name": "stdout",
     "output_type": "stream",
     "text": [
      "epoch[0] 0.01866731984274728 0.043557079633076985\n",
      "batch 399\n"
     ]
    },
    {
     "name": "stderr",
     "output_type": "stream",
     "text": [
      "train: 100%|██████████| 17/17 [00:11<00:00,  1.51it/s]\n",
      "val: 100%|██████████| 8/8 [00:04<00:00,  1.83it/s]\n"
     ]
    },
    {
     "name": "stdout",
     "output_type": "stream",
     "text": [
      "epoch[0] 0.01918035246077038 0.04475415574179755\n",
      "batch 400\n"
     ]
    },
    {
     "name": "stderr",
     "output_type": "stream",
     "text": [
      "train: 100%|██████████| 17/17 [00:11<00:00,  1.45it/s]\n",
      "val: 100%|██████████| 8/8 [00:04<00:00,  1.82it/s]\n"
     ]
    },
    {
     "name": "stdout",
     "output_type": "stream",
     "text": [
      "epoch[0] 0.019199159826551165 0.044798039595286054\n",
      "batch 401\n"
     ]
    },
    {
     "name": "stderr",
     "output_type": "stream",
     "text": [
      "train: 100%|██████████| 17/17 [00:11<00:00,  1.43it/s]\n",
      "val: 100%|██████████| 8/8 [00:04<00:00,  1.88it/s]\n"
     ]
    },
    {
     "name": "stdout",
     "output_type": "stream",
     "text": [
      "epoch[0] 0.018995267209552583 0.044322290155622696\n",
      "batch 402\n"
     ]
    },
    {
     "name": "stderr",
     "output_type": "stream",
     "text": [
      "train: 100%|██████████| 17/17 [00:11<00:00,  1.51it/s]\n",
      "val: 100%|██████████| 8/8 [00:04<00:00,  1.73it/s]\n"
     ]
    },
    {
     "name": "stdout",
     "output_type": "stream",
     "text": [
      "epoch[0] 0.018795710858844576 0.043856658670637344\n",
      "batch 403\n"
     ]
    },
    {
     "name": "stderr",
     "output_type": "stream",
     "text": [
      "train: 100%|██████████| 17/17 [00:11<00:00,  1.43it/s]\n",
      "val: 100%|██████████| 8/8 [00:04<00:00,  1.81it/s]\n"
     ]
    },
    {
     "name": "stdout",
     "output_type": "stream",
     "text": [
      "epoch[0] 0.018890722138541087 0.04407835165659586\n",
      "batch 404\n"
     ]
    },
    {
     "name": "stderr",
     "output_type": "stream",
     "text": [
      "train: 100%|██████████| 17/17 [00:11<00:00,  1.44it/s]\n",
      "val: 100%|██████████| 8/8 [00:04<00:00,  1.85it/s]\n"
     ]
    },
    {
     "name": "stdout",
     "output_type": "stream",
     "text": [
      "epoch[0] 0.01921789634795416 0.044841758145226375\n",
      "batch 405\n"
     ]
    },
    {
     "name": "stderr",
     "output_type": "stream",
     "text": [
      "train: 100%|██████████| 17/17 [00:11<00:00,  1.50it/s]\n",
      "val: 100%|██████████| 8/8 [00:04<00:00,  1.69it/s]\n"
     ]
    },
    {
     "name": "stdout",
     "output_type": "stream",
     "text": [
      "epoch[0] 0.01892451172783261 0.04415719403160943\n",
      "batch 406\n"
     ]
    },
    {
     "name": "stderr",
     "output_type": "stream",
     "text": [
      "train: 100%|██████████| 17/17 [00:11<00:00,  1.46it/s]\n",
      "val: 100%|██████████| 8/8 [00:04<00:00,  1.77it/s]\n"
     ]
    },
    {
     "name": "stdout",
     "output_type": "stream",
     "text": [
      "epoch[0] 0.018615409646715438 0.04343595584233602\n",
      "batch 407\n"
     ]
    },
    {
     "name": "stderr",
     "output_type": "stream",
     "text": [
      "train: 100%|██████████| 17/17 [00:12<00:00,  1.41it/s]\n",
      "val: 100%|██████████| 8/8 [00:04<00:00,  1.78it/s]\n"
     ]
    },
    {
     "name": "stdout",
     "output_type": "stream",
     "text": [
      "epoch[0] 0.018621678806486585 0.04345058388180203\n",
      "batch 408\n"
     ]
    },
    {
     "name": "stderr",
     "output_type": "stream",
     "text": [
      "train: 100%|██████████| 17/17 [00:11<00:00,  1.50it/s]\n",
      "val: 100%|██████████| 8/8 [00:04<00:00,  1.62it/s]\n"
     ]
    },
    {
     "name": "stdout",
     "output_type": "stream",
     "text": [
      "epoch[0] 0.01878884485789708 0.04384063800175985\n",
      "batch 409\n"
     ]
    },
    {
     "name": "stderr",
     "output_type": "stream",
     "text": [
      "train: 100%|██████████| 17/17 [00:11<00:00,  1.46it/s]\n",
      "val: 100%|██████████| 8/8 [00:04<00:00,  1.75it/s]\n"
     ]
    },
    {
     "name": "stdout",
     "output_type": "stream",
     "text": [
      "epoch[0] 0.019018843060448057 0.044377300474378795\n",
      "batch 410\n"
     ]
    },
    {
     "name": "stderr",
     "output_type": "stream",
     "text": [
      "train: 100%|██████████| 17/17 [00:11<00:00,  1.44it/s]\n",
      "val: 100%|██████████| 8/8 [00:04<00:00,  1.72it/s]\n"
     ]
    },
    {
     "name": "stdout",
     "output_type": "stream",
     "text": [
      "epoch[0] 0.018798566318693616 0.0438633214102851\n",
      "batch 411\n"
     ]
    },
    {
     "name": "stderr",
     "output_type": "stream",
     "text": [
      "train: 100%|██████████| 17/17 [00:11<00:00,  1.49it/s]\n",
      "val: 100%|██████████| 8/8 [00:04<00:00,  1.66it/s]\n"
     ]
    },
    {
     "name": "stdout",
     "output_type": "stream",
     "text": [
      "epoch[0] 0.018905313582647413 0.044112398359510634\n",
      "batch 412\n"
     ]
    },
    {
     "name": "stderr",
     "output_type": "stream",
     "text": [
      "train: 100%|██████████| 17/17 [00:11<00:00,  1.46it/s]\n",
      "val: 100%|██████████| 8/8 [00:04<00:00,  1.75it/s]\n"
     ]
    },
    {
     "name": "stdout",
     "output_type": "stream",
     "text": [
      "epoch[0] 0.018845631849198113 0.043973140981462266\n",
      "batch 413\n"
     ]
    },
    {
     "name": "stderr",
     "output_type": "stream",
     "text": [
      "train: 100%|██████████| 17/17 [00:11<00:00,  1.43it/s]\n",
      "val: 100%|██████████| 8/8 [00:04<00:00,  1.83it/s]\n"
     ]
    },
    {
     "name": "stdout",
     "output_type": "stream",
     "text": [
      "epoch[0] 0.01908588545663016 0.044533732732137045\n",
      "batch 414\n"
     ]
    },
    {
     "name": "stderr",
     "output_type": "stream",
     "text": [
      "train: 100%|██████████| 17/17 [00:11<00:00,  1.48it/s]\n",
      "val: 100%|██████████| 8/8 [00:04<00:00,  1.73it/s]\n"
     ]
    },
    {
     "name": "stdout",
     "output_type": "stream",
     "text": [
      "epoch[0] 0.018693267844972158 0.043617624971601696\n",
      "batch 415\n"
     ]
    },
    {
     "name": "stderr",
     "output_type": "stream",
     "text": [
      "train: 100%|██████████| 17/17 [00:11<00:00,  1.47it/s]\n",
      "val: 100%|██████████| 8/8 [00:04<00:00,  1.80it/s]\n"
     ]
    },
    {
     "name": "stdout",
     "output_type": "stream",
     "text": [
      "epoch[0] 0.01883925721758888 0.04395826684104072\n",
      "batch 416\n"
     ]
    },
    {
     "name": "stderr",
     "output_type": "stream",
     "text": [
      "train: 100%|██████████| 17/17 [00:11<00:00,  1.43it/s]\n",
      "val: 100%|██████████| 8/8 [00:04<00:00,  1.82it/s]\n"
     ]
    },
    {
     "name": "stdout",
     "output_type": "stream",
     "text": [
      "epoch[0] 0.01907456636428833 0.04450732151667277\n",
      "batch 417\n"
     ]
    },
    {
     "name": "stderr",
     "output_type": "stream",
     "text": [
      "train: 100%|██████████| 17/17 [00:11<00:00,  1.46it/s]\n",
      "val: 100%|██████████| 8/8 [00:04<00:00,  1.81it/s]\n"
     ]
    },
    {
     "name": "stdout",
     "output_type": "stream",
     "text": [
      "epoch[0] 0.01919539111001151 0.04478924592336019\n",
      "batch 418\n"
     ]
    },
    {
     "name": "stderr",
     "output_type": "stream",
     "text": [
      "train: 100%|██████████| 17/17 [00:11<00:00,  1.44it/s]\n",
      "val: 100%|██████████| 8/8 [00:04<00:00,  1.85it/s]\n"
     ]
    },
    {
     "name": "stdout",
     "output_type": "stream",
     "text": [
      "epoch[0] 0.019157468137286957 0.0447007589870029\n",
      "batch 419\n"
     ]
    },
    {
     "name": "stderr",
     "output_type": "stream",
     "text": [
      "train: 100%|██████████| 17/17 [00:11<00:00,  1.48it/s]\n",
      "val: 100%|██████████| 8/8 [00:04<00:00,  1.80it/s]\n"
     ]
    },
    {
     "name": "stdout",
     "output_type": "stream",
     "text": [
      "epoch[0] 0.01878124089468093 0.04382289542092217\n",
      "batch 420\n"
     ]
    },
    {
     "name": "stderr",
     "output_type": "stream",
     "text": [
      "train: 100%|██████████| 17/17 [00:11<00:00,  1.46it/s]\n",
      "val: 100%|██████████| 8/8 [00:04<00:00,  1.86it/s]\n"
     ]
    },
    {
     "name": "stdout",
     "output_type": "stream",
     "text": [
      "epoch[0] 0.019391880148933047 0.04524772034751044\n",
      "batch 421\n"
     ]
    },
    {
     "name": "stderr",
     "output_type": "stream",
     "text": [
      "train: 100%|██████████| 17/17 [00:11<00:00,  1.46it/s]\n",
      "val: 100%|██████████| 8/8 [00:04<00:00,  1.86it/s]\n"
     ]
    },
    {
     "name": "stdout",
     "output_type": "stream",
     "text": [
      "epoch[0] 0.018769641263144357 0.0437958296140035\n",
      "batch 422\n"
     ]
    },
    {
     "name": "stderr",
     "output_type": "stream",
     "text": [
      "train: 100%|██████████| 17/17 [00:11<00:00,  1.44it/s]\n",
      "val: 100%|██████████| 8/8 [00:04<00:00,  1.83it/s]\n"
     ]
    },
    {
     "name": "stdout",
     "output_type": "stream",
     "text": [
      "epoch[0] 0.018898851417359853 0.04409731997383965\n",
      "batch 423\n"
     ]
    },
    {
     "name": "stderr",
     "output_type": "stream",
     "text": [
      "train: 100%|██████████| 17/17 [00:11<00:00,  1.48it/s]\n",
      "val: 100%|██████████| 8/8 [00:04<00:00,  1.74it/s]\n"
     ]
    },
    {
     "name": "stdout",
     "output_type": "stream",
     "text": [
      "epoch[0] 0.018974786826542446 0.044274502595265705\n",
      "batch 424\n"
     ]
    },
    {
     "name": "stderr",
     "output_type": "stream",
     "text": [
      "train: 100%|██████████| 17/17 [00:11<00:00,  1.47it/s]\n",
      "val: 100%|██████████| 8/8 [00:04<00:00,  1.84it/s]\n"
     ]
    },
    {
     "name": "stdout",
     "output_type": "stream",
     "text": [
      "epoch[0] 0.018961212975638252 0.04424283027648926\n",
      "batch 425\n"
     ]
    },
    {
     "name": "stderr",
     "output_type": "stream",
     "text": [
      "train: 100%|██████████| 17/17 [00:11<00:00,  1.44it/s]\n",
      "val: 100%|██████████| 8/8 [00:04<00:00,  1.84it/s]\n"
     ]
    },
    {
     "name": "stdout",
     "output_type": "stream",
     "text": [
      "epoch[0] 0.01876840148653303 0.043792936801910404\n",
      "batch 426\n"
     ]
    },
    {
     "name": "stderr",
     "output_type": "stream",
     "text": [
      "train: 100%|██████████| 17/17 [00:11<00:00,  1.46it/s]\n",
      "val: 100%|██████████| 8/8 [00:04<00:00,  1.86it/s]\n"
     ]
    },
    {
     "name": "stdout",
     "output_type": "stream",
     "text": [
      "epoch[0] 0.019079572813851493 0.04451900323232015\n",
      "batch 427\n"
     ]
    },
    {
     "name": "stderr",
     "output_type": "stream",
     "text": [
      "train: 100%|██████████| 17/17 [00:11<00:00,  1.45it/s]\n",
      "val: 100%|██████████| 8/8 [00:04<00:00,  1.71it/s]\n"
     ]
    },
    {
     "name": "stdout",
     "output_type": "stream",
     "text": [
      "epoch[0] 0.018917971338544573 0.04414193312327067\n",
      "batch 428\n"
     ]
    },
    {
     "name": "stderr",
     "output_type": "stream",
     "text": [
      "train: 100%|██████████| 17/17 [00:11<00:00,  1.49it/s]\n",
      "val: 100%|██████████| 8/8 [00:04<00:00,  1.83it/s]\n"
     ]
    },
    {
     "name": "stdout",
     "output_type": "stream",
     "text": [
      "epoch[0] 0.019208846659887403 0.04482064220640394\n",
      "batch 429\n"
     ]
    },
    {
     "name": "stderr",
     "output_type": "stream",
     "text": [
      "train: 100%|██████████| 17/17 [00:11<00:00,  1.46it/s]\n",
      "val: 100%|██████████| 8/8 [00:04<00:00,  1.85it/s]\n"
     ]
    },
    {
     "name": "stdout",
     "output_type": "stream",
     "text": [
      "epoch[0] 0.019251420611426946 0.04491998142666287\n",
      "batch 430\n"
     ]
    },
    {
     "name": "stderr",
     "output_type": "stream",
     "text": [
      "train: 100%|██████████| 17/17 [00:12<00:00,  1.41it/s]\n",
      "val: 100%|██████████| 8/8 [00:04<00:00,  1.81it/s]\n"
     ]
    },
    {
     "name": "stdout",
     "output_type": "stream",
     "text": [
      "epoch[0] 0.019070665609268914 0.0444982197549608\n",
      "batch 431\n"
     ]
    },
    {
     "name": "stderr",
     "output_type": "stream",
     "text": [
      "train: 100%|██████████| 17/17 [00:11<00:00,  1.46it/s]\n",
      "val: 100%|██████████| 8/8 [00:04<00:00,  1.80it/s]\n"
     ]
    },
    {
     "name": "stdout",
     "output_type": "stream",
     "text": [
      "epoch[0] 0.018660323846907842 0.043540755642784965\n",
      "batch 432\n"
     ]
    },
    {
     "name": "stderr",
     "output_type": "stream",
     "text": [
      "train: 100%|██████████| 17/17 [00:11<00:00,  1.50it/s]\n",
      "val: 100%|██████████| 8/8 [00:04<00:00,  1.86it/s]\n"
     ]
    },
    {
     "name": "stdout",
     "output_type": "stream",
     "text": [
      "epoch[0] 0.01929484038125901 0.04502129422293769\n",
      "batch 433\n"
     ]
    },
    {
     "name": "stderr",
     "output_type": "stream",
     "text": [
      "train: 100%|██████████| 17/17 [00:11<00:00,  1.42it/s]\n",
      "val: 100%|██████████| 8/8 [00:04<00:00,  1.84it/s]\n"
     ]
    },
    {
     "name": "stdout",
     "output_type": "stream",
     "text": [
      "epoch[0] 0.018963813668205626 0.04424889855914646\n",
      "batch 434\n"
     ]
    },
    {
     "name": "stderr",
     "output_type": "stream",
     "text": [
      "train: 100%|██████████| 17/17 [00:11<00:00,  1.46it/s]\n",
      "val: 100%|██████████| 8/8 [00:04<00:00,  1.83it/s]\n"
     ]
    },
    {
     "name": "stdout",
     "output_type": "stream",
     "text": [
      "epoch[0] 0.019361317725408646 0.045176408025953504\n",
      "batch 435\n"
     ]
    },
    {
     "name": "stderr",
     "output_type": "stream",
     "text": [
      "train: 100%|██████████| 17/17 [00:11<00:00,  1.52it/s]\n",
      "val: 100%|██████████| 8/8 [00:04<00:00,  1.83it/s]\n"
     ]
    },
    {
     "name": "stdout",
     "output_type": "stream",
     "text": [
      "epoch[0] 0.018752231484367735 0.04375520679685804\n",
      "batch 436\n"
     ]
    },
    {
     "name": "stderr",
     "output_type": "stream",
     "text": [
      "train: 100%|██████████| 17/17 [00:12<00:00,  1.37it/s]\n",
      "val: 100%|██████████| 8/8 [00:04<00:00,  1.82it/s]\n"
     ]
    },
    {
     "name": "stdout",
     "output_type": "stream",
     "text": [
      "epoch[0] 0.01887193623043242 0.04403451787100898\n",
      "batch 437\n"
     ]
    },
    {
     "name": "stderr",
     "output_type": "stream",
     "text": [
      "train: 100%|██████████| 17/17 [00:12<00:00,  1.40it/s]\n",
      "val: 100%|██████████| 8/8 [00:04<00:00,  1.65it/s]\n"
     ]
    },
    {
     "name": "stdout",
     "output_type": "stream",
     "text": [
      "epoch[0] 0.019044617017110188 0.04443743970659044\n",
      "batch 438\n"
     ]
    },
    {
     "name": "stderr",
     "output_type": "stream",
     "text": [
      "train: 100%|██████████| 17/17 [00:11<00:00,  1.53it/s]\n",
      "val: 100%|██████████| 8/8 [00:04<00:00,  1.86it/s]\n"
     ]
    },
    {
     "name": "stdout",
     "output_type": "stream",
     "text": [
      "epoch[0] 0.01890349728720529 0.044108160336812335\n",
      "batch 439\n"
     ]
    },
    {
     "name": "stderr",
     "output_type": "stream",
     "text": [
      "train: 100%|██████████| 17/17 [00:12<00:00,  1.41it/s]\n",
      "val: 100%|██████████| 8/8 [00:04<00:00,  1.83it/s]\n"
     ]
    },
    {
     "name": "stdout",
     "output_type": "stream",
     "text": [
      "epoch[0] 0.019102654457092284 0.044572860399882\n",
      "batch 440\n"
     ]
    },
    {
     "name": "stderr",
     "output_type": "stream",
     "text": [
      "train: 100%|██████████| 17/17 [00:12<00:00,  1.41it/s]\n",
      "val: 100%|██████████| 8/8 [00:04<00:00,  1.68it/s]\n"
     ]
    },
    {
     "name": "stdout",
     "output_type": "stream",
     "text": [
      "epoch[0] 0.01881669282913208 0.043905616601308185\n",
      "batch 441\n"
     ]
    },
    {
     "name": "stderr",
     "output_type": "stream",
     "text": [
      "train: 100%|██████████| 17/17 [00:11<00:00,  1.51it/s]\n",
      "val: 100%|██████████| 8/8 [00:04<00:00,  1.86it/s]\n"
     ]
    },
    {
     "name": "stdout",
     "output_type": "stream",
     "text": [
      "epoch[0] 0.01885802280335199 0.044002053207821315\n",
      "batch 442\n"
     ]
    },
    {
     "name": "stderr",
     "output_type": "stream",
     "text": [
      "train: 100%|██████████| 17/17 [00:12<00:00,  1.39it/s]\n",
      "val: 100%|██████████| 8/8 [00:04<00:00,  1.89it/s]\n"
     ]
    },
    {
     "name": "stdout",
     "output_type": "stream",
     "text": [
      "epoch[0] 0.018780289604550315 0.04382067574395074\n",
      "batch 443\n"
     ]
    },
    {
     "name": "stderr",
     "output_type": "stream",
     "text": [
      "train: 100%|██████████| 17/17 [00:11<00:00,  1.44it/s]\n",
      "val: 100%|██████████| 8/8 [00:04<00:00,  1.65it/s]\n"
     ]
    },
    {
     "name": "stdout",
     "output_type": "stream",
     "text": [
      "epoch[0] 0.018877998079572404 0.04404866218566895\n",
      "batch 444\n"
     ]
    },
    {
     "name": "stderr",
     "output_type": "stream",
     "text": [
      "train: 100%|██████████| 17/17 [00:11<00:00,  1.47it/s]\n",
      "val: 100%|██████████| 8/8 [00:04<00:00,  1.83it/s]\n"
     ]
    },
    {
     "name": "stdout",
     "output_type": "stream",
     "text": [
      "epoch[0] 0.018912020864940825 0.04412804868486193\n",
      "batch 445\n"
     ]
    },
    {
     "name": "stderr",
     "output_type": "stream",
     "text": [
      "train: 100%|██████████| 17/17 [00:12<00:00,  1.37it/s]\n",
      "val: 100%|██████████| 8/8 [00:04<00:00,  1.78it/s]\n"
     ]
    },
    {
     "name": "stdout",
     "output_type": "stream",
     "text": [
      "epoch[0] 0.019207827590760732 0.044818264378441705\n",
      "batch 446\n"
     ]
    },
    {
     "name": "stderr",
     "output_type": "stream",
     "text": [
      "train: 100%|██████████| 17/17 [00:12<00:00,  1.37it/s]\n",
      "val: 100%|██████████| 8/8 [00:04<00:00,  1.81it/s]\n"
     ]
    },
    {
     "name": "stdout",
     "output_type": "stream",
     "text": [
      "epoch[0] 0.019225462618328276 0.04485941277609931\n",
      "batch 447\n"
     ]
    },
    {
     "name": "stderr",
     "output_type": "stream",
     "text": [
      "train: 100%|██████████| 17/17 [00:11<00:00,  1.48it/s]\n",
      "val: 100%|██████████| 8/8 [00:04<00:00,  1.77it/s]\n"
     ]
    },
    {
     "name": "stdout",
     "output_type": "stream",
     "text": [
      "epoch[0] 0.018881037348792668 0.04405575381384955\n",
      "batch 448\n"
     ]
    },
    {
     "name": "stderr",
     "output_type": "stream",
     "text": [
      "train: 100%|██████████| 17/17 [00:11<00:00,  1.46it/s]\n",
      "val: 100%|██████████| 8/8 [00:04<00:00,  1.79it/s]\n"
     ]
    },
    {
     "name": "stdout",
     "output_type": "stream",
     "text": [
      "epoch[0] 0.01905500150862194 0.044461670186784534\n",
      "batch 449\n"
     ]
    },
    {
     "name": "stderr",
     "output_type": "stream",
     "text": [
      "train: 100%|██████████| 17/17 [00:11<00:00,  1.43it/s]\n",
      "val: 100%|██████████| 8/8 [00:04<00:00,  1.82it/s]\n"
     ]
    },
    {
     "name": "stdout",
     "output_type": "stream",
     "text": [
      "epoch[0] 0.019101141066778272 0.04456932915581597\n",
      "batch 450\n"
     ]
    },
    {
     "name": "stderr",
     "output_type": "stream",
     "text": [
      "train: 100%|██████████| 17/17 [00:11<00:00,  1.48it/s]\n",
      "val: 100%|██████████| 8/8 [00:04<00:00,  1.77it/s]\n"
     ]
    },
    {
     "name": "stdout",
     "output_type": "stream",
     "text": [
      "epoch[0] 0.01879923763729277 0.0438648878203498\n",
      "batch 451\n"
     ]
    },
    {
     "name": "stderr",
     "output_type": "stream",
     "text": [
      "train: 100%|██████████| 17/17 [00:11<00:00,  1.45it/s]\n",
      "val: 100%|██████████| 8/8 [00:04<00:00,  1.73it/s]\n"
     ]
    },
    {
     "name": "stdout",
     "output_type": "stream",
     "text": [
      "epoch[0] 0.01877114352725801 0.043799334896935355\n",
      "batch 452\n"
     ]
    },
    {
     "name": "stderr",
     "output_type": "stream",
     "text": [
      "train: 100%|██████████| 17/17 [00:11<00:00,  1.44it/s]\n",
      "val: 100%|██████████| 8/8 [00:04<00:00,  1.80it/s]\n"
     ]
    },
    {
     "name": "stdout",
     "output_type": "stream",
     "text": [
      "epoch[0] 0.019218302340734572 0.044842705461714004\n",
      "batch 453\n"
     ]
    },
    {
     "name": "stderr",
     "output_type": "stream",
     "text": [
      "train: 100%|██████████| 17/17 [00:11<00:00,  1.50it/s]\n",
      "val: 100%|██████████| 8/8 [00:04<00:00,  1.75it/s]\n"
     ]
    },
    {
     "name": "stdout",
     "output_type": "stream",
     "text": [
      "epoch[0] 0.01885597410656157 0.04399727291531033\n",
      "batch 454\n"
     ]
    },
    {
     "name": "stderr",
     "output_type": "stream",
     "text": [
      "train: 100%|██████████| 17/17 [00:11<00:00,  1.48it/s]\n",
      "val: 100%|██████████| 8/8 [00:04<00:00,  1.79it/s]\n"
     ]
    },
    {
     "name": "stdout",
     "output_type": "stream",
     "text": [
      "epoch[0] 0.018916874726613363 0.04413937436209785\n",
      "batch 455\n"
     ]
    },
    {
     "name": "stderr",
     "output_type": "stream",
     "text": [
      "train: 100%|██████████| 17/17 [00:12<00:00,  1.40it/s]\n",
      "val: 100%|██████████| 8/8 [00:04<00:00,  1.76it/s]\n"
     ]
    },
    {
     "name": "stdout",
     "output_type": "stream",
     "text": [
      "epoch[0] 0.019024379821050735 0.04439021958245171\n",
      "batch 456\n"
     ]
    },
    {
     "name": "stderr",
     "output_type": "stream",
     "text": [
      "train: 100%|██████████| 17/17 [00:11<00:00,  1.51it/s]\n",
      "val: 100%|██████████| 8/8 [00:04<00:00,  1.68it/s]\n"
     ]
    },
    {
     "name": "stdout",
     "output_type": "stream",
     "text": [
      "epoch[0] 0.019045902774447485 0.04444043980704414\n",
      "batch 457\n"
     ]
    },
    {
     "name": "stderr",
     "output_type": "stream",
     "text": [
      "train: 100%|██████████| 17/17 [00:11<00:00,  1.44it/s]\n",
      "val: 100%|██████████| 8/8 [00:04<00:00,  1.83it/s]\n"
     ]
    },
    {
     "name": "stdout",
     "output_type": "stream",
     "text": [
      "epoch[0] 0.019174624511173792 0.04474079052607218\n",
      "batch 458\n"
     ]
    },
    {
     "name": "stderr",
     "output_type": "stream",
     "text": [
      "train: 100%|██████████| 17/17 [00:12<00:00,  1.41it/s]\n",
      "val: 100%|██████████| 8/8 [00:04<00:00,  1.84it/s]\n"
     ]
    },
    {
     "name": "stdout",
     "output_type": "stream",
     "text": [
      "epoch[0] 0.018854516801379975 0.04399387253655328\n",
      "batch 459\n"
     ]
    },
    {
     "name": "stderr",
     "output_type": "stream",
     "text": [
      "train: 100%|██████████| 17/17 [00:11<00:00,  1.50it/s]\n",
      "val: 100%|██████████| 8/8 [00:04<00:00,  1.72it/s]\n"
     ]
    },
    {
     "name": "stdout",
     "output_type": "stream",
     "text": [
      "epoch[0] 0.018774883747100832 0.0438080620765686\n",
      "batch 460\n"
     ]
    },
    {
     "name": "stderr",
     "output_type": "stream",
     "text": [
      "train: 100%|██████████| 17/17 [00:11<00:00,  1.46it/s]\n",
      "val: 100%|██████████| 8/8 [00:04<00:00,  1.82it/s]\n"
     ]
    },
    {
     "name": "stdout",
     "output_type": "stream",
     "text": [
      "epoch[0] 0.018664010706402008 0.043549358314938016\n",
      "batch 461\n"
     ]
    },
    {
     "name": "stderr",
     "output_type": "stream",
     "text": [
      "train: 100%|██████████| 17/17 [00:12<00:00,  1.41it/s]\n",
      "val: 100%|██████████| 8/8 [00:04<00:00,  1.76it/s]\n"
     ]
    },
    {
     "name": "stdout",
     "output_type": "stream",
     "text": [
      "epoch[0] 0.0186828122820173 0.04359322865804036\n",
      "batch 462\n"
     ]
    },
    {
     "name": "stderr",
     "output_type": "stream",
     "text": [
      "train: 100%|██████████| 17/17 [00:11<00:00,  1.45it/s]\n",
      "val: 100%|██████████| 8/8 [00:04<00:00,  1.81it/s]\n"
     ]
    },
    {
     "name": "stdout",
     "output_type": "stream",
     "text": [
      "epoch[0] 0.019071240425109864 0.044499560991923016\n",
      "batch 463\n"
     ]
    },
    {
     "name": "stderr",
     "output_type": "stream",
     "text": [
      "train: 100%|██████████| 17/17 [00:11<00:00,  1.46it/s]\n",
      "val: 100%|██████████| 8/8 [00:04<00:00,  1.81it/s]\n"
     ]
    },
    {
     "name": "stdout",
     "output_type": "stream",
     "text": [
      "epoch[0] 0.018956695057096934 0.044232288466559515\n",
      "batch 464\n"
     ]
    },
    {
     "name": "stderr",
     "output_type": "stream",
     "text": [
      "train: 100%|██████████| 17/17 [00:11<00:00,  1.45it/s]\n",
      "val: 100%|██████████| 8/8 [00:04<00:00,  1.83it/s]\n"
     ]
    },
    {
     "name": "stdout",
     "output_type": "stream",
     "text": [
      "epoch[0] 0.01894249779837472 0.044199161529541016\n",
      "batch 465\n"
     ]
    },
    {
     "name": "stderr",
     "output_type": "stream",
     "text": [
      "train: 100%|██████████| 17/17 [00:11<00:00,  1.47it/s]\n",
      "val: 100%|██████████| 8/8 [00:04<00:00,  1.84it/s]\n"
     ]
    },
    {
     "name": "stdout",
     "output_type": "stream",
     "text": [
      "epoch[0] 0.019066485904511953 0.04448846711052789\n",
      "batch 466\n"
     ]
    },
    {
     "name": "stderr",
     "output_type": "stream",
     "text": [
      "train: 100%|██████████| 17/17 [00:11<00:00,  1.46it/s]\n",
      "val: 100%|██████████| 8/8 [00:04<00:00,  1.78it/s]\n"
     ]
    },
    {
     "name": "stdout",
     "output_type": "stream",
     "text": [
      "epoch[0] 0.018802316302344912 0.04387207137213813\n",
      "batch 467\n"
     ]
    },
    {
     "name": "stderr",
     "output_type": "stream",
     "text": [
      "train: 100%|██████████| 17/17 [00:11<00:00,  1.46it/s]\n",
      "val: 100%|██████████| 8/8 [00:04<00:00,  1.81it/s]\n"
     ]
    },
    {
     "name": "stdout",
     "output_type": "stream",
     "text": [
      "epoch[0] 0.018966202508835565 0.04425447252061632\n",
      "batch 468\n"
     ]
    },
    {
     "name": "stderr",
     "output_type": "stream",
     "text": [
      "train: 100%|██████████| 17/17 [00:11<00:00,  1.47it/s]\n",
      "val: 100%|██████████| 8/8 [00:04<00:00,  1.76it/s]\n"
     ]
    },
    {
     "name": "stdout",
     "output_type": "stream",
     "text": [
      "epoch[0] 0.018826474235171364 0.04392843988206652\n",
      "batch 469\n"
     ]
    },
    {
     "name": "stderr",
     "output_type": "stream",
     "text": [
      "train: 100%|██████████| 17/17 [00:11<00:00,  1.45it/s]\n",
      "val: 100%|██████████| 8/8 [00:04<00:00,  1.74it/s]\n"
     ]
    },
    {
     "name": "stdout",
     "output_type": "stream",
     "text": [
      "epoch[0] 0.018834296975817 0.043946692943573\n",
      "batch 470\n"
     ]
    },
    {
     "name": "stderr",
     "output_type": "stream",
     "text": [
      "train: 100%|██████████| 17/17 [00:11<00:00,  1.42it/s]\n",
      "val: 100%|██████████| 8/8 [00:04<00:00,  1.82it/s]\n"
     ]
    },
    {
     "name": "stdout",
     "output_type": "stream",
     "text": [
      "epoch[0] 0.019194943110148112 0.04478820059034559\n",
      "batch 471\n"
     ]
    },
    {
     "name": "stderr",
     "output_type": "stream",
     "text": [
      "train: 100%|██████████| 17/17 [00:11<00:00,  1.44it/s]\n",
      "val: 100%|██████████| 8/8 [00:04<00:00,  1.85it/s]\n"
     ]
    },
    {
     "name": "stdout",
     "output_type": "stream",
     "text": [
      "epoch[0] 0.01863798936208089 0.043488641844855416\n",
      "batch 472\n"
     ]
    },
    {
     "name": "stderr",
     "output_type": "stream",
     "text": [
      "train: 100%|██████████| 17/17 [00:11<00:00,  1.47it/s]\n",
      "val: 100%|██████████| 8/8 [00:04<00:00,  1.72it/s]\n"
     ]
    },
    {
     "name": "stdout",
     "output_type": "stream",
     "text": [
      "epoch[0] 0.018611044316064744 0.043425770070817736\n",
      "batch 473\n"
     ]
    },
    {
     "name": "stderr",
     "output_type": "stream",
     "text": [
      "train: 100%|██████████| 17/17 [00:11<00:00,  1.46it/s]\n",
      "val: 100%|██████████| 8/8 [00:04<00:00,  1.83it/s]\n"
     ]
    },
    {
     "name": "stdout",
     "output_type": "stream",
     "text": [
      "epoch[0] 0.018828359899066744 0.04393283976448907\n",
      "batch 474\n"
     ]
    },
    {
     "name": "stderr",
     "output_type": "stream",
     "text": [
      "train: 100%|██████████| 17/17 [00:11<00:00,  1.42it/s]\n",
      "val: 100%|██████████| 8/8 [00:04<00:00,  1.86it/s]\n"
     ]
    },
    {
     "name": "stdout",
     "output_type": "stream",
     "text": [
      "epoch[0] 0.019002889678591775 0.04434007591671414\n",
      "batch 475\n"
     ]
    },
    {
     "name": "stderr",
     "output_type": "stream",
     "text": [
      "train: 100%|██████████| 17/17 [00:11<00:00,  1.42it/s]\n",
      "val: 100%|██████████| 8/8 [00:04<00:00,  1.79it/s]\n"
     ]
    },
    {
     "name": "stdout",
     "output_type": "stream",
     "text": [
      "epoch[0] 0.019227164018721807 0.04486338271035088\n",
      "batch 476\n"
     ]
    },
    {
     "name": "stderr",
     "output_type": "stream",
     "text": [
      "train: 100%|██████████| 17/17 [00:11<00:00,  1.48it/s]\n",
      "val: 100%|██████████| 8/8 [00:04<00:00,  1.84it/s]\n"
     ]
    },
    {
     "name": "stdout",
     "output_type": "stream",
     "text": [
      "epoch[0] 0.018755934692564466 0.04376384761598375\n",
      "batch 477\n"
     ]
    },
    {
     "name": "stderr",
     "output_type": "stream",
     "text": [
      "train: 100%|██████████| 17/17 [00:11<00:00,  1.50it/s]\n",
      "val: 100%|██████████| 8/8 [00:04<00:00,  1.84it/s]\n"
     ]
    },
    {
     "name": "stdout",
     "output_type": "stream",
     "text": [
      "epoch[0] 0.01891542627697899 0.044135994646284316\n",
      "batch 478\n"
     ]
    },
    {
     "name": "stderr",
     "output_type": "stream",
     "text": [
      "train: 100%|██████████| 17/17 [00:12<00:00,  1.40it/s]\n",
      "val: 100%|██████████| 8/8 [00:04<00:00,  1.84it/s]\n"
     ]
    },
    {
     "name": "stdout",
     "output_type": "stream",
     "text": [
      "epoch[0] 0.01917716491790045 0.04474671814176771\n",
      "batch 479\n"
     ]
    },
    {
     "name": "stderr",
     "output_type": "stream",
     "text": [
      "train: 100%|██████████| 17/17 [00:11<00:00,  1.47it/s]\n",
      "val: 100%|██████████| 8/8 [00:04<00:00,  1.89it/s]\n"
     ]
    },
    {
     "name": "stdout",
     "output_type": "stream",
     "text": [
      "epoch[0] 0.01903180235908145 0.04440753883785672\n",
      "batch 480\n"
     ]
    },
    {
     "name": "stderr",
     "output_type": "stream",
     "text": [
      "train: 100%|██████████| 17/17 [00:11<00:00,  1.51it/s]\n",
      "val: 100%|██████████| 8/8 [00:04<00:00,  1.85it/s]\n"
     ]
    },
    {
     "name": "stdout",
     "output_type": "stream",
     "text": [
      "epoch[0] 0.018742635817754837 0.04373281690809462\n",
      "batch 481\n"
     ]
    },
    {
     "name": "stderr",
     "output_type": "stream",
     "text": [
      "train: 100%|██████████| 17/17 [00:12<00:00,  1.38it/s]\n",
      "val: 100%|██████████| 8/8 [00:04<00:00,  1.83it/s]\n"
     ]
    },
    {
     "name": "stdout",
     "output_type": "stream",
     "text": [
      "epoch[0] 0.01882274968283517 0.04391974925994873\n",
      "batch 482\n"
     ]
    },
    {
     "name": "stderr",
     "output_type": "stream",
     "text": [
      "train: 100%|██████████| 17/17 [00:11<00:00,  1.45it/s]\n",
      "val: 100%|██████████| 8/8 [00:04<00:00,  1.70it/s]\n"
     ]
    },
    {
     "name": "stdout",
     "output_type": "stream",
     "text": [
      "epoch[0] 0.018938246000380743 0.044189240667555064\n",
      "batch 483\n"
     ]
    },
    {
     "name": "stderr",
     "output_type": "stream",
     "text": [
      "train: 100%|██████████| 17/17 [00:11<00:00,  1.49it/s]\n",
      "val: 100%|██████████| 8/8 [00:04<00:00,  1.84it/s]\n"
     ]
    },
    {
     "name": "stdout",
     "output_type": "stream",
     "text": [
      "epoch[0] 0.018792709850129628 0.04384965631696913\n",
      "batch 484\n"
     ]
    },
    {
     "name": "stderr",
     "output_type": "stream",
     "text": [
      "train: 100%|██████████| 17/17 [00:11<00:00,  1.44it/s]\n",
      "val: 100%|██████████| 8/8 [00:04<00:00,  1.85it/s]\n"
     ]
    },
    {
     "name": "stdout",
     "output_type": "stream",
     "text": [
      "epoch[0] 0.01883517935162499 0.04394875182045831\n",
      "batch 485\n"
     ]
    },
    {
     "name": "stderr",
     "output_type": "stream",
     "text": [
      "train: 100%|██████████| 17/17 [00:11<00:00,  1.46it/s]\n",
      "val: 100%|██████████| 8/8 [00:04<00:00,  1.74it/s]\n"
     ]
    },
    {
     "name": "stdout",
     "output_type": "stream",
     "text": [
      "epoch[0] 0.019047631195613316 0.044444472789764405\n",
      "batch 486\n"
     ]
    },
    {
     "name": "stderr",
     "output_type": "stream",
     "text": [
      "train: 100%|██████████| 17/17 [00:11<00:00,  1.48it/s]\n",
      "val: 100%|██████████| 8/8 [00:04<00:00,  1.83it/s]\n"
     ]
    },
    {
     "name": "stdout",
     "output_type": "stream",
     "text": [
      "epoch[0] 0.01889660051890782 0.044092067877451575\n",
      "batch 487\n"
     ]
    },
    {
     "name": "stderr",
     "output_type": "stream",
     "text": [
      "train: 100%|██████████| 17/17 [00:11<00:00,  1.46it/s]\n",
      "val: 100%|██████████| 8/8 [00:04<00:00,  1.84it/s]\n"
     ]
    },
    {
     "name": "stdout",
     "output_type": "stream",
     "text": [
      "epoch[0] 0.019213254792349678 0.04483092784881592\n",
      "batch 488\n"
     ]
    },
    {
     "name": "stderr",
     "output_type": "stream",
     "text": [
      "train: 100%|██████████| 17/17 [00:12<00:00,  1.37it/s]\n",
      "val: 100%|██████████| 8/8 [00:04<00:00,  1.83it/s]\n"
     ]
    },
    {
     "name": "stdout",
     "output_type": "stream",
     "text": [
      "epoch[0] 0.019017724763779414 0.044374691115485296\n",
      "batch 489\n"
     ]
    },
    {
     "name": "stderr",
     "output_type": "stream",
     "text": [
      "train: 100%|██████████| 17/17 [00:11<00:00,  1.51it/s]\n",
      "val: 100%|██████████| 8/8 [00:04<00:00,  1.84it/s]\n"
     ]
    },
    {
     "name": "stdout",
     "output_type": "stream",
     "text": [
      "epoch[0] 0.018921496527535574 0.04415015856424968\n",
      "batch 490\n"
     ]
    },
    {
     "name": "stderr",
     "output_type": "stream",
     "text": [
      "train: 100%|██████████| 17/17 [00:11<00:00,  1.44it/s]\n",
      "val: 100%|██████████| 8/8 [00:04<00:00,  1.88it/s]\n"
     ]
    },
    {
     "name": "stdout",
     "output_type": "stream",
     "text": [
      "epoch[0] 0.018967531749180384 0.0442575740814209\n",
      "batch 491\n"
     ]
    },
    {
     "name": "stderr",
     "output_type": "stream",
     "text": [
      "train: 100%|██████████| 17/17 [00:11<00:00,  1.44it/s]\n",
      "val: 100%|██████████| 8/8 [00:04<00:00,  1.82it/s]\n"
     ]
    },
    {
     "name": "stdout",
     "output_type": "stream",
     "text": [
      "epoch[0] 0.0191991468838283 0.044798009395599366\n",
      "batch 492\n"
     ]
    },
    {
     "name": "stderr",
     "output_type": "stream",
     "text": [
      "train: 100%|██████████| 17/17 [00:11<00:00,  1.47it/s]\n",
      "val: 100%|██████████| 8/8 [00:04<00:00,  1.76it/s]\n"
     ]
    },
    {
     "name": "stdout",
     "output_type": "stream",
     "text": [
      "epoch[0] 0.01878393354870024 0.043829178280300564\n",
      "batch 493\n"
     ]
    },
    {
     "name": "stderr",
     "output_type": "stream",
     "text": [
      "train: 100%|██████████| 17/17 [00:11<00:00,  1.46it/s]\n",
      "val: 100%|██████████| 8/8 [00:04<00:00,  1.87it/s]\n"
     ]
    },
    {
     "name": "stdout",
     "output_type": "stream",
     "text": [
      "epoch[0] 0.019119083540780204 0.04461119492848714\n",
      "batch 494\n"
     ]
    },
    {
     "name": "stderr",
     "output_type": "stream",
     "text": [
      "train: 100%|██████████| 17/17 [00:12<00:00,  1.39it/s]\n",
      "val: 100%|██████████| 8/8 [00:04<00:00,  1.85it/s]\n"
     ]
    },
    {
     "name": "stdout",
     "output_type": "stream",
     "text": [
      "epoch[0] 0.018860754058474587 0.0440084261364407\n",
      "batch 495\n"
     ]
    },
    {
     "name": "stderr",
     "output_type": "stream",
     "text": [
      "train: 100%|██████████| 17/17 [00:11<00:00,  1.47it/s]\n",
      "val: 100%|██████████| 8/8 [00:04<00:00,  1.71it/s]\n"
     ]
    },
    {
     "name": "stdout",
     "output_type": "stream",
     "text": [
      "epoch[0] 0.018906949701763334 0.044116215970781116\n",
      "batch 496\n"
     ]
    },
    {
     "name": "stderr",
     "output_type": "stream",
     "text": [
      "train: 100%|██████████| 17/17 [00:11<00:00,  1.44it/s]\n",
      "val: 100%|██████████| 8/8 [00:04<00:00,  1.86it/s]\n"
     ]
    },
    {
     "name": "stdout",
     "output_type": "stream",
     "text": [
      "epoch[0] 0.01888960565839495 0.04407574653625488\n",
      "batch 497\n"
     ]
    },
    {
     "name": "stderr",
     "output_type": "stream",
     "text": [
      "train: 100%|██████████| 17/17 [00:11<00:00,  1.44it/s]\n",
      "val: 100%|██████████| 8/8 [00:04<00:00,  1.84it/s]\n"
     ]
    },
    {
     "name": "stdout",
     "output_type": "stream",
     "text": [
      "epoch[0] 0.019158760820116316 0.04470377524693807\n",
      "batch 498\n"
     ]
    },
    {
     "name": "stderr",
     "output_type": "stream",
     "text": [
      "train: 100%|██████████| 17/17 [00:11<00:00,  1.47it/s]\n",
      "val: 100%|██████████| 8/8 [00:04<00:00,  1.83it/s]\n"
     ]
    },
    {
     "name": "stdout",
     "output_type": "stream",
     "text": [
      "epoch[0] 0.018514266581762404 0.04319995535744561\n",
      "batch 499\n"
     ]
    },
    {
     "name": "stderr",
     "output_type": "stream",
     "text": [
      "train: 100%|██████████| 17/17 [00:11<00:00,  1.44it/s]\n",
      "val: 100%|██████████| 8/8 [00:04<00:00,  1.81it/s]\n"
     ]
    },
    {
     "name": "stdout",
     "output_type": "stream",
     "text": [
      "epoch[0] 0.01903086298987979 0.04440534697638618\n",
      "batch 500\n"
     ]
    },
    {
     "name": "stderr",
     "output_type": "stream",
     "text": [
      "train: 100%|██████████| 17/17 [00:11<00:00,  1.46it/s]\n",
      "val: 100%|██████████| 8/8 [00:04<00:00,  1.79it/s]\n"
     ]
    },
    {
     "name": "stdout",
     "output_type": "stream",
     "text": [
      "epoch[0] 0.01906146276564825 0.044476746453179256\n",
      "batch 501\n"
     ]
    },
    {
     "name": "stderr",
     "output_type": "stream",
     "text": [
      "train: 100%|██████████| 17/17 [00:11<00:00,  1.46it/s]\n",
      "val: 100%|██████████| 8/8 [00:04<00:00,  1.89it/s]\n"
     ]
    },
    {
     "name": "stdout",
     "output_type": "stream",
     "text": [
      "epoch[0] 0.019139153503236316 0.04465802484088474\n",
      "batch 502\n"
     ]
    },
    {
     "name": "stderr",
     "output_type": "stream",
     "text": [
      "train: 100%|██████████| 17/17 [00:11<00:00,  1.42it/s]\n",
      "val: 100%|██████████| 8/8 [00:04<00:00,  1.70it/s]\n"
     ]
    },
    {
     "name": "stdout",
     "output_type": "stream",
     "text": [
      "epoch[0] 0.01871300742739723 0.0436636839972602\n",
      "batch 503\n"
     ]
    },
    {
     "name": "stderr",
     "output_type": "stream",
     "text": [
      "train: 100%|██████████| 17/17 [00:11<00:00,  1.44it/s]\n",
      "val: 100%|██████████| 8/8 [00:04<00:00,  1.87it/s]\n"
     ]
    },
    {
     "name": "stdout",
     "output_type": "stream",
     "text": [
      "epoch[0] 0.018788523787543886 0.043839888837602405\n",
      "batch 504\n"
     ]
    },
    {
     "name": "stderr",
     "output_type": "stream",
     "text": [
      "train: 100%|██████████| 17/17 [00:11<00:00,  1.46it/s]\n",
      "val: 100%|██████████| 8/8 [00:04<00:00,  1.87it/s]\n"
     ]
    },
    {
     "name": "stdout",
     "output_type": "stream",
     "text": [
      "epoch[0] 0.0187559107371739 0.04376379172007243\n",
      "batch 505\n"
     ]
    },
    {
     "name": "stderr",
     "output_type": "stream",
     "text": [
      "train: 100%|██████████| 17/17 [00:11<00:00,  1.46it/s]\n",
      "val: 100%|██████████| 8/8 [00:04<00:00,  1.73it/s]\n"
     ]
    },
    {
     "name": "stdout",
     "output_type": "stream",
     "text": [
      "epoch[0] 0.01937206892740159 0.04520149416393704\n",
      "batch 506\n"
     ]
    },
    {
     "name": "stderr",
     "output_type": "stream",
     "text": [
      "train: 100%|██████████| 17/17 [00:11<00:00,  1.44it/s]\n",
      "val: 100%|██████████| 8/8 [00:04<00:00,  1.88it/s]\n"
     ]
    },
    {
     "name": "stdout",
     "output_type": "stream",
     "text": [
      "epoch[0] 0.0189776839528765 0.04428126255671183\n",
      "batch 507\n"
     ]
    },
    {
     "name": "stderr",
     "output_type": "stream",
     "text": [
      "train: 100%|██████████| 17/17 [00:11<00:00,  1.46it/s]\n",
      "val: 100%|██████████| 8/8 [00:04<00:00,  1.78it/s]\n"
     ]
    },
    {
     "name": "stdout",
     "output_type": "stream",
     "text": [
      "epoch[0] 0.01884962274914696 0.04398245308134291\n",
      "batch 508\n"
     ]
    },
    {
     "name": "stderr",
     "output_type": "stream",
     "text": [
      "train: 100%|██████████| 17/17 [00:11<00:00,  1.43it/s]\n",
      "val: 100%|██████████| 8/8 [00:04<00:00,  1.82it/s]\n"
     ]
    },
    {
     "name": "stdout",
     "output_type": "stream",
     "text": [
      "epoch[0] 0.01868034113021124 0.04358746263715956\n",
      "batch 509\n"
     ]
    },
    {
     "name": "stderr",
     "output_type": "stream",
     "text": [
      "train: 100%|██████████| 17/17 [00:11<00:00,  1.46it/s]\n",
      "val: 100%|██████████| 8/8 [00:04<00:00,  1.83it/s]\n"
     ]
    },
    {
     "name": "stdout",
     "output_type": "stream",
     "text": [
      "epoch[0] 0.018544528030213857 0.04327056540383233\n",
      "batch 510\n"
     ]
    },
    {
     "name": "stderr",
     "output_type": "stream",
     "text": [
      "train: 100%|██████████| 17/17 [00:11<00:00,  1.50it/s]\n",
      "val: 100%|██████████| 8/8 [00:04<00:00,  1.85it/s]\n"
     ]
    },
    {
     "name": "stdout",
     "output_type": "stream",
     "text": [
      "epoch[0] 0.019248926639556886 0.04491416215896606\n",
      "batch 511\n"
     ]
    },
    {
     "name": "stderr",
     "output_type": "stream",
     "text": [
      "train: 100%|██████████| 17/17 [00:12<00:00,  1.38it/s]\n",
      "val: 100%|██████████| 8/8 [00:04<00:00,  1.80it/s]\n"
     ]
    },
    {
     "name": "stdout",
     "output_type": "stream",
     "text": [
      "epoch[0] 0.018841003009251185 0.04396234035491944\n",
      "batch 512\n"
     ]
    },
    {
     "name": "stderr",
     "output_type": "stream",
     "text": [
      "train: 100%|██████████| 17/17 [00:11<00:00,  1.47it/s]\n",
      "val: 100%|██████████| 8/8 [00:04<00:00,  1.84it/s]\n"
     ]
    },
    {
     "name": "stdout",
     "output_type": "stream",
     "text": [
      "epoch[0] 0.018768538179851715 0.04379325575298733\n",
      "batch 513\n"
     ]
    },
    {
     "name": "stderr",
     "output_type": "stream",
     "text": [
      "train: 100%|██████████| 17/17 [00:11<00:00,  1.52it/s]\n",
      "val: 100%|██████████| 8/8 [00:04<00:00,  1.82it/s]\n"
     ]
    },
    {
     "name": "stdout",
     "output_type": "stream",
     "text": [
      "epoch[0] 0.018972593943277993 0.044269385867648656\n",
      "batch 514\n"
     ]
    },
    {
     "name": "stderr",
     "output_type": "stream",
     "text": [
      "train: 100%|██████████| 17/17 [00:11<00:00,  1.43it/s]\n",
      "val: 100%|██████████| 8/8 [00:04<00:00,  1.86it/s]\n"
     ]
    },
    {
     "name": "stdout",
     "output_type": "stream",
     "text": [
      "epoch[0] 0.01878223010471889 0.043825203577677406\n",
      "batch 515\n"
     ]
    },
    {
     "name": "stderr",
     "output_type": "stream",
     "text": [
      "train: 100%|██████████| 17/17 [00:11<00:00,  1.45it/s]\n",
      "val: 100%|██████████| 8/8 [00:04<00:00,  1.77it/s]\n"
     ]
    },
    {
     "name": "stdout",
     "output_type": "stream",
     "text": [
      "epoch[0] 0.01874970697221302 0.04374931626849704\n",
      "batch 516\n"
     ]
    },
    {
     "name": "stderr",
     "output_type": "stream",
     "text": [
      "train: 100%|██████████| 17/17 [00:11<00:00,  1.49it/s]\n",
      "val: 100%|██████████| 8/8 [00:04<00:00,  1.84it/s]\n"
     ]
    },
    {
     "name": "stdout",
     "output_type": "stream",
     "text": [
      "epoch[0] 0.018785857927231562 0.043833668496873646\n",
      "batch 517\n"
     ]
    },
    {
     "name": "stderr",
     "output_type": "stream",
     "text": [
      "train: 100%|██████████| 17/17 [00:12<00:00,  1.35it/s]\n",
      "val: 100%|██████████| 8/8 [00:04<00:00,  1.87it/s]\n"
     ]
    },
    {
     "name": "stdout",
     "output_type": "stream",
     "text": [
      "epoch[0] 0.018915177299862817 0.0441354136996799\n",
      "batch 518\n"
     ]
    },
    {
     "name": "stderr",
     "output_type": "stream",
     "text": [
      "train: 100%|██████████| 17/17 [00:11<00:00,  1.43it/s]\n",
      "val: 100%|██████████| 8/8 [00:04<00:00,  1.69it/s]\n"
     ]
    },
    {
     "name": "stdout",
     "output_type": "stream",
     "text": [
      "epoch[0] 0.01923025165285383 0.04487058718999227\n",
      "batch 519\n"
     ]
    },
    {
     "name": "stderr",
     "output_type": "stream",
     "text": [
      "train: 100%|██████████| 17/17 [00:11<00:00,  1.50it/s]\n",
      "val: 100%|██████████| 8/8 [00:04<00:00,  1.83it/s]\n"
     ]
    },
    {
     "name": "stdout",
     "output_type": "stream",
     "text": [
      "epoch[0] 0.018589762506030855 0.043376112514071995\n",
      "batch 520\n"
     ]
    },
    {
     "name": "stderr",
     "output_type": "stream",
     "text": [
      "train: 100%|██████████| 17/17 [00:12<00:00,  1.37it/s]\n",
      "val: 100%|██████████| 8/8 [00:04<00:00,  1.86it/s]\n"
     ]
    },
    {
     "name": "stdout",
     "output_type": "stream",
     "text": [
      "epoch[0] 0.019001830645969935 0.04433760484059652\n",
      "batch 521\n"
     ]
    },
    {
     "name": "stderr",
     "output_type": "stream",
     "text": [
      "train: 100%|██████████| 17/17 [00:11<00:00,  1.48it/s]\n",
      "val: 100%|██████████| 8/8 [00:05<00:00,  1.37it/s]\n"
     ]
    },
    {
     "name": "stdout",
     "output_type": "stream",
     "text": [
      "epoch[0] 0.018806562310173396 0.043881978723737926\n",
      "batch 522\n"
     ]
    },
    {
     "name": "stderr",
     "output_type": "stream",
     "text": [
      "train: 100%|██████████| 17/17 [00:11<00:00,  1.52it/s]\n",
      "val: 100%|██████████| 8/8 [00:04<00:00,  1.85it/s]\n"
     ]
    },
    {
     "name": "stdout",
     "output_type": "stream",
     "text": [
      "epoch[0] 0.01894273871467227 0.04419972366756863\n",
      "batch 523\n"
     ]
    },
    {
     "name": "stderr",
     "output_type": "stream",
     "text": [
      "train: 100%|██████████| 17/17 [00:12<00:00,  1.40it/s]\n",
      "val: 100%|██████████| 8/8 [00:04<00:00,  1.86it/s]\n"
     ]
    },
    {
     "name": "stdout",
     "output_type": "stream",
     "text": [
      "epoch[0] 0.01900439807346889 0.04434359550476074\n",
      "batch 524\n"
     ]
    },
    {
     "name": "stderr",
     "output_type": "stream",
     "text": [
      "train: 100%|██████████| 17/17 [00:12<00:00,  1.36it/s]\n",
      "val: 100%|██████████| 8/8 [00:04<00:00,  1.82it/s]\n"
     ]
    },
    {
     "name": "stdout",
     "output_type": "stream",
     "text": [
      "epoch[0] 0.0189545320329212 0.04422724141014947\n",
      "batch 525\n"
     ]
    },
    {
     "name": "stderr",
     "output_type": "stream",
     "text": [
      "train: 100%|██████████| 17/17 [00:11<00:00,  1.52it/s]\n",
      "val: 100%|██████████| 8/8 [00:04<00:00,  1.84it/s]\n"
     ]
    },
    {
     "name": "stdout",
     "output_type": "stream",
     "text": [
      "epoch[0] 0.019009285881405786 0.04435500038994683\n",
      "batch 526\n"
     ]
    },
    {
     "name": "stderr",
     "output_type": "stream",
     "text": [
      "train: 100%|██████████| 17/17 [00:11<00:00,  1.43it/s]\n",
      "val: 100%|██████████| 8/8 [00:04<00:00,  1.84it/s]\n"
     ]
    },
    {
     "name": "stdout",
     "output_type": "stream",
     "text": [
      "epoch[0] 0.01888267573856172 0.044059576723310685\n",
      "batch 527\n"
     ]
    },
    {
     "name": "stderr",
     "output_type": "stream",
     "text": [
      "train: 100%|██████████| 17/17 [00:12<00:00,  1.37it/s]\n",
      "val: 100%|██████████| 8/8 [00:04<00:00,  1.86it/s]\n"
     ]
    },
    {
     "name": "stdout",
     "output_type": "stream",
     "text": [
      "epoch[0] 0.019137814612615676 0.044654900762769914\n",
      "batch 528\n"
     ]
    },
    {
     "name": "stderr",
     "output_type": "stream",
     "text": [
      "train: 100%|██████████| 17/17 [00:11<00:00,  1.53it/s]\n",
      "val: 100%|██████████| 8/8 [00:04<00:00,  1.77it/s]\n"
     ]
    },
    {
     "name": "stdout",
     "output_type": "stream",
     "text": [
      "epoch[0] 0.018731960569109234 0.043707907994588215\n",
      "batch 529\n"
     ]
    },
    {
     "name": "stderr",
     "output_type": "stream",
     "text": [
      "train: 100%|██████████| 17/17 [00:11<00:00,  1.42it/s]\n",
      "val: 100%|██████████| 8/8 [00:04<00:00,  1.79it/s]\n"
     ]
    },
    {
     "name": "stdout",
     "output_type": "stream",
     "text": [
      "epoch[0] 0.01882359164101737 0.043921713829040525\n",
      "batch 530\n"
     ]
    },
    {
     "name": "stderr",
     "output_type": "stream",
     "text": [
      "train: 100%|██████████| 17/17 [00:11<00:00,  1.43it/s]\n",
      "val: 100%|██████████| 8/8 [00:04<00:00,  1.77it/s]\n"
     ]
    },
    {
     "name": "stdout",
     "output_type": "stream",
     "text": [
      "epoch[0] 0.018830232393173944 0.04393720891740587\n",
      "batch 531\n"
     ]
    },
    {
     "name": "stderr",
     "output_type": "stream",
     "text": [
      "train: 100%|██████████| 17/17 [00:11<00:00,  1.50it/s]\n",
      "val: 100%|██████████| 8/8 [00:05<00:00,  1.59it/s]\n"
     ]
    },
    {
     "name": "stdout",
     "output_type": "stream",
     "text": [
      "epoch[0] 0.01894379945028396 0.044202198717329236\n",
      "batch 532\n"
     ]
    },
    {
     "name": "stderr",
     "output_type": "stream",
     "text": [
      "train: 100%|██████████| 17/17 [00:11<00:00,  1.47it/s]\n",
      "val: 100%|██████████| 8/8 [00:04<00:00,  1.76it/s]\n"
     ]
    },
    {
     "name": "stdout",
     "output_type": "stream",
     "text": [
      "epoch[0] 0.01896348306110927 0.0442481271425883\n",
      "batch 533\n"
     ]
    },
    {
     "name": "stderr",
     "output_type": "stream",
     "text": [
      "train: 100%|██████████| 17/17 [00:12<00:00,  1.37it/s]\n",
      "val: 100%|██████████| 8/8 [00:04<00:00,  1.77it/s]\n"
     ]
    },
    {
     "name": "stdout",
     "output_type": "stream",
     "text": [
      "epoch[0] 0.018764761970156717 0.04378444459703233\n",
      "batch 534\n"
     ]
    },
    {
     "name": "stderr",
     "output_type": "stream",
     "text": [
      "train: 100%|██████████| 17/17 [00:11<00:00,  1.47it/s]\n",
      "val: 100%|██████████| 8/8 [00:04<00:00,  1.65it/s]\n"
     ]
    },
    {
     "name": "stdout",
     "output_type": "stream",
     "text": [
      "epoch[0] 0.01914590915044149 0.0446737880176968\n",
      "batch 535\n"
     ]
    },
    {
     "name": "stderr",
     "output_type": "stream",
     "text": [
      "train: 100%|██████████| 17/17 [00:11<00:00,  1.47it/s]\n",
      "val: 100%|██████████| 8/8 [00:04<00:00,  1.71it/s]\n"
     ]
    },
    {
     "name": "stdout",
     "output_type": "stream",
     "text": [
      "epoch[0] 0.01885124967211769 0.04398624923494127\n",
      "batch 536\n"
     ]
    },
    {
     "name": "stderr",
     "output_type": "stream",
     "text": [
      "train: 100%|██████████| 17/17 [00:11<00:00,  1.44it/s]\n",
      "val: 100%|██████████| 8/8 [00:04<00:00,  1.71it/s]\n"
     ]
    },
    {
     "name": "stdout",
     "output_type": "stream",
     "text": [
      "epoch[0] 0.01908056679226103 0.04452132251527574\n",
      "batch 537\n"
     ]
    },
    {
     "name": "stderr",
     "output_type": "stream",
     "text": [
      "train: 100%|██████████| 17/17 [00:11<00:00,  1.47it/s]\n",
      "val: 100%|██████████| 8/8 [00:04<00:00,  1.74it/s]\n"
     ]
    },
    {
     "name": "stdout",
     "output_type": "stream",
     "text": [
      "epoch[0] 0.018797394094013032 0.04386058621936374\n",
      "batch 538\n"
     ]
    },
    {
     "name": "stderr",
     "output_type": "stream",
     "text": [
      "train: 100%|██████████| 17/17 [00:11<00:00,  1.45it/s]\n",
      "val: 100%|██████████| 8/8 [00:04<00:00,  1.77it/s]\n"
     ]
    },
    {
     "name": "stdout",
     "output_type": "stream",
     "text": [
      "epoch[0] 0.018815997555142357 0.04390399429533217\n",
      "batch 539\n"
     ]
    },
    {
     "name": "stderr",
     "output_type": "stream",
     "text": [
      "train: 100%|██████████| 17/17 [00:11<00:00,  1.44it/s]\n",
      "val: 100%|██████████| 8/8 [00:04<00:00,  1.80it/s]\n"
     ]
    },
    {
     "name": "stdout",
     "output_type": "stream",
     "text": [
      "epoch[0] 0.018894647303081696 0.04408751037385729\n",
      "batch 540\n"
     ]
    },
    {
     "name": "stderr",
     "output_type": "stream",
     "text": [
      "train: 100%|██████████| 17/17 [00:11<00:00,  1.48it/s]\n",
      "val: 100%|██████████| 8/8 [00:04<00:00,  1.70it/s]\n"
     ]
    },
    {
     "name": "stdout",
     "output_type": "stream",
     "text": [
      "epoch[0] 0.018991194679623558 0.044312787585788306\n",
      "batch 541\n"
     ]
    },
    {
     "name": "stderr",
     "output_type": "stream",
     "text": [
      "train: 100%|██████████| 17/17 [00:11<00:00,  1.44it/s]\n",
      "val: 100%|██████████| 8/8 [00:04<00:00,  1.81it/s]\n"
     ]
    },
    {
     "name": "stdout",
     "output_type": "stream",
     "text": [
      "epoch[0] 0.019100052061535065 0.044566788143581816\n",
      "batch 542\n"
     ]
    },
    {
     "name": "stderr",
     "output_type": "stream",
     "text": [
      "train: 100%|██████████| 17/17 [00:11<00:00,  1.45it/s]\n",
      "val: 100%|██████████| 8/8 [00:04<00:00,  1.79it/s]\n"
     ]
    },
    {
     "name": "stdout",
     "output_type": "stream",
     "text": [
      "epoch[0] 0.019086867173512777 0.044536023404863144\n",
      "batch 543\n"
     ]
    },
    {
     "name": "stderr",
     "output_type": "stream",
     "text": [
      "train: 100%|██████████| 17/17 [00:11<00:00,  1.46it/s]\n",
      "val: 100%|██████████| 8/8 [00:04<00:00,  1.85it/s]\n"
     ]
    },
    {
     "name": "stdout",
     "output_type": "stream",
     "text": [
      "epoch[0] 0.018919170243399484 0.04414473056793213\n",
      "batch 544\n"
     ]
    },
    {
     "name": "stderr",
     "output_type": "stream",
     "text": [
      "train: 100%|██████████| 17/17 [00:11<00:00,  1.43it/s]\n",
      "val: 100%|██████████| 8/8 [00:04<00:00,  1.84it/s]\n"
     ]
    },
    {
     "name": "stdout",
     "output_type": "stream",
     "text": [
      "epoch[0] 0.01900318463643392 0.044340764151679146\n",
      "batch 545\n"
     ]
    },
    {
     "name": "stderr",
     "output_type": "stream",
     "text": [
      "train: 100%|██████████| 17/17 [00:11<00:00,  1.46it/s]\n",
      "val: 100%|██████████| 8/8 [00:04<00:00,  1.84it/s]\n"
     ]
    },
    {
     "name": "stdout",
     "output_type": "stream",
     "text": [
      "epoch[0] 0.018929965950193858 0.04416992055045234\n",
      "batch 546\n"
     ]
    },
    {
     "name": "stderr",
     "output_type": "stream",
     "text": [
      "train: 100%|██████████| 17/17 [00:11<00:00,  1.47it/s]\n",
      "val: 100%|██████████| 8/8 [00:04<00:00,  1.83it/s]\n"
     ]
    },
    {
     "name": "stdout",
     "output_type": "stream",
     "text": [
      "epoch[0] 0.019148353395007905 0.044679491255018446\n",
      "batch 547\n"
     ]
    },
    {
     "name": "stderr",
     "output_type": "stream",
     "text": [
      "train: 100%|██████████| 17/17 [00:11<00:00,  1.45it/s]\n",
      "val: 100%|██████████| 8/8 [00:04<00:00,  1.70it/s]\n"
     ]
    },
    {
     "name": "stdout",
     "output_type": "stream",
     "text": [
      "epoch[0] 0.019096994400024415 0.04455965360005697\n",
      "batch 548\n"
     ]
    },
    {
     "name": "stderr",
     "output_type": "stream",
     "text": [
      "train: 100%|██████████| 17/17 [00:11<00:00,  1.47it/s]\n",
      "val: 100%|██████████| 8/8 [00:04<00:00,  1.85it/s]\n"
     ]
    },
    {
     "name": "stdout",
     "output_type": "stream",
     "text": [
      "epoch[0] 0.019063201404753184 0.044480803277757434\n",
      "batch 549\n"
     ]
    },
    {
     "name": "stderr",
     "output_type": "stream",
     "text": [
      "train: 100%|██████████| 17/17 [00:11<00:00,  1.45it/s]\n",
      "val: 100%|██████████| 8/8 [00:04<00:00,  1.84it/s]\n"
     ]
    },
    {
     "name": "stdout",
     "output_type": "stream",
     "text": [
      "epoch[0] 0.01926477863675072 0.04495115015241835\n",
      "batch 550\n"
     ]
    },
    {
     "name": "stderr",
     "output_type": "stream",
     "text": [
      "train: 100%|██████████| 17/17 [00:11<00:00,  1.44it/s]\n",
      "val: 100%|██████████| 8/8 [00:04<00:00,  1.71it/s]\n"
     ]
    },
    {
     "name": "stdout",
     "output_type": "stream",
     "text": [
      "epoch[0] 0.018902260348910377 0.044105274147457546\n",
      "batch 551\n"
     ]
    },
    {
     "name": "stderr",
     "output_type": "stream",
     "text": [
      "train: 100%|██████████| 17/17 [00:11<00:00,  1.47it/s]\n",
      "val: 100%|██████████| 8/8 [00:04<00:00,  1.81it/s]\n"
     ]
    },
    {
     "name": "stdout",
     "output_type": "stream",
     "text": [
      "epoch[0] 0.018926544416518438 0.044161936971876356\n",
      "batch 552\n"
     ]
    },
    {
     "name": "stderr",
     "output_type": "stream",
     "text": [
      "train: 100%|██████████| 17/17 [00:11<00:00,  1.47it/s]\n",
      "val: 100%|██████████| 8/8 [00:04<00:00,  1.83it/s]\n"
     ]
    },
    {
     "name": "stdout",
     "output_type": "stream",
     "text": [
      "epoch[0] 0.019062070165361676 0.04447816371917725\n",
      "batch 553\n"
     ]
    },
    {
     "name": "stderr",
     "output_type": "stream",
     "text": [
      "train: 100%|██████████| 17/17 [00:11<00:00,  1.42it/s]\n",
      "val: 100%|██████████| 8/8 [00:04<00:00,  1.75it/s]\n"
     ]
    },
    {
     "name": "stdout",
     "output_type": "stream",
     "text": [
      "epoch[0] 0.019087788945152645 0.044538174205356176\n",
      "batch 554\n"
     ]
    },
    {
     "name": "stderr",
     "output_type": "stream",
     "text": [
      "train: 100%|██████████| 17/17 [00:11<00:00,  1.48it/s]\n",
      "val: 100%|██████████| 8/8 [00:04<00:00,  1.73it/s]\n"
     ]
    },
    {
     "name": "stdout",
     "output_type": "stream",
     "text": [
      "epoch[0] 0.018950483344850087 0.044217794471316865\n",
      "batch 555\n"
     ]
    },
    {
     "name": "stderr",
     "output_type": "stream",
     "text": [
      "train: 100%|██████████| 17/17 [00:11<00:00,  1.47it/s]\n",
      "val: 100%|██████████| 8/8 [00:04<00:00,  1.81it/s]\n"
     ]
    },
    {
     "name": "stdout",
     "output_type": "stream",
     "text": [
      "epoch[0] 0.018683968839191253 0.04359592729144626\n",
      "batch 556\n"
     ]
    },
    {
     "name": "stderr",
     "output_type": "stream",
     "text": [
      "train: 100%|██████████| 17/17 [00:12<00:00,  1.40it/s]\n",
      "val: 100%|██████████| 8/8 [00:04<00:00,  1.69it/s]\n"
     ]
    },
    {
     "name": "stdout",
     "output_type": "stream",
     "text": [
      "epoch[0] 0.01880804936091105 0.04388544850879245\n",
      "batch 557\n"
     ]
    },
    {
     "name": "stderr",
     "output_type": "stream",
     "text": [
      "train: 100%|██████████| 17/17 [00:11<00:00,  1.45it/s]\n",
      "val: 100%|██████████| 8/8 [00:04<00:00,  1.82it/s]\n"
     ]
    },
    {
     "name": "stdout",
     "output_type": "stream",
     "text": [
      "epoch[0] 0.018857565153212776 0.044000985357496476\n",
      "batch 558\n"
     ]
    },
    {
     "name": "stderr",
     "output_type": "stream",
     "text": [
      "train: 100%|██████████| 17/17 [00:11<00:00,  1.50it/s]\n",
      "val: 100%|██████████| 8/8 [00:04<00:00,  1.68it/s]\n"
     ]
    },
    {
     "name": "stdout",
     "output_type": "stream",
     "text": [
      "epoch[0] 0.018853448913210915 0.04399138079749213\n",
      "batch 559\n"
     ]
    },
    {
     "name": "stderr",
     "output_type": "stream",
     "text": [
      "train: 100%|██████████| 17/17 [00:12<00:00,  1.40it/s]\n",
      "val: 100%|██████████| 8/8 [00:04<00:00,  1.79it/s]\n"
     ]
    },
    {
     "name": "stdout",
     "output_type": "stream",
     "text": [
      "epoch[0] 0.018861359641665503 0.04400983916388618\n",
      "batch 560\n"
     ]
    },
    {
     "name": "stderr",
     "output_type": "stream",
     "text": [
      "train: 100%|██████████| 17/17 [00:11<00:00,  1.45it/s]\n",
      "val: 100%|██████████| 8/8 [00:04<00:00,  1.88it/s]\n"
     ]
    },
    {
     "name": "stdout",
     "output_type": "stream",
     "text": [
      "epoch[0] 0.018902816091265 0.04410657087961833\n",
      "batch 561\n"
     ]
    },
    {
     "name": "stderr",
     "output_type": "stream",
     "text": [
      "train: 100%|██████████| 17/17 [00:11<00:00,  1.52it/s]\n",
      "val: 100%|██████████| 8/8 [00:04<00:00,  1.76it/s]\n"
     ]
    },
    {
     "name": "stdout",
     "output_type": "stream",
     "text": [
      "epoch[0] 0.018783858163016184 0.043829002380371095\n",
      "batch 562\n"
     ]
    },
    {
     "name": "stderr",
     "output_type": "stream",
     "text": [
      "train: 100%|██████████| 17/17 [00:11<00:00,  1.42it/s]\n",
      "val: 100%|██████████| 8/8 [00:04<00:00,  1.77it/s]\n"
     ]
    },
    {
     "name": "stdout",
     "output_type": "stream",
     "text": [
      "epoch[0] 0.019058296907515752 0.04446935945087009\n",
      "batch 563\n"
     ]
    },
    {
     "name": "stderr",
     "output_type": "stream",
     "text": [
      "train: 100%|██████████| 17/17 [00:11<00:00,  1.47it/s]\n",
      "val: 100%|██████████| 8/8 [00:04<00:00,  1.68it/s]\n"
     ]
    },
    {
     "name": "stdout",
     "output_type": "stream",
     "text": [
      "epoch[0] 0.01904661076409476 0.04444209178288778\n",
      "batch 564\n"
     ]
    },
    {
     "name": "stderr",
     "output_type": "stream",
     "text": [
      "train: 100%|██████████| 17/17 [00:11<00:00,  1.49it/s]\n",
      "val: 100%|██████████| 8/8 [00:04<00:00,  1.77it/s]\n"
     ]
    },
    {
     "name": "stdout",
     "output_type": "stream",
     "text": [
      "epoch[0] 0.01923504295803252 0.044881766902075876\n",
      "batch 565\n"
     ]
    },
    {
     "name": "stderr",
     "output_type": "stream",
     "text": [
      "train: 100%|██████████| 17/17 [00:11<00:00,  1.43it/s]\n",
      "val: 100%|██████████| 8/8 [00:04<00:00,  1.78it/s]\n"
     ]
    },
    {
     "name": "stdout",
     "output_type": "stream",
     "text": [
      "epoch[0] 0.01913659141177223 0.044652046627468536\n",
      "batch 566\n"
     ]
    },
    {
     "name": "stderr",
     "output_type": "stream",
     "text": [
      "train: 100%|██████████| 17/17 [00:11<00:00,  1.45it/s]\n",
      "val: 100%|██████████| 8/8 [00:05<00:00,  1.53it/s]\n"
     ]
    },
    {
     "name": "stdout",
     "output_type": "stream",
     "text": [
      "epoch[0] 0.018906790642511277 0.04411584483252631\n",
      "batch 567\n"
     ]
    },
    {
     "name": "stderr",
     "output_type": "stream",
     "text": [
      "train: 100%|██████████| 17/17 [00:11<00:00,  1.51it/s]\n",
      "val: 100%|██████████| 8/8 [00:04<00:00,  1.78it/s]\n"
     ]
    },
    {
     "name": "stdout",
     "output_type": "stream",
     "text": [
      "epoch[0] 0.0189543350537618 0.04422678179211087\n",
      "batch 568\n"
     ]
    },
    {
     "name": "stderr",
     "output_type": "stream",
     "text": [
      "train: 100%|██████████| 17/17 [00:12<00:00,  1.41it/s]\n",
      "val: 100%|██████████| 8/8 [00:04<00:00,  1.79it/s]\n"
     ]
    },
    {
     "name": "stdout",
     "output_type": "stream",
     "text": [
      "epoch[0] 0.018863468964894613 0.04401476091808743\n",
      "batch 569\n"
     ]
    },
    {
     "name": "stderr",
     "output_type": "stream",
     "text": [
      "train: 100%|██████████| 17/17 [00:11<00:00,  1.42it/s]\n",
      "val: 100%|██████████| 8/8 [00:04<00:00,  1.67it/s]\n"
     ]
    },
    {
     "name": "stdout",
     "output_type": "stream",
     "text": [
      "epoch[0] 0.019120186056409562 0.04461376746495565\n",
      "batch 570\n"
     ]
    },
    {
     "name": "stderr",
     "output_type": "stream",
     "text": [
      "train: 100%|██████████| 17/17 [00:11<00:00,  1.50it/s]\n",
      "val: 100%|██████████| 8/8 [00:04<00:00,  1.78it/s]\n"
     ]
    },
    {
     "name": "stdout",
     "output_type": "stream",
     "text": [
      "epoch[0] 0.018834399268740698 0.04394693162706163\n",
      "batch 571\n"
     ]
    },
    {
     "name": "stderr",
     "output_type": "stream",
     "text": [
      "train: 100%|██████████| 17/17 [00:11<00:00,  1.42it/s]\n",
      "val: 100%|██████████| 8/8 [00:04<00:00,  1.73it/s]\n"
     ]
    },
    {
     "name": "stdout",
     "output_type": "stream",
     "text": [
      "epoch[0] 0.01886327925182524 0.044014318254258895\n",
      "batch 572\n"
     ]
    },
    {
     "name": "stderr",
     "output_type": "stream",
     "text": [
      "train: 100%|██████████| 17/17 [00:12<00:00,  1.41it/s]\n",
      "val: 100%|██████████| 8/8 [00:04<00:00,  1.77it/s]\n"
     ]
    },
    {
     "name": "stdout",
     "output_type": "stream",
     "text": [
      "epoch[0] 0.01902713593982515 0.04439665052625868\n",
      "batch 573\n"
     ]
    },
    {
     "name": "stderr",
     "output_type": "stream",
     "text": [
      "train: 100%|██████████| 17/17 [00:11<00:00,  1.51it/s]\n",
      "val: 100%|██████████| 8/8 [00:04<00:00,  1.69it/s]\n"
     ]
    },
    {
     "name": "stdout",
     "output_type": "stream",
     "text": [
      "epoch[0] 0.01891999880472819 0.04414666387769911\n",
      "batch 574\n"
     ]
    },
    {
     "name": "stderr",
     "output_type": "stream",
     "text": [
      "train: 100%|██████████| 17/17 [00:11<00:00,  1.44it/s]\n",
      "val: 100%|██████████| 8/8 [00:04<00:00,  1.81it/s]\n"
     ]
    },
    {
     "name": "stdout",
     "output_type": "stream",
     "text": [
      "epoch[0] 0.01883662984484718 0.04395213630464342\n",
      "batch 575\n"
     ]
    },
    {
     "name": "stderr",
     "output_type": "stream",
     "text": [
      "train: 100%|██████████| 17/17 [00:11<00:00,  1.44it/s]\n",
      "val: 100%|██████████| 8/8 [00:04<00:00,  1.75it/s]\n"
     ]
    },
    {
     "name": "stdout",
     "output_type": "stream",
     "text": [
      "epoch[0] 0.018847827570778984 0.043978264331817625\n",
      "batch 576\n"
     ]
    },
    {
     "name": "stderr",
     "output_type": "stream",
     "text": [
      "train: 100%|██████████| 17/17 [00:11<00:00,  1.51it/s]\n",
      "val: 100%|██████████| 8/8 [00:04<00:00,  1.77it/s]\n"
     ]
    },
    {
     "name": "stdout",
     "output_type": "stream",
     "text": [
      "epoch[0] 0.019002169427417573 0.044338395330641\n",
      "batch 577\n"
     ]
    },
    {
     "name": "stderr",
     "output_type": "stream",
     "text": [
      "train: 100%|██████████| 17/17 [00:11<00:00,  1.45it/s]\n",
      "val: 100%|██████████| 8/8 [00:04<00:00,  1.77it/s]\n"
     ]
    },
    {
     "name": "stdout",
     "output_type": "stream",
     "text": [
      "epoch[0] 0.018822273640405562 0.04391863849427965\n",
      "batch 578\n"
     ]
    },
    {
     "name": "stderr",
     "output_type": "stream",
     "text": [
      "train: 100%|██████████| 17/17 [00:12<00:00,  1.39it/s]\n",
      "val: 100%|██████████| 8/8 [00:04<00:00,  1.75it/s]\n"
     ]
    },
    {
     "name": "stdout",
     "output_type": "stream",
     "text": [
      "epoch[0] 0.018873610950651622 0.04403842555152045\n",
      "batch 579\n"
     ]
    },
    {
     "name": "stderr",
     "output_type": "stream",
     "text": [
      "train: 100%|██████████| 17/17 [00:11<00:00,  1.51it/s]\n",
      "val: 100%|██████████| 8/8 [00:04<00:00,  1.68it/s]\n"
     ]
    },
    {
     "name": "stdout",
     "output_type": "stream",
     "text": [
      "epoch[0] 0.019169087409973144 0.04472787062327067\n",
      "batch 580\n"
     ]
    },
    {
     "name": "stderr",
     "output_type": "stream",
     "text": [
      "train: 100%|██████████| 17/17 [00:11<00:00,  1.47it/s]\n",
      "val: 100%|██████████| 8/8 [00:04<00:00,  1.72it/s]\n"
     ]
    },
    {
     "name": "stdout",
     "output_type": "stream",
     "text": [
      "epoch[0] 0.019195673692794072 0.044789905283186174\n",
      "batch 581\n"
     ]
    },
    {
     "name": "stderr",
     "output_type": "stream",
     "text": [
      "train: 100%|██████████| 17/17 [00:12<00:00,  1.39it/s]\n",
      "val: 100%|██████████| 8/8 [00:04<00:00,  1.78it/s]\n"
     ]
    },
    {
     "name": "stdout",
     "output_type": "stream",
     "text": [
      "epoch[0] 0.019119708424522763 0.044612652990553114\n",
      "batch 582\n"
     ]
    },
    {
     "name": "stderr",
     "output_type": "stream",
     "text": [
      "train: 100%|██████████| 17/17 [00:11<00:00,  1.52it/s]\n",
      "val: 100%|██████████| 8/8 [00:04<00:00,  1.70it/s]\n"
     ]
    },
    {
     "name": "stdout",
     "output_type": "stream",
     "text": [
      "epoch[0] 0.01876095215479533 0.04377555502785577\n",
      "batch 583\n"
     ]
    },
    {
     "name": "stderr",
     "output_type": "stream",
     "text": [
      "train: 100%|██████████| 17/17 [00:11<00:00,  1.43it/s]\n",
      "val: 100%|██████████| 8/8 [00:04<00:00,  1.85it/s]\n"
     ]
    },
    {
     "name": "stdout",
     "output_type": "stream",
     "text": [
      "epoch[0] 0.018845069862547376 0.04397182967927721\n",
      "batch 584\n"
     ]
    },
    {
     "name": "stderr",
     "output_type": "stream",
     "text": [
      "train: 100%|██████████| 17/17 [00:11<00:00,  1.44it/s]\n",
      "val: 100%|██████████| 8/8 [00:04<00:00,  1.82it/s]\n"
     ]
    },
    {
     "name": "stdout",
     "output_type": "stream",
     "text": [
      "epoch[0] 0.019083021368299213 0.04452704985936483\n",
      "batch 585\n"
     ]
    },
    {
     "name": "stderr",
     "output_type": "stream",
     "text": [
      "train: 100%|██████████| 17/17 [00:11<00:00,  1.46it/s]\n",
      "val: 100%|██████████| 8/8 [00:04<00:00,  1.90it/s]\n"
     ]
    },
    {
     "name": "stdout",
     "output_type": "stream",
     "text": [
      "epoch[0] 0.01901257662546067 0.04436267879274156\n",
      "batch 586\n"
     ]
    },
    {
     "name": "stderr",
     "output_type": "stream",
     "text": [
      "train: 100%|██████████| 17/17 [00:11<00:00,  1.44it/s]\n",
      "val: 100%|██████████| 8/8 [00:04<00:00,  1.86it/s]\n"
     ]
    },
    {
     "name": "stdout",
     "output_type": "stream",
     "text": [
      "epoch[0] 0.019220732620784213 0.044848376115163166\n",
      "batch 587\n"
     ]
    },
    {
     "name": "stderr",
     "output_type": "stream",
     "text": [
      "train: 100%|██████████| 17/17 [00:11<00:00,  1.47it/s]\n",
      "val: 100%|██████████| 8/8 [00:04<00:00,  1.69it/s]\n"
     ]
    },
    {
     "name": "stdout",
     "output_type": "stream",
     "text": [
      "epoch[0] 0.01878255151567005 0.04382595353656345\n",
      "batch 588\n"
     ]
    },
    {
     "name": "stderr",
     "output_type": "stream",
     "text": [
      "train: 100%|██████████| 17/17 [00:11<00:00,  1.45it/s]\n",
      "val: 100%|██████████| 8/8 [00:04<00:00,  1.83it/s]\n"
     ]
    },
    {
     "name": "stdout",
     "output_type": "stream",
     "text": [
      "epoch[0] 0.018701388835906982 0.04363657395044963\n",
      "batch 589\n"
     ]
    },
    {
     "name": "stderr",
     "output_type": "stream",
     "text": [
      "train: 100%|██████████| 17/17 [00:11<00:00,  1.45it/s]\n",
      "val: 100%|██████████| 8/8 [00:04<00:00,  1.82it/s]\n"
     ]
    },
    {
     "name": "stdout",
     "output_type": "stream",
     "text": [
      "epoch[0] 0.018811209542410716 0.043892822265625\n",
      "batch 590\n"
     ]
    },
    {
     "name": "stderr",
     "output_type": "stream",
     "text": [
      "train: 100%|██████████| 17/17 [00:11<00:00,  1.45it/s]\n",
      "val: 100%|██████████| 8/8 [00:04<00:00,  1.82it/s]\n"
     ]
    },
    {
     "name": "stdout",
     "output_type": "stream",
     "text": [
      "epoch[0] 0.01890199456896101 0.04410465399424235\n",
      "batch 591\n"
     ]
    },
    {
     "name": "stderr",
     "output_type": "stream",
     "text": [
      "train: 100%|██████████| 17/17 [00:11<00:00,  1.47it/s]\n",
      "val: 100%|██████████| 8/8 [00:04<00:00,  1.84it/s]\n"
     ]
    },
    {
     "name": "stdout",
     "output_type": "stream",
     "text": [
      "epoch[0] 0.018995714982350666 0.044323334958818225\n",
      "batch 592\n"
     ]
    },
    {
     "name": "stderr",
     "output_type": "stream",
     "text": [
      "train: 100%|██████████| 17/17 [00:11<00:00,  1.43it/s]\n",
      "val: 100%|██████████| 8/8 [00:04<00:00,  1.84it/s]\n"
     ]
    },
    {
     "name": "stdout",
     "output_type": "stream",
     "text": [
      "epoch[0] 0.0188083172979809 0.04388607369528876\n",
      "batch 593\n"
     ]
    },
    {
     "name": "stderr",
     "output_type": "stream",
     "text": [
      "train: 100%|██████████| 17/17 [00:11<00:00,  1.46it/s]\n",
      "val: 100%|██████████| 8/8 [00:04<00:00,  1.79it/s]\n"
     ]
    },
    {
     "name": "stdout",
     "output_type": "stream",
     "text": [
      "epoch[0] 0.018730368727729433 0.04370419369803535\n",
      "batch 594\n"
     ]
    },
    {
     "name": "stderr",
     "output_type": "stream",
     "text": [
      "train: 100%|██████████| 17/17 [00:11<00:00,  1.46it/s]\n",
      "val: 100%|██████████| 8/8 [00:04<00:00,  1.81it/s]\n"
     ]
    },
    {
     "name": "stdout",
     "output_type": "stream",
     "text": [
      "epoch[0] 0.018840796493348622 0.043961858484480115\n",
      "batch 595\n"
     ]
    },
    {
     "name": "stderr",
     "output_type": "stream",
     "text": [
      "train: 100%|██████████| 17/17 [00:11<00:00,  1.43it/s]\n",
      "val: 100%|██████████| 8/8 [00:04<00:00,  1.74it/s]\n"
     ]
    },
    {
     "name": "stdout",
     "output_type": "stream",
     "text": [
      "epoch[0] 0.019276696500324066 0.04497895850075616\n",
      "batch 596\n"
     ]
    },
    {
     "name": "stderr",
     "output_type": "stream",
     "text": [
      "train: 100%|██████████| 17/17 [00:11<00:00,  1.45it/s]\n",
      "val: 100%|██████████| 8/8 [00:04<00:00,  1.81it/s]\n"
     ]
    },
    {
     "name": "stdout",
     "output_type": "stream",
     "text": [
      "epoch[0] 0.01879323471160162 0.043850880993737115\n",
      "batch 597\n"
     ]
    },
    {
     "name": "stderr",
     "output_type": "stream",
     "text": [
      "train: 100%|██████████| 17/17 [00:12<00:00,  1.39it/s]\n",
      "val: 100%|██████████| 8/8 [00:04<00:00,  1.82it/s]\n"
     ]
    },
    {
     "name": "stdout",
     "output_type": "stream",
     "text": [
      "epoch[0] 0.019296438580467586 0.04502502335442437\n",
      "batch 598\n"
     ]
    },
    {
     "name": "stderr",
     "output_type": "stream",
     "text": [
      "train: 100%|██████████| 17/17 [00:11<00:00,  1.42it/s]\n",
      "val: 100%|██████████| 8/8 [00:04<00:00,  1.73it/s]\n"
     ]
    },
    {
     "name": "stdout",
     "output_type": "stream",
     "text": [
      "epoch[0] 0.018920354956672304 0.044147494898902045\n",
      "batch 599\n"
     ]
    },
    {
     "name": "stderr",
     "output_type": "stream",
     "text": [
      "train: 100%|██████████| 17/17 [00:12<00:00,  1.41it/s]\n",
      "val: 100%|██████████| 8/8 [00:04<00:00,  1.80it/s]\n"
     ]
    },
    {
     "name": "stdout",
     "output_type": "stream",
     "text": [
      "epoch[0] 0.01922610294251215 0.04486090686586168\n",
      "batch 600\n"
     ]
    },
    {
     "name": "stderr",
     "output_type": "stream",
     "text": [
      "train: 100%|██████████| 17/17 [00:11<00:00,  1.44it/s]\n",
      "val: 100%|██████████| 8/8 [00:04<00:00,  1.84it/s]\n"
     ]
    },
    {
     "name": "stdout",
     "output_type": "stream",
     "text": [
      "epoch[0] 0.01909875824337914 0.044563769234551326\n",
      "batch 601\n"
     ]
    },
    {
     "name": "stderr",
     "output_type": "stream",
     "text": [
      "train: 100%|██████████| 17/17 [00:12<00:00,  1.41it/s]\n",
      "val: 100%|██████████| 8/8 [00:04<00:00,  1.68it/s]\n"
     ]
    },
    {
     "name": "stdout",
     "output_type": "stream",
     "text": [
      "epoch[0] 0.01911419085093907 0.04459977865219116\n",
      "batch 602\n"
     ]
    },
    {
     "name": "stderr",
     "output_type": "stream",
     "text": [
      "train: 100%|██████████| 17/17 [00:12<00:00,  1.41it/s]\n",
      "val: 100%|██████████| 8/8 [00:04<00:00,  1.77it/s]\n"
     ]
    },
    {
     "name": "stdout",
     "output_type": "stream",
     "text": [
      "epoch[0] 0.018815673873538063 0.04390323903825548\n",
      "batch 603\n"
     ]
    },
    {
     "name": "stderr",
     "output_type": "stream",
     "text": [
      "train: 100%|██████████| 17/17 [00:11<00:00,  1.48it/s]\n",
      "val: 100%|██████████| 8/8 [00:04<00:00,  1.85it/s]\n"
     ]
    },
    {
     "name": "stdout",
     "output_type": "stream",
     "text": [
      "epoch[0] 0.01896248249780564 0.04424579249487983\n",
      "batch 604\n"
     ]
    },
    {
     "name": "stderr",
     "output_type": "stream",
     "text": [
      "train: 100%|██████████| 17/17 [00:12<00:00,  1.39it/s]\n",
      "val: 100%|██████████| 8/8 [00:04<00:00,  1.78it/s]\n"
     ]
    },
    {
     "name": "stdout",
     "output_type": "stream",
     "text": [
      "epoch[0] 0.018525949659801665 0.04322721587287055\n",
      "batch 605\n"
     ]
    },
    {
     "name": "stderr",
     "output_type": "stream",
     "text": [
      "train: 100%|██████████| 17/17 [00:11<00:00,  1.44it/s]\n",
      "val: 100%|██████████| 8/8 [00:04<00:00,  1.74it/s]\n"
     ]
    },
    {
     "name": "stdout",
     "output_type": "stream",
     "text": [
      "epoch[0] 0.018856904279618038 0.04399944331910875\n",
      "batch 606\n"
     ]
    },
    {
     "name": "stderr",
     "output_type": "stream",
     "text": [
      "train: 100%|██████████| 17/17 [00:11<00:00,  1.51it/s]\n",
      "val: 100%|██████████| 8/8 [00:04<00:00,  1.72it/s]\n"
     ]
    },
    {
     "name": "stdout",
     "output_type": "stream",
     "text": [
      "epoch[0] 0.018728614761715844 0.043700101110670304\n",
      "batch 607\n"
     ]
    },
    {
     "name": "stderr",
     "output_type": "stream",
     "text": [
      "train: 100%|██████████| 17/17 [00:12<00:00,  1.39it/s]\n",
      "val: 100%|██████████| 8/8 [00:04<00:00,  1.78it/s]\n"
     ]
    },
    {
     "name": "stdout",
     "output_type": "stream",
     "text": [
      "epoch[0] 0.018937479995545885 0.044187453322940405\n",
      "batch 608\n"
     ]
    },
    {
     "name": "stderr",
     "output_type": "stream",
     "text": [
      "train: 100%|██████████| 17/17 [00:11<00:00,  1.47it/s]\n",
      "val: 100%|██████████| 8/8 [00:04<00:00,  1.74it/s]\n"
     ]
    },
    {
     "name": "stdout",
     "output_type": "stream",
     "text": [
      "epoch[0] 0.018785457951681954 0.04383273522059123\n",
      "batch 609\n"
     ]
    },
    {
     "name": "stderr",
     "output_type": "stream",
     "text": [
      "train: 100%|██████████| 17/17 [00:11<00:00,  1.51it/s]\n",
      "val: 100%|██████████| 8/8 [00:04<00:00,  1.77it/s]\n"
     ]
    },
    {
     "name": "stdout",
     "output_type": "stream",
     "text": [
      "epoch[0] 0.01896731206348964 0.04425706148147583\n",
      "batch 610\n"
     ]
    },
    {
     "name": "stderr",
     "output_type": "stream",
     "text": [
      "train: 100%|██████████| 17/17 [00:12<00:00,  1.40it/s]\n",
      "val: 100%|██████████| 8/8 [00:04<00:00,  1.76it/s]\n"
     ]
    },
    {
     "name": "stdout",
     "output_type": "stream",
     "text": [
      "epoch[0] 0.018676779951368058 0.04357915321985881\n",
      "batch 611\n"
     ]
    },
    {
     "name": "stderr",
     "output_type": "stream",
     "text": [
      "train: 100%|██████████| 17/17 [00:12<00:00,  1.41it/s]\n",
      "val: 100%|██████████| 8/8 [00:05<00:00,  1.58it/s]\n"
     ]
    },
    {
     "name": "stdout",
     "output_type": "stream",
     "text": [
      "epoch[0] 0.019171127364749 0.04473263051774767\n",
      "batch 612\n"
     ]
    },
    {
     "name": "stderr",
     "output_type": "stream",
     "text": [
      "train: 100%|██████████| 17/17 [00:11<00:00,  1.49it/s]\n",
      "val: 100%|██████████| 8/8 [00:04<00:00,  1.77it/s]\n"
     ]
    },
    {
     "name": "stdout",
     "output_type": "stream",
     "text": [
      "epoch[0] 0.019164202553885325 0.044716472625732424\n",
      "batch 613\n"
     ]
    },
    {
     "name": "stderr",
     "output_type": "stream",
     "text": [
      "train: 100%|██████████| 17/17 [00:12<00:00,  1.40it/s]\n",
      "val: 100%|██████████| 8/8 [00:04<00:00,  1.76it/s]\n"
     ]
    },
    {
     "name": "stdout",
     "output_type": "stream",
     "text": [
      "epoch[0] 0.018905728544507706 0.04411336660385132\n",
      "batch 614\n"
     ]
    },
    {
     "name": "stderr",
     "output_type": "stream",
     "text": [
      "train: 100%|██████████| 17/17 [00:11<00:00,  1.44it/s]\n",
      "val: 100%|██████████| 8/8 [00:04<00:00,  1.65it/s]\n"
     ]
    },
    {
     "name": "stdout",
     "output_type": "stream",
     "text": [
      "epoch[0] 0.018790386063711983 0.043844234148661294\n",
      "batch 615\n"
     ]
    },
    {
     "name": "stderr",
     "output_type": "stream",
     "text": [
      "train: 100%|██████████| 17/17 [00:11<00:00,  1.54it/s]\n",
      "val: 100%|██████████| 8/8 [00:04<00:00,  1.76it/s]\n"
     ]
    },
    {
     "name": "stdout",
     "output_type": "stream",
     "text": [
      "epoch[0] 0.019002175898779006 0.04433841043048435\n",
      "batch 616\n"
     ]
    },
    {
     "name": "stderr",
     "output_type": "stream",
     "text": [
      "train: 100%|██████████| 17/17 [00:12<00:00,  1.37it/s]\n",
      "val: 100%|██████████| 8/8 [00:04<00:00,  1.75it/s]\n"
     ]
    },
    {
     "name": "stdout",
     "output_type": "stream",
     "text": [
      "epoch[0] 0.019022327831813266 0.044385431607564294\n",
      "batch 617\n"
     ]
    },
    {
     "name": "stderr",
     "output_type": "stream",
     "text": [
      "train: 100%|██████████| 17/17 [00:11<00:00,  1.42it/s]\n",
      "val: 100%|██████████| 8/8 [00:04<00:00,  1.75it/s]\n"
     ]
    },
    {
     "name": "stdout",
     "output_type": "stream",
     "text": [
      "epoch[0] 0.01896716799054827 0.0442567253112793\n",
      "batch 618\n"
     ]
    },
    {
     "name": "stderr",
     "output_type": "stream",
     "text": [
      "train: 100%|██████████| 17/17 [00:11<00:00,  1.50it/s]\n",
      "val: 100%|██████████| 8/8 [00:04<00:00,  1.73it/s]\n"
     ]
    },
    {
     "name": "stdout",
     "output_type": "stream",
     "text": [
      "epoch[0] 0.019046570232936315 0.044441997210184735\n",
      "batch 619\n"
     ]
    },
    {
     "name": "stderr",
     "output_type": "stream",
     "text": [
      "train: 100%|██████████| 17/17 [00:12<00:00,  1.41it/s]\n",
      "val: 100%|██████████| 8/8 [00:04<00:00,  1.79it/s]\n"
     ]
    },
    {
     "name": "stdout",
     "output_type": "stream",
     "text": [
      "epoch[0] 0.01881027198973156 0.043890634642706976\n",
      "batch 620\n"
     ]
    },
    {
     "name": "stderr",
     "output_type": "stream",
     "text": [
      "train: 100%|██████████| 17/17 [00:12<00:00,  1.41it/s]\n",
      "val: 100%|██████████| 8/8 [00:04<00:00,  1.78it/s]\n"
     ]
    },
    {
     "name": "stdout",
     "output_type": "stream",
     "text": [
      "epoch[0] 0.018864331131889706 0.04401677264107598\n",
      "batch 621\n"
     ]
    },
    {
     "name": "stderr",
     "output_type": "stream",
     "text": [
      "train: 100%|██████████| 17/17 [00:11<00:00,  1.49it/s]\n",
      "val: 100%|██████████| 8/8 [00:04<00:00,  1.65it/s]\n"
     ]
    },
    {
     "name": "stdout",
     "output_type": "stream",
     "text": [
      "epoch[0] 0.019097896076384045 0.04456175751156277\n",
      "batch 622\n"
     ]
    },
    {
     "name": "stderr",
     "output_type": "stream",
     "text": [
      "train: 100%|██████████| 17/17 [00:12<00:00,  1.41it/s]\n",
      "val: 100%|██████████| 8/8 [00:04<00:00,  1.74it/s]\n"
     ]
    },
    {
     "name": "stdout",
     "output_type": "stream",
     "text": [
      "epoch[0] 0.018617125692821684 0.04343995994991726\n",
      "batch 623\n"
     ]
    },
    {
     "name": "stderr",
     "output_type": "stream",
     "text": [
      "train: 100%|██████████| 17/17 [00:11<00:00,  1.45it/s]\n",
      "val: 100%|██████████| 8/8 [00:04<00:00,  1.76it/s]\n"
     ]
    },
    {
     "name": "stdout",
     "output_type": "stream",
     "text": [
      "epoch[0] 0.01901839324406215 0.044376250902811686\n",
      "batch 624\n"
     ]
    },
    {
     "name": "stderr",
     "output_type": "stream",
     "text": [
      "train: 100%|██████████| 17/17 [00:11<00:00,  1.52it/s]\n",
      "val: 100%|██████████| 8/8 [00:04<00:00,  1.62it/s]\n"
     ]
    },
    {
     "name": "stdout",
     "output_type": "stream",
     "text": [
      "epoch[0] 0.018784379732041133 0.04383021937476264\n",
      "batch 625\n"
     ]
    },
    {
     "name": "stderr",
     "output_type": "stream",
     "text": [
      "train: 100%|██████████| 17/17 [00:11<00:00,  1.46it/s]\n",
      "val: 100%|██████████| 8/8 [00:04<00:00,  1.73it/s]\n"
     ]
    },
    {
     "name": "stdout",
     "output_type": "stream",
     "text": [
      "epoch[0] 0.01901435375213623 0.044366825421651206\n",
      "batch 626\n"
     ]
    },
    {
     "name": "stderr",
     "output_type": "stream",
     "text": [
      "train: 100%|██████████| 17/17 [00:12<00:00,  1.41it/s]\n",
      "val: 100%|██████████| 8/8 [00:04<00:00,  1.71it/s]\n"
     ]
    },
    {
     "name": "stdout",
     "output_type": "stream",
     "text": [
      "epoch[0] 0.019025210425967262 0.04439215766059028\n",
      "batch 627\n"
     ]
    },
    {
     "name": "stderr",
     "output_type": "stream",
     "text": [
      "train: 100%|██████████| 17/17 [00:11<00:00,  1.50it/s]\n",
      "val: 100%|██████████| 8/8 [00:04<00:00,  1.66it/s]\n"
     ]
    },
    {
     "name": "stdout",
     "output_type": "stream",
     "text": [
      "epoch[0] 0.018749101616087414 0.043747903770870636\n",
      "batch 628\n"
     ]
    },
    {
     "name": "stderr",
     "output_type": "stream",
     "text": [
      "train: 100%|██████████| 17/17 [00:11<00:00,  1.45it/s]\n",
      "val: 100%|██████████| 8/8 [00:04<00:00,  1.78it/s]\n"
     ]
    },
    {
     "name": "stdout",
     "output_type": "stream",
     "text": [
      "epoch[0] 0.01910854691550845 0.04458660946951972\n",
      "batch 629\n"
     ]
    },
    {
     "name": "stderr",
     "output_type": "stream",
     "text": [
      "train: 100%|██████████| 17/17 [00:12<00:00,  1.41it/s]\n",
      "val: 100%|██████████| 8/8 [00:04<00:00,  1.70it/s]\n"
     ]
    },
    {
     "name": "stdout",
     "output_type": "stream",
     "text": [
      "epoch[0] 0.018799808252425422 0.04386621925565932\n",
      "batch 630\n"
     ]
    },
    {
     "name": "stderr",
     "output_type": "stream",
     "text": [
      "train: 100%|██████████| 17/17 [00:11<00:00,  1.47it/s]\n",
      "val: 100%|██████████| 8/8 [00:04<00:00,  1.83it/s]\n"
     ]
    },
    {
     "name": "stdout",
     "output_type": "stream",
     "text": [
      "epoch[0] 0.019187584604535783 0.04477103074391683\n",
      "batch 631\n"
     ]
    },
    {
     "name": "stderr",
     "output_type": "stream",
     "text": [
      "train: 100%|██████████| 17/17 [00:11<00:00,  1.45it/s]\n",
      "val: 100%|██████████| 8/8 [00:04<00:00,  1.83it/s]\n"
     ]
    },
    {
     "name": "stdout",
     "output_type": "stream",
     "text": [
      "epoch[0] 0.01918241682506743 0.044758972591824\n",
      "batch 632\n"
     ]
    },
    {
     "name": "stderr",
     "output_type": "stream",
     "text": [
      "train: 100%|██████████| 17/17 [00:11<00:00,  1.47it/s]\n",
      "val: 100%|██████████| 8/8 [00:04<00:00,  1.80it/s]\n"
     ]
    },
    {
     "name": "stdout",
     "output_type": "stream",
     "text": [
      "epoch[0] 0.019182032971155075 0.04475807693269518\n",
      "batch 633\n"
     ]
    },
    {
     "name": "stderr",
     "output_type": "stream",
     "text": [
      "train: 100%|██████████| 17/17 [00:11<00:00,  1.45it/s]\n",
      "val: 100%|██████████| 8/8 [00:04<00:00,  1.82it/s]\n"
     ]
    },
    {
     "name": "stdout",
     "output_type": "stream",
     "text": [
      "epoch[0] 0.018855556419917516 0.04399629831314087\n",
      "batch 634\n"
     ]
    },
    {
     "name": "stderr",
     "output_type": "stream",
     "text": [
      "train: 100%|██████████| 17/17 [00:11<00:00,  1.43it/s]\n",
      "val: 100%|██████████| 8/8 [00:04<00:00,  1.87it/s]\n"
     ]
    },
    {
     "name": "stdout",
     "output_type": "stream",
     "text": [
      "epoch[0] 0.019043277899424234 0.04443431509865655\n",
      "batch 635\n"
     ]
    },
    {
     "name": "stderr",
     "output_type": "stream",
     "text": [
      "train: 100%|██████████| 17/17 [00:11<00:00,  1.43it/s]\n",
      "val: 100%|██████████| 8/8 [00:04<00:00,  1.78it/s]\n"
     ]
    },
    {
     "name": "stdout",
     "output_type": "stream",
     "text": [
      "epoch[0] 0.018785948299226307 0.04383387936486138\n",
      "batch 636\n"
     ]
    },
    {
     "name": "stderr",
     "output_type": "stream",
     "text": [
      "train: 100%|██████████| 17/17 [00:11<00:00,  1.48it/s]\n",
      "val: 100%|██████████| 8/8 [00:04<00:00,  1.85it/s]\n"
     ]
    },
    {
     "name": "stdout",
     "output_type": "stream",
     "text": [
      "epoch[0] 0.018815347807747976 0.04390247821807861\n",
      "batch 637\n"
     ]
    },
    {
     "name": "stderr",
     "output_type": "stream",
     "text": [
      "train: 100%|██████████| 17/17 [00:11<00:00,  1.44it/s]\n",
      "val: 100%|██████████| 8/8 [00:04<00:00,  1.70it/s]\n"
     ]
    },
    {
     "name": "stdout",
     "output_type": "stream",
     "text": [
      "epoch[0] 0.018659524009341285 0.043538889355129666\n",
      "batch 638\n"
     ]
    },
    {
     "name": "stderr",
     "output_type": "stream",
     "text": [
      "train: 100%|██████████| 17/17 [00:11<00:00,  1.46it/s]\n",
      "val: 100%|██████████| 8/8 [00:04<00:00,  1.78it/s]\n"
     ]
    },
    {
     "name": "stdout",
     "output_type": "stream",
     "text": [
      "epoch[0] 0.01887042420251029 0.04403098980585734\n",
      "batch 639\n"
     ]
    },
    {
     "name": "stderr",
     "output_type": "stream",
     "text": [
      "train: 100%|██████████| 17/17 [00:11<00:00,  1.45it/s]\n",
      "val: 100%|██████████| 8/8 [00:04<00:00,  1.80it/s]\n"
     ]
    },
    {
     "name": "stdout",
     "output_type": "stream",
     "text": [
      "epoch[0] 0.018811308315822055 0.04389305273691813\n",
      "batch 640\n"
     ]
    },
    {
     "name": "stderr",
     "output_type": "stream",
     "text": [
      "train: 100%|██████████| 17/17 [00:11<00:00,  1.46it/s]\n",
      "val: 100%|██████████| 8/8 [00:04<00:00,  1.72it/s]\n"
     ]
    },
    {
     "name": "stdout",
     "output_type": "stream",
     "text": [
      "epoch[0] 0.018655569553375245 0.0435296622912089\n",
      "batch 641\n"
     ]
    },
    {
     "name": "stderr",
     "output_type": "stream",
     "text": [
      "train: 100%|██████████| 17/17 [00:11<00:00,  1.49it/s]\n",
      "val: 100%|██████████| 8/8 [00:04<00:00,  1.80it/s]\n"
     ]
    },
    {
     "name": "stdout",
     "output_type": "stream",
     "text": [
      "epoch[0] 0.018941977137611025 0.044197946654425724\n",
      "batch 642\n"
     ]
    },
    {
     "name": "stderr",
     "output_type": "stream",
     "text": [
      "train: 100%|██████████| 17/17 [00:11<00:00,  1.47it/s]\n",
      "val: 100%|██████████| 8/8 [00:04<00:00,  1.87it/s]\n"
     ]
    },
    {
     "name": "stdout",
     "output_type": "stream",
     "text": [
      "epoch[0] 0.018646142028626942 0.04350766473346286\n",
      "batch 643\n"
     ]
    },
    {
     "name": "stderr",
     "output_type": "stream",
     "text": [
      "train: 100%|██████████| 17/17 [00:12<00:00,  1.40it/s]\n",
      "val: 100%|██████████| 8/8 [00:04<00:00,  1.85it/s]\n"
     ]
    },
    {
     "name": "stdout",
     "output_type": "stream",
     "text": [
      "epoch[0] 0.01889702036267235 0.044093047512902155\n",
      "batch 644\n"
     ]
    },
    {
     "name": "stderr",
     "output_type": "stream",
     "text": [
      "train: 100%|██████████| 17/17 [00:11<00:00,  1.45it/s]\n",
      "val: 100%|██████████| 8/8 [00:04<00:00,  1.72it/s]\n"
     ]
    },
    {
     "name": "stdout",
     "output_type": "stream",
     "text": [
      "epoch[0] 0.019113518056415375 0.04459820879830254\n",
      "batch 645\n"
     ]
    },
    {
     "name": "stderr",
     "output_type": "stream",
     "text": [
      "train: 100%|██████████| 17/17 [00:11<00:00,  1.48it/s]\n",
      "val: 100%|██████████| 8/8 [00:04<00:00,  1.89it/s]\n"
     ]
    },
    {
     "name": "stdout",
     "output_type": "stream",
     "text": [
      "epoch[0] 0.01880714427857172 0.04388333665000068\n",
      "batch 646\n"
     ]
    },
    {
     "name": "stderr",
     "output_type": "stream",
     "text": [
      "train: 100%|██████████| 17/17 [00:12<00:00,  1.40it/s]\n",
      "val: 100%|██████████| 8/8 [00:04<00:00,  1.83it/s]\n"
     ]
    },
    {
     "name": "stdout",
     "output_type": "stream",
     "text": [
      "epoch[0] 0.018927382060459682 0.04416389147440592\n",
      "batch 647\n"
     ]
    },
    {
     "name": "stderr",
     "output_type": "stream",
     "text": [
      "train: 100%|██████████| 17/17 [00:11<00:00,  1.46it/s]\n",
      "val: 100%|██████████| 8/8 [00:04<00:00,  1.75it/s]\n"
     ]
    },
    {
     "name": "stdout",
     "output_type": "stream",
     "text": [
      "epoch[0] 0.01890847705659412 0.044119779798719616\n",
      "batch 648\n"
     ]
    },
    {
     "name": "stderr",
     "output_type": "stream",
     "text": [
      "train: 100%|██████████| 17/17 [00:11<00:00,  1.52it/s]\n",
      "val: 100%|██████████| 8/8 [00:04<00:00,  1.85it/s]\n"
     ]
    },
    {
     "name": "stdout",
     "output_type": "stream",
     "text": [
      "epoch[0] 0.01890157109215146 0.04410366588168674\n",
      "batch 649\n"
     ]
    },
    {
     "name": "stderr",
     "output_type": "stream",
     "text": [
      "train: 100%|██████████| 17/17 [00:11<00:00,  1.42it/s]\n",
      "val: 100%|██████████| 8/8 [00:04<00:00,  1.83it/s]\n"
     ]
    },
    {
     "name": "stdout",
     "output_type": "stream",
     "text": [
      "epoch[0] 0.01905742304665702 0.044467320442199705\n",
      "batch 650\n"
     ]
    },
    {
     "name": "stderr",
     "output_type": "stream",
     "text": [
      "train: 100%|██████████| 17/17 [00:11<00:00,  1.46it/s]\n",
      "val: 100%|██████████| 8/8 [00:04<00:00,  1.62it/s]\n"
     ]
    },
    {
     "name": "stdout",
     "output_type": "stream",
     "text": [
      "epoch[0] 0.018832549708230156 0.04394261598587036\n",
      "batch 651\n"
     ]
    },
    {
     "name": "stderr",
     "output_type": "stream",
     "text": [
      "train: 100%|██████████| 17/17 [00:11<00:00,  1.51it/s]\n",
      "val: 100%|██████████| 8/8 [00:04<00:00,  1.83it/s]\n"
     ]
    },
    {
     "name": "stdout",
     "output_type": "stream",
     "text": [
      "epoch[0] 0.018718122527712867 0.04367561923133002\n",
      "batch 652\n"
     ]
    },
    {
     "name": "stderr",
     "output_type": "stream",
     "text": [
      "train: 100%|██████████| 17/17 [00:12<00:00,  1.40it/s]\n",
      "val: 100%|██████████| 8/8 [00:04<00:00,  1.86it/s]\n"
     ]
    },
    {
     "name": "stdout",
     "output_type": "stream",
     "text": [
      "epoch[0] 0.019204650833493188 0.04481085194481744\n",
      "batch 653\n"
     ]
    },
    {
     "name": "stderr",
     "output_type": "stream",
     "text": [
      "train: 100%|██████████| 17/17 [00:11<00:00,  1.43it/s]\n",
      "val: 100%|██████████| 8/8 [00:04<00:00,  1.71it/s]\n"
     ]
    },
    {
     "name": "stdout",
     "output_type": "stream",
     "text": [
      "epoch[0] 0.019146187759581067 0.044674438105689156\n",
      "batch 654\n"
     ]
    },
    {
     "name": "stderr",
     "output_type": "stream",
     "text": [
      "train: 100%|██████████| 17/17 [00:11<00:00,  1.50it/s]\n",
      "val: 100%|██████████| 8/8 [00:04<00:00,  1.88it/s]\n"
     ]
    },
    {
     "name": "stdout",
     "output_type": "stream",
     "text": [
      "epoch[0] 0.01887664454323905 0.04404550393422445\n",
      "batch 655\n"
     ]
    },
    {
     "name": "stderr",
     "output_type": "stream",
     "text": [
      "train: 100%|██████████| 17/17 [00:12<00:00,  1.35it/s]\n",
      "val: 100%|██████████| 8/8 [00:04<00:00,  1.82it/s]\n"
     ]
    },
    {
     "name": "stdout",
     "output_type": "stream",
     "text": [
      "epoch[0] 0.01875750110262916 0.043767502572801376\n",
      "batch 656\n"
     ]
    },
    {
     "name": "stderr",
     "output_type": "stream",
     "text": [
      "train: 100%|██████████| 17/17 [00:12<00:00,  1.41it/s]\n",
      "val: 100%|██████████| 8/8 [00:04<00:00,  1.79it/s]\n"
     ]
    },
    {
     "name": "stdout",
     "output_type": "stream",
     "text": [
      "epoch[0] 0.018998946916489373 0.04433087613847521\n",
      "batch 657\n"
     ]
    },
    {
     "name": "stderr",
     "output_type": "stream",
     "text": [
      "train: 100%|██████████| 17/17 [00:11<00:00,  1.52it/s]\n",
      "val: 100%|██████████| 8/8 [00:04<00:00,  1.80it/s]\n"
     ]
    },
    {
     "name": "stdout",
     "output_type": "stream",
     "text": [
      "epoch[0] 0.019011773495447068 0.04436080482270983\n",
      "batch 658\n"
     ]
    },
    {
     "name": "stderr",
     "output_type": "stream",
     "text": [
      "train: 100%|██████████| 17/17 [00:12<00:00,  1.41it/s]\n",
      "val: 100%|██████████| 8/8 [00:04<00:00,  1.84it/s]\n"
     ]
    },
    {
     "name": "stdout",
     "output_type": "stream",
     "text": [
      "epoch[0] 0.018869046824319023 0.044027775923411054\n",
      "batch 659\n"
     ]
    },
    {
     "name": "stderr",
     "output_type": "stream",
     "text": [
      "train: 100%|██████████| 17/17 [00:11<00:00,  1.45it/s]\n",
      "val: 100%|██████████| 8/8 [00:04<00:00,  1.66it/s]"
     ]
    },
    {
     "name": "stdout",
     "output_type": "stream",
     "text": [
      "epoch[0] 0.018881150994982037 0.04405601898829142\n"
     ]
    },
    {
     "name": "stderr",
     "output_type": "stream",
     "text": [
      "\n"
     ]
    }
   ],
   "source": [
    "for i, b in enumerate(batch_ids):\n",
    "    event_ids = meta[meta[\"batch_id\"] == b][\"event_id\"].tolist()\n",
    "    y = meta[meta[\"batch_id\"] == b][['zenith', 'azimuth']].reset_index(drop=True)\n",
    "    dataset = IceCubeDataset(\n",
    "        b, event_ids, sensors, mode='train', y=y,\n",
    "    )\n",
    "    train_len = int(0.7*len(dataset[0:3000]))\n",
    "    train_loader = DataLoader(dataset[0:train_len], batch_size=batchsize)\n",
    "    val_loader = DataLoader(dataset[train_len:3000], batch_size=batchsize)\n",
    "    \n",
    "    print(f'batch {i}')\n",
    "    for epoch_num in range(epochs):\n",
    "        total_loss_train = 0\n",
    "        model.train()\n",
    "        for sample_batched in tqdm(train_loader, desc='train'):\n",
    "            opt.zero_grad()\n",
    "            sample_batched = sample_batched.to(device)\n",
    "            outputs = model(sample_batched)\n",
    "            label = sample_batched.y.reshape(-1, 2).to(device)\n",
    "            loss = criterion(outputs, label)\n",
    "            total_loss_train += loss.cpu().item()\n",
    "            loss.backward()\n",
    "            opt.step()\n",
    "#             break\n",
    "        \n",
    "        total_loss_val = 0\n",
    "        model.eval()\n",
    "        with torch.no_grad():\n",
    "            for sample_batched in tqdm(val_loader, desc='val'):\n",
    "                sample_batched = sample_batched.to(device)\n",
    "                outputs = model(sample_batched)\n",
    "                label = sample_batched.y.reshape(-1, 2).to(device)\n",
    "                loss = criterion(outputs, label)\n",
    "                total_loss_val += loss.cpu().item()\n",
    "#                 break\n",
    "\n",
    "        print(f'epoch[{epoch_num}]', total_loss_train / train_len, total_loss_train / (len(dataset[0:3000]) - train_len))\n",
    "\n",
    "    # just three batch dataset\n",
    "#     if i >= 2:\n",
    "#         break"
   ]
  },
  {
   "cell_type": "markdown",
   "id": "8ec1b66a",
   "metadata": {
    "papermill": {
     "duration": 1.087575,
     "end_time": "2023-02-22T10:39:05.506483",
     "exception": false,
     "start_time": "2023-02-22T10:39:04.418908",
     "status": "completed"
    },
    "tags": []
   },
   "source": [
    "## Infer"
   ]
  },
  {
   "cell_type": "code",
   "execution_count": 18,
   "id": "59d3492b",
   "metadata": {
    "execution": {
     "iopub.execute_input": "2023-02-22T10:39:07.775752Z",
     "iopub.status.busy": "2023-02-22T10:39:07.775334Z",
     "iopub.status.idle": "2023-02-22T10:39:07.781899Z",
     "shell.execute_reply": "2023-02-22T10:39:07.780848Z"
    },
    "papermill": {
     "duration": 1.09345,
     "end_time": "2023-02-22T10:39:07.784089",
     "exception": false,
     "start_time": "2023-02-22T10:39:06.690639",
     "status": "completed"
    },
    "tags": []
   },
   "outputs": [],
   "source": [
    "def infer(model, loader, device=\"cpu\"):\n",
    "    model.to(device)\n",
    "    model.eval()\n",
    "\n",
    "    predictions = []\n",
    "    with torch.no_grad():\n",
    "        for batch in loader:\n",
    "            batch = batch.to(device)\n",
    "            pred_angles = model(batch)\n",
    "            predictions.append(pred_angles.cpu())\n",
    "\n",
    "    return torch.cat(predictions, 0)"
   ]
  },
  {
   "cell_type": "code",
   "execution_count": 19,
   "id": "b2806ed1",
   "metadata": {
    "execution": {
     "iopub.execute_input": "2023-02-22T10:39:10.275945Z",
     "iopub.status.busy": "2023-02-22T10:39:10.275563Z",
     "iopub.status.idle": "2023-02-22T10:39:10.285199Z",
     "shell.execute_reply": "2023-02-22T10:39:10.284039Z"
    },
    "papermill": {
     "duration": 1.103528,
     "end_time": "2023-02-22T10:39:10.287614",
     "exception": false,
     "start_time": "2023-02-22T10:39:09.184086",
     "status": "completed"
    },
    "tags": []
   },
   "outputs": [],
   "source": [
    "def make_predictions(model, device=\"cpu\", mode=\"test\", batch_size=32):\n",
    "    sensors = prepare_sensors()\n",
    "\n",
    "    meta = pd.read_parquet(\n",
    "        INPUT_PATH / f\"{mode}_meta.parquet\", columns=[\"batch_id\", \"event_id\"]\n",
    "    ).astype(_dtype)\n",
    "    batch_ids = meta[\"batch_id\"].unique()\n",
    "\n",
    "    if mode == \"train\":\n",
    "        batch_ids = batch_ids[:6]\n",
    "\n",
    "    batch_preds = []\n",
    "    for b in batch_ids:\n",
    "        event_ids = meta[meta[\"batch_id\"] == b][\"event_id\"].tolist()\n",
    "        dataset = IceCubeDataset(\n",
    "            b, event_ids, sensors, mode=mode,\n",
    "        )\n",
    "        loader = DataLoader(dataset, batch_size=batch_size, num_workers=1)\n",
    "        batch_preds.append(infer(model, loader, device=device))\n",
    "        print(\"Finished batch\", b)\n",
    "\n",
    "        if mode == \"train\" and b == 6:\n",
    "            break\n",
    "\n",
    "    output = torch.cat(batch_preds, 0)\n",
    "\n",
    "    event_id_labels = []\n",
    "    for b in batch_ids:\n",
    "        event_id_labels.extend(meta[meta[\"batch_id\"] == b][\"event_id\"].tolist())\n",
    "\n",
    "    sub = {\n",
    "        \"event_id\": event_id_labels,\n",
    "        \"azimuth\": output[:, 0],\n",
    "        \"zenith\": output[:, 1],\n",
    "    }\n",
    "\n",
    "    sub = pd.DataFrame(sub)\n",
    "    sub.to_csv(\"submission.csv\", index=False)"
   ]
  },
  {
   "cell_type": "code",
   "execution_count": 20,
   "id": "9bcb0bb2",
   "metadata": {
    "execution": {
     "iopub.execute_input": "2023-02-22T10:39:12.671072Z",
     "iopub.status.busy": "2023-02-22T10:39:12.670684Z",
     "iopub.status.idle": "2023-02-22T10:39:12.950305Z",
     "shell.execute_reply": "2023-02-22T10:39:12.948252Z"
    },
    "papermill": {
     "duration": 1.482381,
     "end_time": "2023-02-22T10:39:12.952823",
     "exception": false,
     "start_time": "2023-02-22T10:39:11.470442",
     "status": "completed"
    },
    "tags": []
   },
   "outputs": [
    {
     "name": "stdout",
     "output_type": "stream",
     "text": [
      "Finished batch 661\n"
     ]
    }
   ],
   "source": [
    "make_predictions(model, device=\"cuda\", mode=\"test\", batch_size=64)"
   ]
  },
  {
   "cell_type": "code",
   "execution_count": 21,
   "id": "5e6601ce",
   "metadata": {
    "execution": {
     "iopub.execute_input": "2023-02-22T10:39:15.222899Z",
     "iopub.status.busy": "2023-02-22T10:39:15.221739Z",
     "iopub.status.idle": "2023-02-22T10:39:15.237612Z",
     "shell.execute_reply": "2023-02-22T10:39:15.236542Z"
    },
    "papermill": {
     "duration": 1.201924,
     "end_time": "2023-02-22T10:39:15.240112",
     "exception": false,
     "start_time": "2023-02-22T10:39:14.038188",
     "status": "completed"
    },
    "tags": []
   },
   "outputs": [
    {
     "data": {
      "text/html": [
       "<div>\n",
       "<style scoped>\n",
       "    .dataframe tbody tr th:only-of-type {\n",
       "        vertical-align: middle;\n",
       "    }\n",
       "\n",
       "    .dataframe tbody tr th {\n",
       "        vertical-align: top;\n",
       "    }\n",
       "\n",
       "    .dataframe thead th {\n",
       "        text-align: right;\n",
       "    }\n",
       "</style>\n",
       "<table border=\"1\" class=\"dataframe\">\n",
       "  <thead>\n",
       "    <tr style=\"text-align: right;\">\n",
       "      <th></th>\n",
       "      <th>event_id</th>\n",
       "      <th>azimuth</th>\n",
       "      <th>zenith</th>\n",
       "    </tr>\n",
       "  </thead>\n",
       "  <tbody>\n",
       "    <tr>\n",
       "      <th>0</th>\n",
       "      <td>2092</td>\n",
       "      <td>0.0</td>\n",
       "      <td>0.0</td>\n",
       "    </tr>\n",
       "    <tr>\n",
       "      <th>1</th>\n",
       "      <td>7344</td>\n",
       "      <td>0.0</td>\n",
       "      <td>0.0</td>\n",
       "    </tr>\n",
       "    <tr>\n",
       "      <th>2</th>\n",
       "      <td>9482</td>\n",
       "      <td>0.0</td>\n",
       "      <td>0.0</td>\n",
       "    </tr>\n",
       "  </tbody>\n",
       "</table>\n",
       "</div>"
      ],
      "text/plain": [
       "   event_id  azimuth  zenith\n",
       "0      2092      0.0     0.0\n",
       "1      7344      0.0     0.0\n",
       "2      9482      0.0     0.0"
      ]
     },
     "execution_count": 21,
     "metadata": {},
     "output_type": "execute_result"
    }
   ],
   "source": [
    "pd.read_csv(\"submission.csv\")"
   ]
  },
  {
   "cell_type": "code",
   "execution_count": null,
   "id": "5bae5618",
   "metadata": {
    "papermill": {
     "duration": 1.193426,
     "end_time": "2023-02-22T10:39:17.528519",
     "exception": false,
     "start_time": "2023-02-22T10:39:16.335093",
     "status": "completed"
    },
    "tags": []
   },
   "outputs": [],
   "source": []
  }
 ],
 "metadata": {
  "kernelspec": {
   "display_name": "Python 3",
   "language": "python",
   "name": "python3"
  },
  "language_info": {
   "codemirror_mode": {
    "name": "ipython",
    "version": 3
   },
   "file_extension": ".py",
   "mimetype": "text/x-python",
   "name": "python",
   "nbconvert_exporter": "python",
   "pygments_lexer": "ipython3",
   "version": "3.7.12"
  },
  "papermill": {
   "default_parameters": {},
   "duration": 14423.873232,
   "end_time": "2023-02-22T10:39:22.361779",
   "environment_variables": {},
   "exception": null,
   "input_path": "__notebook__.ipynb",
   "output_path": "__notebook__.ipynb",
   "parameters": {},
   "start_time": "2023-02-22T06:38:58.488547",
   "version": "2.3.4"
  }
 },
 "nbformat": 4,
 "nbformat_minor": 5
}
